{
 "cells": [
  {
   "cell_type": "markdown",
   "metadata": {
    "id": "D0bUPQym6u--"
   },
   "source": [
    "# Pre-Setup"
   ]
  },
  {
   "cell_type": "markdown",
   "metadata": {
    "id": "QRLz_qFp6zOB"
   },
   "source": [
    "## Turning off unneccessary warnings."
   ]
  },
  {
   "cell_type": "code",
   "execution_count": 1,
   "metadata": {
    "execution": {
     "iopub.execute_input": "2025-03-03T02:41:26.252645Z",
     "iopub.status.busy": "2025-03-03T02:41:26.252645Z",
     "iopub.status.idle": "2025-03-03T02:41:26.255812Z",
     "shell.execute_reply": "2025-03-03T02:41:26.255812Z"
    },
    "id": "8VUp9WNj6s8V"
   },
   "outputs": [],
   "source": [
    "import warnings\n",
    "warnings.filterwarnings('ignore')"
   ]
  },
  {
   "cell_type": "markdown",
   "metadata": {
    "id": "AIKgGW0pk5d-"
   },
   "source": [
    "## Libraries Install"
   ]
  },
  {
   "cell_type": "markdown",
   "metadata": {
    "id": "JjCQoyVixLt4"
   },
   "source": [
    "# 1. Exploratory Data Analysis"
   ]
  },
  {
   "cell_type": "markdown",
   "metadata": {
    "id": "ih7MOmV6vHLe"
   },
   "source": [
    "# 2. Data Preprocessing"
   ]
  },
  {
   "cell_type": "markdown",
   "metadata": {
    "id": "gOKQJOIFvLzW"
   },
   "source": [
    "## Libraries Import\n",
    "Importing library for importing data and preprocessing data."
   ]
  },
  {
   "cell_type": "code",
   "execution_count": 2,
   "metadata": {
    "execution": {
     "iopub.execute_input": "2025-03-03T02:41:26.257820Z",
     "iopub.status.busy": "2025-03-03T02:41:26.257820Z",
     "iopub.status.idle": "2025-03-03T02:41:28.104776Z",
     "shell.execute_reply": "2025-03-03T02:41:28.104776Z"
    },
    "id": "2TRiosCwJJJ0"
   },
   "outputs": [],
   "source": [
    "import numpy as np\n",
    "import pandas as pd\n",
    "import matplotlib.pyplot as plt\n",
    "import seaborn as sns\n",
    "import statsmodels.api as sm\n",
    "import scipy.stats as sp"
   ]
  },
  {
   "cell_type": "markdown",
   "metadata": {
    "id": "h3Y4qD3PvS-A"
   },
   "source": [
    "## Data Import\n",
    "Using pandas to import the data from \"Obesity prediction.csv\" as a dataframe -> Matrix Like object."
   ]
  },
  {
   "cell_type": "code",
   "execution_count": 3,
   "metadata": {
    "colab": {
     "base_uri": "https://localhost:8080/"
    },
    "execution": {
     "iopub.execute_input": "2025-03-03T02:41:28.106816Z",
     "iopub.status.busy": "2025-03-03T02:41:28.106816Z",
     "iopub.status.idle": "2025-03-03T02:41:28.111270Z",
     "shell.execute_reply": "2025-03-03T02:41:28.111270Z"
    },
    "id": "wmQbibPqkxh8",
    "outputId": "9744f3e7-3e35-4a48-94a6-d7654d91b9fd"
   },
   "outputs": [
    {
     "name": "stdout",
     "output_type": "stream",
     "text": [
      "Path to dataset files: ./Obesity prediction.csv\n"
     ]
    }
   ],
   "source": [
    "# import kagglehub\n",
    "\n",
    "# Download latest version\n",
    "# path = kagglehub.dataset_download(\"ruchikakumbhar/obesity-prediction\") + \"/Obesity prediction.csv\"\n",
    "path = './Obesity prediction.csv'\n",
    "\n",
    "print(\"Path to dataset files:\", path)"
   ]
  },
  {
   "cell_type": "code",
   "execution_count": 4,
   "metadata": {
    "colab": {
     "base_uri": "https://localhost:8080/",
     "height": 226
    },
    "execution": {
     "iopub.execute_input": "2025-03-03T02:41:28.142310Z",
     "iopub.status.busy": "2025-03-03T02:41:28.142310Z",
     "iopub.status.idle": "2025-03-03T02:41:28.166518Z",
     "shell.execute_reply": "2025-03-03T02:41:28.166518Z"
    },
    "id": "A-DPVoQOGkEa",
    "outputId": "c1fa22eb-ac69-439b-a2af-348acf6d9d3f"
   },
   "outputs": [
    {
     "data": {
      "text/html": [
       "<div>\n",
       "<style scoped>\n",
       "    .dataframe tbody tr th:only-of-type {\n",
       "        vertical-align: middle;\n",
       "    }\n",
       "\n",
       "    .dataframe tbody tr th {\n",
       "        vertical-align: top;\n",
       "    }\n",
       "\n",
       "    .dataframe thead th {\n",
       "        text-align: right;\n",
       "    }\n",
       "</style>\n",
       "<table border=\"1\" class=\"dataframe\">\n",
       "  <thead>\n",
       "    <tr style=\"text-align: right;\">\n",
       "      <th></th>\n",
       "      <th>Gender</th>\n",
       "      <th>Age</th>\n",
       "      <th>Height</th>\n",
       "      <th>Weight</th>\n",
       "      <th>family_history</th>\n",
       "      <th>FAVC</th>\n",
       "      <th>FCVC</th>\n",
       "      <th>NCP</th>\n",
       "      <th>CAEC</th>\n",
       "      <th>SMOKE</th>\n",
       "      <th>CH2O</th>\n",
       "      <th>SCC</th>\n",
       "      <th>FAF</th>\n",
       "      <th>TUE</th>\n",
       "      <th>CALC</th>\n",
       "      <th>MTRANS</th>\n",
       "      <th>Obesity</th>\n",
       "    </tr>\n",
       "  </thead>\n",
       "  <tbody>\n",
       "    <tr>\n",
       "      <th>0</th>\n",
       "      <td>Female</td>\n",
       "      <td>21.0</td>\n",
       "      <td>1.62</td>\n",
       "      <td>64.0</td>\n",
       "      <td>yes</td>\n",
       "      <td>no</td>\n",
       "      <td>2.0</td>\n",
       "      <td>3.0</td>\n",
       "      <td>Sometimes</td>\n",
       "      <td>no</td>\n",
       "      <td>2.0</td>\n",
       "      <td>no</td>\n",
       "      <td>0.0</td>\n",
       "      <td>1.0</td>\n",
       "      <td>no</td>\n",
       "      <td>Public_Transportation</td>\n",
       "      <td>Normal_Weight</td>\n",
       "    </tr>\n",
       "    <tr>\n",
       "      <th>1</th>\n",
       "      <td>Female</td>\n",
       "      <td>21.0</td>\n",
       "      <td>1.52</td>\n",
       "      <td>56.0</td>\n",
       "      <td>yes</td>\n",
       "      <td>no</td>\n",
       "      <td>3.0</td>\n",
       "      <td>3.0</td>\n",
       "      <td>Sometimes</td>\n",
       "      <td>yes</td>\n",
       "      <td>3.0</td>\n",
       "      <td>yes</td>\n",
       "      <td>3.0</td>\n",
       "      <td>0.0</td>\n",
       "      <td>Sometimes</td>\n",
       "      <td>Public_Transportation</td>\n",
       "      <td>Normal_Weight</td>\n",
       "    </tr>\n",
       "    <tr>\n",
       "      <th>2</th>\n",
       "      <td>Male</td>\n",
       "      <td>23.0</td>\n",
       "      <td>1.80</td>\n",
       "      <td>77.0</td>\n",
       "      <td>yes</td>\n",
       "      <td>no</td>\n",
       "      <td>2.0</td>\n",
       "      <td>3.0</td>\n",
       "      <td>Sometimes</td>\n",
       "      <td>no</td>\n",
       "      <td>2.0</td>\n",
       "      <td>no</td>\n",
       "      <td>2.0</td>\n",
       "      <td>1.0</td>\n",
       "      <td>Frequently</td>\n",
       "      <td>Public_Transportation</td>\n",
       "      <td>Normal_Weight</td>\n",
       "    </tr>\n",
       "    <tr>\n",
       "      <th>3</th>\n",
       "      <td>Male</td>\n",
       "      <td>27.0</td>\n",
       "      <td>1.80</td>\n",
       "      <td>87.0</td>\n",
       "      <td>no</td>\n",
       "      <td>no</td>\n",
       "      <td>3.0</td>\n",
       "      <td>3.0</td>\n",
       "      <td>Sometimes</td>\n",
       "      <td>no</td>\n",
       "      <td>2.0</td>\n",
       "      <td>no</td>\n",
       "      <td>2.0</td>\n",
       "      <td>0.0</td>\n",
       "      <td>Frequently</td>\n",
       "      <td>Walking</td>\n",
       "      <td>Overweight_Level_I</td>\n",
       "    </tr>\n",
       "    <tr>\n",
       "      <th>4</th>\n",
       "      <td>Male</td>\n",
       "      <td>22.0</td>\n",
       "      <td>1.78</td>\n",
       "      <td>89.8</td>\n",
       "      <td>no</td>\n",
       "      <td>no</td>\n",
       "      <td>2.0</td>\n",
       "      <td>1.0</td>\n",
       "      <td>Sometimes</td>\n",
       "      <td>no</td>\n",
       "      <td>2.0</td>\n",
       "      <td>no</td>\n",
       "      <td>0.0</td>\n",
       "      <td>0.0</td>\n",
       "      <td>Sometimes</td>\n",
       "      <td>Public_Transportation</td>\n",
       "      <td>Overweight_Level_II</td>\n",
       "    </tr>\n",
       "  </tbody>\n",
       "</table>\n",
       "</div>"
      ],
      "text/plain": [
       "   Gender   Age  Height  Weight family_history FAVC  FCVC  NCP       CAEC  \\\n",
       "0  Female  21.0    1.62    64.0            yes   no   2.0  3.0  Sometimes   \n",
       "1  Female  21.0    1.52    56.0            yes   no   3.0  3.0  Sometimes   \n",
       "2    Male  23.0    1.80    77.0            yes   no   2.0  3.0  Sometimes   \n",
       "3    Male  27.0    1.80    87.0             no   no   3.0  3.0  Sometimes   \n",
       "4    Male  22.0    1.78    89.8             no   no   2.0  1.0  Sometimes   \n",
       "\n",
       "  SMOKE  CH2O  SCC  FAF  TUE        CALC                 MTRANS  \\\n",
       "0    no   2.0   no  0.0  1.0          no  Public_Transportation   \n",
       "1   yes   3.0  yes  3.0  0.0   Sometimes  Public_Transportation   \n",
       "2    no   2.0   no  2.0  1.0  Frequently  Public_Transportation   \n",
       "3    no   2.0   no  2.0  0.0  Frequently                Walking   \n",
       "4    no   2.0   no  0.0  0.0   Sometimes  Public_Transportation   \n",
       "\n",
       "               Obesity  \n",
       "0        Normal_Weight  \n",
       "1        Normal_Weight  \n",
       "2        Normal_Weight  \n",
       "3   Overweight_Level_I  \n",
       "4  Overweight_Level_II  "
      ]
     },
     "execution_count": 4,
     "metadata": {},
     "output_type": "execute_result"
    }
   ],
   "source": [
    "df = pd.read_csv(path)\n",
    "df.head(5)"
   ]
  },
  {
   "cell_type": "code",
   "execution_count": 5,
   "metadata": {
    "execution": {
     "iopub.execute_input": "2025-03-03T02:41:28.168559Z",
     "iopub.status.busy": "2025-03-03T02:41:28.168559Z",
     "iopub.status.idle": "2025-03-03T02:41:28.173595Z",
     "shell.execute_reply": "2025-03-03T02:41:28.173595Z"
    }
   },
   "outputs": [
    {
     "data": {
      "text/plain": [
       "MTRANS\n",
       "Public_Transportation    1580\n",
       "Automobile                457\n",
       "Walking                    56\n",
       "Motorbike                  11\n",
       "Bike                        7\n",
       "Name: count, dtype: int64"
      ]
     },
     "execution_count": 5,
     "metadata": {},
     "output_type": "execute_result"
    }
   ],
   "source": [
    "df['MTRANS'].value_counts()"
   ]
  },
  {
   "cell_type": "markdown",
   "metadata": {
    "id": "Rnzwf2IyxQzP"
   },
   "source": [
    "## Data General Info\n",
    "General Data Information including data types, null value counts, and the statistical info for each column."
   ]
  },
  {
   "cell_type": "markdown",
   "metadata": {
    "id": "QoxNCRZQvZi4"
   },
   "source": [
    "### Columns and Data Types"
   ]
  },
  {
   "cell_type": "code",
   "execution_count": 6,
   "metadata": {
    "colab": {
     "base_uri": "https://localhost:8080/"
    },
    "execution": {
     "iopub.execute_input": "2025-03-03T02:41:28.175635Z",
     "iopub.status.busy": "2025-03-03T02:41:28.175635Z",
     "iopub.status.idle": "2025-03-03T02:41:28.182590Z",
     "shell.execute_reply": "2025-03-03T02:41:28.182590Z"
    },
    "id": "dWbNHyLcG-hI",
    "outputId": "fba65764-9985-4da9-e9db-ae42503e657e"
   },
   "outputs": [
    {
     "name": "stdout",
     "output_type": "stream",
     "text": [
      "<class 'pandas.core.frame.DataFrame'>\n",
      "RangeIndex: 2111 entries, 0 to 2110\n",
      "Data columns (total 17 columns):\n",
      " #   Column          Non-Null Count  Dtype  \n",
      "---  ------          --------------  -----  \n",
      " 0   Gender          2111 non-null   object \n",
      " 1   Age             2111 non-null   float64\n",
      " 2   Height          2111 non-null   float64\n",
      " 3   Weight          2111 non-null   float64\n",
      " 4   family_history  2111 non-null   object \n",
      " 5   FAVC            2111 non-null   object \n",
      " 6   FCVC            2111 non-null   float64\n",
      " 7   NCP             2111 non-null   float64\n",
      " 8   CAEC            2111 non-null   object \n",
      " 9   SMOKE           2111 non-null   object \n",
      " 10  CH2O            2111 non-null   float64\n",
      " 11  SCC             2111 non-null   object \n",
      " 12  FAF             2111 non-null   float64\n",
      " 13  TUE             2111 non-null   float64\n",
      " 14  CALC            2111 non-null   object \n",
      " 15  MTRANS          2111 non-null   object \n",
      " 16  Obesity         2111 non-null   object \n",
      "dtypes: float64(8), object(9)\n",
      "memory usage: 280.5+ KB\n"
     ]
    }
   ],
   "source": [
    "df.info()"
   ]
  },
  {
   "cell_type": "code",
   "execution_count": 7,
   "metadata": {
    "colab": {
     "base_uri": "https://localhost:8080/",
     "height": 414
    },
    "execution": {
     "iopub.execute_input": "2025-03-03T02:41:28.184629Z",
     "iopub.status.busy": "2025-03-03T02:41:28.183629Z",
     "iopub.status.idle": "2025-03-03T02:41:28.209343Z",
     "shell.execute_reply": "2025-03-03T02:41:28.209343Z"
    },
    "id": "Uelih3URHC7Q",
    "outputId": "0bf343be-16a9-41a9-9f51-2ff4641ea9b6"
   },
   "outputs": [
    {
     "data": {
      "text/html": [
       "<div>\n",
       "<style scoped>\n",
       "    .dataframe tbody tr th:only-of-type {\n",
       "        vertical-align: middle;\n",
       "    }\n",
       "\n",
       "    .dataframe tbody tr th {\n",
       "        vertical-align: top;\n",
       "    }\n",
       "\n",
       "    .dataframe thead th {\n",
       "        text-align: right;\n",
       "    }\n",
       "</style>\n",
       "<table border=\"1\" class=\"dataframe\">\n",
       "  <thead>\n",
       "    <tr style=\"text-align: right;\">\n",
       "      <th></th>\n",
       "      <th>Gender</th>\n",
       "      <th>Age</th>\n",
       "      <th>Height</th>\n",
       "      <th>Weight</th>\n",
       "      <th>family_history</th>\n",
       "      <th>FAVC</th>\n",
       "      <th>FCVC</th>\n",
       "      <th>NCP</th>\n",
       "      <th>CAEC</th>\n",
       "      <th>SMOKE</th>\n",
       "      <th>CH2O</th>\n",
       "      <th>SCC</th>\n",
       "      <th>FAF</th>\n",
       "      <th>TUE</th>\n",
       "      <th>CALC</th>\n",
       "      <th>MTRANS</th>\n",
       "      <th>Obesity</th>\n",
       "    </tr>\n",
       "  </thead>\n",
       "  <tbody>\n",
       "    <tr>\n",
       "      <th>count</th>\n",
       "      <td>2111</td>\n",
       "      <td>2111.000000</td>\n",
       "      <td>2111.000000</td>\n",
       "      <td>2111.000000</td>\n",
       "      <td>2111</td>\n",
       "      <td>2111</td>\n",
       "      <td>2111.000000</td>\n",
       "      <td>2111.000000</td>\n",
       "      <td>2111</td>\n",
       "      <td>2111</td>\n",
       "      <td>2111.000000</td>\n",
       "      <td>2111</td>\n",
       "      <td>2111.000000</td>\n",
       "      <td>2111.000000</td>\n",
       "      <td>2111</td>\n",
       "      <td>2111</td>\n",
       "      <td>2111</td>\n",
       "    </tr>\n",
       "    <tr>\n",
       "      <th>unique</th>\n",
       "      <td>2</td>\n",
       "      <td>NaN</td>\n",
       "      <td>NaN</td>\n",
       "      <td>NaN</td>\n",
       "      <td>2</td>\n",
       "      <td>2</td>\n",
       "      <td>NaN</td>\n",
       "      <td>NaN</td>\n",
       "      <td>4</td>\n",
       "      <td>2</td>\n",
       "      <td>NaN</td>\n",
       "      <td>2</td>\n",
       "      <td>NaN</td>\n",
       "      <td>NaN</td>\n",
       "      <td>4</td>\n",
       "      <td>5</td>\n",
       "      <td>7</td>\n",
       "    </tr>\n",
       "    <tr>\n",
       "      <th>top</th>\n",
       "      <td>Male</td>\n",
       "      <td>NaN</td>\n",
       "      <td>NaN</td>\n",
       "      <td>NaN</td>\n",
       "      <td>yes</td>\n",
       "      <td>yes</td>\n",
       "      <td>NaN</td>\n",
       "      <td>NaN</td>\n",
       "      <td>Sometimes</td>\n",
       "      <td>no</td>\n",
       "      <td>NaN</td>\n",
       "      <td>no</td>\n",
       "      <td>NaN</td>\n",
       "      <td>NaN</td>\n",
       "      <td>Sometimes</td>\n",
       "      <td>Public_Transportation</td>\n",
       "      <td>Obesity_Type_I</td>\n",
       "    </tr>\n",
       "    <tr>\n",
       "      <th>freq</th>\n",
       "      <td>1068</td>\n",
       "      <td>NaN</td>\n",
       "      <td>NaN</td>\n",
       "      <td>NaN</td>\n",
       "      <td>1726</td>\n",
       "      <td>1866</td>\n",
       "      <td>NaN</td>\n",
       "      <td>NaN</td>\n",
       "      <td>1765</td>\n",
       "      <td>2067</td>\n",
       "      <td>NaN</td>\n",
       "      <td>2015</td>\n",
       "      <td>NaN</td>\n",
       "      <td>NaN</td>\n",
       "      <td>1401</td>\n",
       "      <td>1580</td>\n",
       "      <td>351</td>\n",
       "    </tr>\n",
       "    <tr>\n",
       "      <th>mean</th>\n",
       "      <td>NaN</td>\n",
       "      <td>24.312600</td>\n",
       "      <td>1.701677</td>\n",
       "      <td>86.586058</td>\n",
       "      <td>NaN</td>\n",
       "      <td>NaN</td>\n",
       "      <td>2.419043</td>\n",
       "      <td>2.685628</td>\n",
       "      <td>NaN</td>\n",
       "      <td>NaN</td>\n",
       "      <td>2.008011</td>\n",
       "      <td>NaN</td>\n",
       "      <td>1.010298</td>\n",
       "      <td>0.657866</td>\n",
       "      <td>NaN</td>\n",
       "      <td>NaN</td>\n",
       "      <td>NaN</td>\n",
       "    </tr>\n",
       "    <tr>\n",
       "      <th>std</th>\n",
       "      <td>NaN</td>\n",
       "      <td>6.345968</td>\n",
       "      <td>0.093305</td>\n",
       "      <td>26.191172</td>\n",
       "      <td>NaN</td>\n",
       "      <td>NaN</td>\n",
       "      <td>0.533927</td>\n",
       "      <td>0.778039</td>\n",
       "      <td>NaN</td>\n",
       "      <td>NaN</td>\n",
       "      <td>0.612953</td>\n",
       "      <td>NaN</td>\n",
       "      <td>0.850592</td>\n",
       "      <td>0.608927</td>\n",
       "      <td>NaN</td>\n",
       "      <td>NaN</td>\n",
       "      <td>NaN</td>\n",
       "    </tr>\n",
       "    <tr>\n",
       "      <th>min</th>\n",
       "      <td>NaN</td>\n",
       "      <td>14.000000</td>\n",
       "      <td>1.450000</td>\n",
       "      <td>39.000000</td>\n",
       "      <td>NaN</td>\n",
       "      <td>NaN</td>\n",
       "      <td>1.000000</td>\n",
       "      <td>1.000000</td>\n",
       "      <td>NaN</td>\n",
       "      <td>NaN</td>\n",
       "      <td>1.000000</td>\n",
       "      <td>NaN</td>\n",
       "      <td>0.000000</td>\n",
       "      <td>0.000000</td>\n",
       "      <td>NaN</td>\n",
       "      <td>NaN</td>\n",
       "      <td>NaN</td>\n",
       "    </tr>\n",
       "    <tr>\n",
       "      <th>25%</th>\n",
       "      <td>NaN</td>\n",
       "      <td>19.947192</td>\n",
       "      <td>1.630000</td>\n",
       "      <td>65.473343</td>\n",
       "      <td>NaN</td>\n",
       "      <td>NaN</td>\n",
       "      <td>2.000000</td>\n",
       "      <td>2.658738</td>\n",
       "      <td>NaN</td>\n",
       "      <td>NaN</td>\n",
       "      <td>1.584812</td>\n",
       "      <td>NaN</td>\n",
       "      <td>0.124505</td>\n",
       "      <td>0.000000</td>\n",
       "      <td>NaN</td>\n",
       "      <td>NaN</td>\n",
       "      <td>NaN</td>\n",
       "    </tr>\n",
       "    <tr>\n",
       "      <th>50%</th>\n",
       "      <td>NaN</td>\n",
       "      <td>22.777890</td>\n",
       "      <td>1.700499</td>\n",
       "      <td>83.000000</td>\n",
       "      <td>NaN</td>\n",
       "      <td>NaN</td>\n",
       "      <td>2.385502</td>\n",
       "      <td>3.000000</td>\n",
       "      <td>NaN</td>\n",
       "      <td>NaN</td>\n",
       "      <td>2.000000</td>\n",
       "      <td>NaN</td>\n",
       "      <td>1.000000</td>\n",
       "      <td>0.625350</td>\n",
       "      <td>NaN</td>\n",
       "      <td>NaN</td>\n",
       "      <td>NaN</td>\n",
       "    </tr>\n",
       "    <tr>\n",
       "      <th>75%</th>\n",
       "      <td>NaN</td>\n",
       "      <td>26.000000</td>\n",
       "      <td>1.768464</td>\n",
       "      <td>107.430682</td>\n",
       "      <td>NaN</td>\n",
       "      <td>NaN</td>\n",
       "      <td>3.000000</td>\n",
       "      <td>3.000000</td>\n",
       "      <td>NaN</td>\n",
       "      <td>NaN</td>\n",
       "      <td>2.477420</td>\n",
       "      <td>NaN</td>\n",
       "      <td>1.666678</td>\n",
       "      <td>1.000000</td>\n",
       "      <td>NaN</td>\n",
       "      <td>NaN</td>\n",
       "      <td>NaN</td>\n",
       "    </tr>\n",
       "    <tr>\n",
       "      <th>max</th>\n",
       "      <td>NaN</td>\n",
       "      <td>61.000000</td>\n",
       "      <td>1.980000</td>\n",
       "      <td>173.000000</td>\n",
       "      <td>NaN</td>\n",
       "      <td>NaN</td>\n",
       "      <td>3.000000</td>\n",
       "      <td>4.000000</td>\n",
       "      <td>NaN</td>\n",
       "      <td>NaN</td>\n",
       "      <td>3.000000</td>\n",
       "      <td>NaN</td>\n",
       "      <td>3.000000</td>\n",
       "      <td>2.000000</td>\n",
       "      <td>NaN</td>\n",
       "      <td>NaN</td>\n",
       "      <td>NaN</td>\n",
       "    </tr>\n",
       "  </tbody>\n",
       "</table>\n",
       "</div>"
      ],
      "text/plain": [
       "       Gender          Age       Height       Weight family_history  FAVC  \\\n",
       "count    2111  2111.000000  2111.000000  2111.000000           2111  2111   \n",
       "unique      2          NaN          NaN          NaN              2     2   \n",
       "top      Male          NaN          NaN          NaN            yes   yes   \n",
       "freq     1068          NaN          NaN          NaN           1726  1866   \n",
       "mean      NaN    24.312600     1.701677    86.586058            NaN   NaN   \n",
       "std       NaN     6.345968     0.093305    26.191172            NaN   NaN   \n",
       "min       NaN    14.000000     1.450000    39.000000            NaN   NaN   \n",
       "25%       NaN    19.947192     1.630000    65.473343            NaN   NaN   \n",
       "50%       NaN    22.777890     1.700499    83.000000            NaN   NaN   \n",
       "75%       NaN    26.000000     1.768464   107.430682            NaN   NaN   \n",
       "max       NaN    61.000000     1.980000   173.000000            NaN   NaN   \n",
       "\n",
       "               FCVC          NCP       CAEC SMOKE         CH2O   SCC  \\\n",
       "count   2111.000000  2111.000000       2111  2111  2111.000000  2111   \n",
       "unique          NaN          NaN          4     2          NaN     2   \n",
       "top             NaN          NaN  Sometimes    no          NaN    no   \n",
       "freq            NaN          NaN       1765  2067          NaN  2015   \n",
       "mean       2.419043     2.685628        NaN   NaN     2.008011   NaN   \n",
       "std        0.533927     0.778039        NaN   NaN     0.612953   NaN   \n",
       "min        1.000000     1.000000        NaN   NaN     1.000000   NaN   \n",
       "25%        2.000000     2.658738        NaN   NaN     1.584812   NaN   \n",
       "50%        2.385502     3.000000        NaN   NaN     2.000000   NaN   \n",
       "75%        3.000000     3.000000        NaN   NaN     2.477420   NaN   \n",
       "max        3.000000     4.000000        NaN   NaN     3.000000   NaN   \n",
       "\n",
       "                FAF          TUE       CALC                 MTRANS  \\\n",
       "count   2111.000000  2111.000000       2111                   2111   \n",
       "unique          NaN          NaN          4                      5   \n",
       "top             NaN          NaN  Sometimes  Public_Transportation   \n",
       "freq            NaN          NaN       1401                   1580   \n",
       "mean       1.010298     0.657866        NaN                    NaN   \n",
       "std        0.850592     0.608927        NaN                    NaN   \n",
       "min        0.000000     0.000000        NaN                    NaN   \n",
       "25%        0.124505     0.000000        NaN                    NaN   \n",
       "50%        1.000000     0.625350        NaN                    NaN   \n",
       "75%        1.666678     1.000000        NaN                    NaN   \n",
       "max        3.000000     2.000000        NaN                    NaN   \n",
       "\n",
       "               Obesity  \n",
       "count             2111  \n",
       "unique               7  \n",
       "top     Obesity_Type_I  \n",
       "freq               351  \n",
       "mean               NaN  \n",
       "std                NaN  \n",
       "min                NaN  \n",
       "25%                NaN  \n",
       "50%                NaN  \n",
       "75%                NaN  \n",
       "max                NaN  "
      ]
     },
     "execution_count": 7,
     "metadata": {},
     "output_type": "execute_result"
    }
   ],
   "source": [
    "df.describe(include='all')"
   ]
  },
  {
   "cell_type": "code",
   "execution_count": 8,
   "metadata": {
    "colab": {
     "base_uri": "https://localhost:8080/",
     "height": 335
    },
    "execution": {
     "iopub.execute_input": "2025-03-03T02:41:28.211384Z",
     "iopub.status.busy": "2025-03-03T02:41:28.211384Z",
     "iopub.status.idle": "2025-03-03T02:41:28.215189Z",
     "shell.execute_reply": "2025-03-03T02:41:28.215189Z"
    },
    "id": "dfyr7Qu4LAP8",
    "outputId": "21a229b5-3bc2-44ba-905a-8ff348f5470e"
   },
   "outputs": [
    {
     "data": {
      "text/plain": [
       "Obesity\n",
       "Obesity_Type_I         351\n",
       "Obesity_Type_III       324\n",
       "Obesity_Type_II        297\n",
       "Overweight_Level_I     290\n",
       "Overweight_Level_II    290\n",
       "Normal_Weight          287\n",
       "Insufficient_Weight    272\n",
       "Name: count, dtype: int64"
      ]
     },
     "execution_count": 8,
     "metadata": {},
     "output_type": "execute_result"
    }
   ],
   "source": [
    "obesity_dist = df['Obesity'].value_counts()\n",
    "obesity_dist"
   ]
  },
  {
   "cell_type": "markdown",
   "metadata": {
    "id": "2ME6idvjxVrs"
   },
   "source": [
    "### Missing Data"
   ]
  },
  {
   "cell_type": "code",
   "execution_count": 9,
   "metadata": {
    "colab": {
     "base_uri": "https://localhost:8080/"
    },
    "execution": {
     "iopub.execute_input": "2025-03-03T02:41:28.217229Z",
     "iopub.status.busy": "2025-03-03T02:41:28.217229Z",
     "iopub.status.idle": "2025-03-03T02:41:28.222436Z",
     "shell.execute_reply": "2025-03-03T02:41:28.222436Z"
    },
    "id": "MHNmpEPuxgxM",
    "outputId": "0cc5c75a-e625-4f86-95d6-38d69256df14"
   },
   "outputs": [
    {
     "name": "stdout",
     "output_type": "stream",
     "text": [
      "Gender            0\n",
      "Age               0\n",
      "Height            0\n",
      "Weight            0\n",
      "family_history    0\n",
      "FAVC              0\n",
      "FCVC              0\n",
      "NCP               0\n",
      "CAEC              0\n",
      "SMOKE             0\n",
      "CH2O              0\n",
      "SCC               0\n",
      "FAF               0\n",
      "TUE               0\n",
      "CALC              0\n",
      "MTRANS            0\n",
      "Obesity           0\n",
      "dtype: int64\n",
      "\n",
      "Total missing data: 0\n"
     ]
    }
   ],
   "source": [
    "print(df.isnull().sum())\n",
    "print()\n",
    "print(f'Total missing data: {df.isnull().sum().sum()}')"
   ]
  },
  {
   "cell_type": "markdown",
   "metadata": {
    "id": "9zdo3kkyxrs6"
   },
   "source": [
    "There is no missing data in the dataset."
   ]
  },
  {
   "cell_type": "markdown",
   "metadata": {
    "id": "l71EA-jEwSab"
   },
   "source": [
    "## Duplicate Data\n",
    "Checking for duplicate rows, and handling them. Because this is a dataset of people with Obesity category, then duplicate data does not matter because we are not accounting demography or the occurence of the same condition twice for each person, so we can remove the duplicate."
   ]
  },
  {
   "cell_type": "markdown",
   "metadata": {
    "id": "RAuk9REEwprv"
   },
   "source": [
    "### Checking for Duplicate Data"
   ]
  },
  {
   "cell_type": "code",
   "execution_count": 10,
   "metadata": {
    "colab": {
     "base_uri": "https://localhost:8080/"
    },
    "execution": {
     "iopub.execute_input": "2025-03-03T02:41:28.224476Z",
     "iopub.status.busy": "2025-03-03T02:41:28.224476Z",
     "iopub.status.idle": "2025-03-03T02:41:28.229323Z",
     "shell.execute_reply": "2025-03-03T02:41:28.229323Z"
    },
    "id": "JVXfrfBJwqhI",
    "outputId": "55dd7790-22e1-41d1-f3a9-144440833527"
   },
   "outputs": [
    {
     "name": "stdout",
     "output_type": "stream",
     "text": [
      "Duplicate row count: 24\n"
     ]
    }
   ],
   "source": [
    "print(f\"Duplicate row count: {df.duplicated().sum()}\")"
   ]
  },
  {
   "cell_type": "code",
   "execution_count": 11,
   "metadata": {
    "colab": {
     "base_uri": "https://localhost:8080/"
    },
    "execution": {
     "iopub.execute_input": "2025-03-03T02:41:28.231363Z",
     "iopub.status.busy": "2025-03-03T02:41:28.230363Z",
     "iopub.status.idle": "2025-03-03T02:41:31.846524Z",
     "shell.execute_reply": "2025-03-03T02:41:31.846524Z"
    },
    "id": "9bHbR6CJxQCU",
    "outputId": "724453b8-acfd-4dd0-cfa0-06a6c3cbb186"
   },
   "outputs": [
    {
     "name": "stdout",
     "output_type": "stream",
     "text": [
      "Duplicated Data:\n"
     ]
    },
    {
     "name": "stdout",
     "output_type": "stream",
     "text": [
      "     Gender   Age  Height  Weight family_history FAVC  FCVC  NCP        CAEC  \\\n",
      "98   Female  21.0    1.52    42.0             no   no   3.0  1.0  Frequently   \n",
      "106  Female  25.0    1.57    55.0             no  yes   2.0  1.0   Sometimes   \n",
      "174    Male  21.0    1.62    70.0             no  yes   2.0  1.0          no   \n",
      "179    Male  21.0    1.62    70.0             no  yes   2.0  1.0          no   \n",
      "184    Male  21.0    1.62    70.0             no  yes   2.0  1.0          no   \n",
      "209  Female  22.0    1.69    65.0            yes  yes   2.0  3.0   Sometimes   \n",
      "309  Female  16.0    1.66    58.0             no   no   2.0  1.0   Sometimes   \n",
      "460  Female  18.0    1.62    55.0            yes  yes   2.0  3.0  Frequently   \n",
      "467    Male  22.0    1.74    75.0            yes  yes   3.0  3.0  Frequently   \n",
      "496    Male  18.0    1.72    53.0            yes  yes   2.0  3.0   Sometimes   \n",
      "527  Female  21.0    1.52    42.0             no  yes   3.0  1.0  Frequently   \n",
      "659  Female  21.0    1.52    42.0             no  yes   3.0  1.0  Frequently   \n",
      "663  Female  21.0    1.52    42.0             no  yes   3.0  1.0  Frequently   \n",
      "763    Male  21.0    1.62    70.0             no  yes   2.0  1.0          no   \n",
      "764    Male  21.0    1.62    70.0             no  yes   2.0  1.0          no   \n",
      "824    Male  21.0    1.62    70.0             no  yes   2.0  1.0          no   \n",
      "830    Male  21.0    1.62    70.0             no  yes   2.0  1.0          no   \n",
      "831    Male  21.0    1.62    70.0             no  yes   2.0  1.0          no   \n",
      "832    Male  21.0    1.62    70.0             no  yes   2.0  1.0          no   \n",
      "833    Male  21.0    1.62    70.0             no  yes   2.0  1.0          no   \n",
      "834    Male  21.0    1.62    70.0             no  yes   2.0  1.0          no   \n",
      "921    Male  21.0    1.62    70.0             no  yes   2.0  1.0          no   \n",
      "922    Male  21.0    1.62    70.0             no  yes   2.0  1.0          no   \n",
      "923    Male  21.0    1.62    70.0             no  yes   2.0  1.0          no   \n",
      "\n",
      "    SMOKE  CH2O SCC  FAF  TUE       CALC                 MTRANS  \\\n",
      "98     no   1.0  no  0.0  0.0  Sometimes  Public_Transportation   \n",
      "106    no   2.0  no  2.0  0.0  Sometimes  Public_Transportation   \n",
      "174    no   3.0  no  1.0  0.0  Sometimes  Public_Transportation   \n",
      "179    no   3.0  no  1.0  0.0  Sometimes  Public_Transportation   \n",
      "184    no   3.0  no  1.0  0.0  Sometimes  Public_Transportation   \n",
      "209    no   2.0  no  1.0  1.0  Sometimes  Public_Transportation   \n",
      "309    no   1.0  no  0.0  1.0         no                Walking   \n",
      "460    no   1.0  no  1.0  1.0         no  Public_Transportation   \n",
      "467    no   1.0  no  1.0  0.0         no             Automobile   \n",
      "496    no   2.0  no  0.0  2.0  Sometimes  Public_Transportation   \n",
      "527    no   1.0  no  0.0  0.0  Sometimes  Public_Transportation   \n",
      "659    no   1.0  no  0.0  0.0  Sometimes  Public_Transportation   \n",
      "663    no   1.0  no  0.0  0.0  Sometimes  Public_Transportation   \n",
      "763    no   3.0  no  1.0  0.0  Sometimes  Public_Transportation   \n",
      "764    no   3.0  no  1.0  0.0  Sometimes  Public_Transportation   \n",
      "824    no   3.0  no  1.0  0.0  Sometimes  Public_Transportation   \n",
      "830    no   3.0  no  1.0  0.0  Sometimes  Public_Transportation   \n",
      "831    no   3.0  no  1.0  0.0  Sometimes  Public_Transportation   \n",
      "832    no   3.0  no  1.0  0.0  Sometimes  Public_Transportation   \n",
      "833    no   3.0  no  1.0  0.0  Sometimes  Public_Transportation   \n",
      "834    no   3.0  no  1.0  0.0  Sometimes  Public_Transportation   \n",
      "921    no   3.0  no  1.0  0.0  Sometimes  Public_Transportation   \n",
      "922    no   3.0  no  1.0  0.0  Sometimes  Public_Transportation   \n",
      "923    no   3.0  no  1.0  0.0  Sometimes  Public_Transportation   \n",
      "\n",
      "                 Obesity  \n",
      "98   Insufficient_Weight  \n",
      "106        Normal_Weight  \n",
      "174   Overweight_Level_I  \n",
      "179   Overweight_Level_I  \n",
      "184   Overweight_Level_I  \n",
      "209        Normal_Weight  \n",
      "309        Normal_Weight  \n",
      "460        Normal_Weight  \n",
      "467        Normal_Weight  \n",
      "496  Insufficient_Weight  \n",
      "527  Insufficient_Weight  \n",
      "659  Insufficient_Weight  \n",
      "663  Insufficient_Weight  \n",
      "763   Overweight_Level_I  \n",
      "764   Overweight_Level_I  \n",
      "824   Overweight_Level_I  \n",
      "830   Overweight_Level_I  \n",
      "831   Overweight_Level_I  \n",
      "832   Overweight_Level_I  \n",
      "833   Overweight_Level_I  \n",
      "834   Overweight_Level_I  \n",
      "921   Overweight_Level_I  \n",
      "922   Overweight_Level_I  \n",
      "923   Overweight_Level_I  \n"
     ]
    }
   ],
   "source": [
    "print(\"Duplicated Data:\")\n",
    "indices = [i for i in df.duplicated().index if df.duplicated()[i]]\n",
    "print(df.loc[indices])"
   ]
  },
  {
   "cell_type": "markdown",
   "metadata": {
    "id": "hkxR6Stby1QO"
   },
   "source": [
    "### Removing Duplicate Data"
   ]
  },
  {
   "cell_type": "code",
   "execution_count": 12,
   "metadata": {
    "colab": {
     "base_uri": "https://localhost:8080/",
     "height": 0
    },
    "execution": {
     "iopub.execute_input": "2025-03-03T02:41:31.849532Z",
     "iopub.status.busy": "2025-03-03T02:41:31.848532Z",
     "iopub.status.idle": "2025-03-03T02:41:31.864552Z",
     "shell.execute_reply": "2025-03-03T02:41:31.864552Z"
    },
    "id": "NL4pZ7b3wouU",
    "outputId": "38a440b2-e0de-47ee-b4ae-d19766642538"
   },
   "outputs": [
    {
     "data": {
      "text/html": [
       "<div>\n",
       "<style scoped>\n",
       "    .dataframe tbody tr th:only-of-type {\n",
       "        vertical-align: middle;\n",
       "    }\n",
       "\n",
       "    .dataframe tbody tr th {\n",
       "        vertical-align: top;\n",
       "    }\n",
       "\n",
       "    .dataframe thead th {\n",
       "        text-align: right;\n",
       "    }\n",
       "</style>\n",
       "<table border=\"1\" class=\"dataframe\">\n",
       "  <thead>\n",
       "    <tr style=\"text-align: right;\">\n",
       "      <th></th>\n",
       "      <th>Gender</th>\n",
       "      <th>Age</th>\n",
       "      <th>Height</th>\n",
       "      <th>Weight</th>\n",
       "      <th>family_history</th>\n",
       "      <th>FAVC</th>\n",
       "      <th>FCVC</th>\n",
       "      <th>NCP</th>\n",
       "      <th>CAEC</th>\n",
       "      <th>SMOKE</th>\n",
       "      <th>CH2O</th>\n",
       "      <th>SCC</th>\n",
       "      <th>FAF</th>\n",
       "      <th>TUE</th>\n",
       "      <th>CALC</th>\n",
       "      <th>MTRANS</th>\n",
       "      <th>Obesity</th>\n",
       "    </tr>\n",
       "  </thead>\n",
       "  <tbody>\n",
       "    <tr>\n",
       "      <th>0</th>\n",
       "      <td>Female</td>\n",
       "      <td>21.000000</td>\n",
       "      <td>1.620000</td>\n",
       "      <td>64.000000</td>\n",
       "      <td>yes</td>\n",
       "      <td>no</td>\n",
       "      <td>2.0</td>\n",
       "      <td>3.0</td>\n",
       "      <td>Sometimes</td>\n",
       "      <td>no</td>\n",
       "      <td>2.000000</td>\n",
       "      <td>no</td>\n",
       "      <td>0.000000</td>\n",
       "      <td>1.000000</td>\n",
       "      <td>no</td>\n",
       "      <td>Public_Transportation</td>\n",
       "      <td>Normal_Weight</td>\n",
       "    </tr>\n",
       "    <tr>\n",
       "      <th>1</th>\n",
       "      <td>Female</td>\n",
       "      <td>21.000000</td>\n",
       "      <td>1.520000</td>\n",
       "      <td>56.000000</td>\n",
       "      <td>yes</td>\n",
       "      <td>no</td>\n",
       "      <td>3.0</td>\n",
       "      <td>3.0</td>\n",
       "      <td>Sometimes</td>\n",
       "      <td>yes</td>\n",
       "      <td>3.000000</td>\n",
       "      <td>yes</td>\n",
       "      <td>3.000000</td>\n",
       "      <td>0.000000</td>\n",
       "      <td>Sometimes</td>\n",
       "      <td>Public_Transportation</td>\n",
       "      <td>Normal_Weight</td>\n",
       "    </tr>\n",
       "    <tr>\n",
       "      <th>2</th>\n",
       "      <td>Male</td>\n",
       "      <td>23.000000</td>\n",
       "      <td>1.800000</td>\n",
       "      <td>77.000000</td>\n",
       "      <td>yes</td>\n",
       "      <td>no</td>\n",
       "      <td>2.0</td>\n",
       "      <td>3.0</td>\n",
       "      <td>Sometimes</td>\n",
       "      <td>no</td>\n",
       "      <td>2.000000</td>\n",
       "      <td>no</td>\n",
       "      <td>2.000000</td>\n",
       "      <td>1.000000</td>\n",
       "      <td>Frequently</td>\n",
       "      <td>Public_Transportation</td>\n",
       "      <td>Normal_Weight</td>\n",
       "    </tr>\n",
       "    <tr>\n",
       "      <th>3</th>\n",
       "      <td>Male</td>\n",
       "      <td>27.000000</td>\n",
       "      <td>1.800000</td>\n",
       "      <td>87.000000</td>\n",
       "      <td>no</td>\n",
       "      <td>no</td>\n",
       "      <td>3.0</td>\n",
       "      <td>3.0</td>\n",
       "      <td>Sometimes</td>\n",
       "      <td>no</td>\n",
       "      <td>2.000000</td>\n",
       "      <td>no</td>\n",
       "      <td>2.000000</td>\n",
       "      <td>0.000000</td>\n",
       "      <td>Frequently</td>\n",
       "      <td>Walking</td>\n",
       "      <td>Overweight_Level_I</td>\n",
       "    </tr>\n",
       "    <tr>\n",
       "      <th>4</th>\n",
       "      <td>Male</td>\n",
       "      <td>22.000000</td>\n",
       "      <td>1.780000</td>\n",
       "      <td>89.800000</td>\n",
       "      <td>no</td>\n",
       "      <td>no</td>\n",
       "      <td>2.0</td>\n",
       "      <td>1.0</td>\n",
       "      <td>Sometimes</td>\n",
       "      <td>no</td>\n",
       "      <td>2.000000</td>\n",
       "      <td>no</td>\n",
       "      <td>0.000000</td>\n",
       "      <td>0.000000</td>\n",
       "      <td>Sometimes</td>\n",
       "      <td>Public_Transportation</td>\n",
       "      <td>Overweight_Level_II</td>\n",
       "    </tr>\n",
       "    <tr>\n",
       "      <th>...</th>\n",
       "      <td>...</td>\n",
       "      <td>...</td>\n",
       "      <td>...</td>\n",
       "      <td>...</td>\n",
       "      <td>...</td>\n",
       "      <td>...</td>\n",
       "      <td>...</td>\n",
       "      <td>...</td>\n",
       "      <td>...</td>\n",
       "      <td>...</td>\n",
       "      <td>...</td>\n",
       "      <td>...</td>\n",
       "      <td>...</td>\n",
       "      <td>...</td>\n",
       "      <td>...</td>\n",
       "      <td>...</td>\n",
       "      <td>...</td>\n",
       "    </tr>\n",
       "    <tr>\n",
       "      <th>2082</th>\n",
       "      <td>Female</td>\n",
       "      <td>20.976842</td>\n",
       "      <td>1.710730</td>\n",
       "      <td>131.408528</td>\n",
       "      <td>yes</td>\n",
       "      <td>yes</td>\n",
       "      <td>3.0</td>\n",
       "      <td>3.0</td>\n",
       "      <td>Sometimes</td>\n",
       "      <td>no</td>\n",
       "      <td>1.728139</td>\n",
       "      <td>no</td>\n",
       "      <td>1.676269</td>\n",
       "      <td>0.906247</td>\n",
       "      <td>Sometimes</td>\n",
       "      <td>Public_Transportation</td>\n",
       "      <td>Obesity_Type_III</td>\n",
       "    </tr>\n",
       "    <tr>\n",
       "      <th>2083</th>\n",
       "      <td>Female</td>\n",
       "      <td>21.982942</td>\n",
       "      <td>1.748584</td>\n",
       "      <td>133.742943</td>\n",
       "      <td>yes</td>\n",
       "      <td>yes</td>\n",
       "      <td>3.0</td>\n",
       "      <td>3.0</td>\n",
       "      <td>Sometimes</td>\n",
       "      <td>no</td>\n",
       "      <td>2.005130</td>\n",
       "      <td>no</td>\n",
       "      <td>1.341390</td>\n",
       "      <td>0.599270</td>\n",
       "      <td>Sometimes</td>\n",
       "      <td>Public_Transportation</td>\n",
       "      <td>Obesity_Type_III</td>\n",
       "    </tr>\n",
       "    <tr>\n",
       "      <th>2084</th>\n",
       "      <td>Female</td>\n",
       "      <td>22.524036</td>\n",
       "      <td>1.752206</td>\n",
       "      <td>133.689352</td>\n",
       "      <td>yes</td>\n",
       "      <td>yes</td>\n",
       "      <td>3.0</td>\n",
       "      <td>3.0</td>\n",
       "      <td>Sometimes</td>\n",
       "      <td>no</td>\n",
       "      <td>2.054193</td>\n",
       "      <td>no</td>\n",
       "      <td>1.414209</td>\n",
       "      <td>0.646288</td>\n",
       "      <td>Sometimes</td>\n",
       "      <td>Public_Transportation</td>\n",
       "      <td>Obesity_Type_III</td>\n",
       "    </tr>\n",
       "    <tr>\n",
       "      <th>2085</th>\n",
       "      <td>Female</td>\n",
       "      <td>24.361936</td>\n",
       "      <td>1.739450</td>\n",
       "      <td>133.346641</td>\n",
       "      <td>yes</td>\n",
       "      <td>yes</td>\n",
       "      <td>3.0</td>\n",
       "      <td>3.0</td>\n",
       "      <td>Sometimes</td>\n",
       "      <td>no</td>\n",
       "      <td>2.852339</td>\n",
       "      <td>no</td>\n",
       "      <td>1.139107</td>\n",
       "      <td>0.586035</td>\n",
       "      <td>Sometimes</td>\n",
       "      <td>Public_Transportation</td>\n",
       "      <td>Obesity_Type_III</td>\n",
       "    </tr>\n",
       "    <tr>\n",
       "      <th>2086</th>\n",
       "      <td>Female</td>\n",
       "      <td>23.664709</td>\n",
       "      <td>1.738836</td>\n",
       "      <td>133.472641</td>\n",
       "      <td>yes</td>\n",
       "      <td>yes</td>\n",
       "      <td>3.0</td>\n",
       "      <td>3.0</td>\n",
       "      <td>Sometimes</td>\n",
       "      <td>no</td>\n",
       "      <td>2.863513</td>\n",
       "      <td>no</td>\n",
       "      <td>1.026452</td>\n",
       "      <td>0.714137</td>\n",
       "      <td>Sometimes</td>\n",
       "      <td>Public_Transportation</td>\n",
       "      <td>Obesity_Type_III</td>\n",
       "    </tr>\n",
       "  </tbody>\n",
       "</table>\n",
       "<p>2087 rows × 17 columns</p>\n",
       "</div>"
      ],
      "text/plain": [
       "      Gender        Age    Height      Weight family_history FAVC  FCVC  NCP  \\\n",
       "0     Female  21.000000  1.620000   64.000000            yes   no   2.0  3.0   \n",
       "1     Female  21.000000  1.520000   56.000000            yes   no   3.0  3.0   \n",
       "2       Male  23.000000  1.800000   77.000000            yes   no   2.0  3.0   \n",
       "3       Male  27.000000  1.800000   87.000000             no   no   3.0  3.0   \n",
       "4       Male  22.000000  1.780000   89.800000             no   no   2.0  1.0   \n",
       "...      ...        ...       ...         ...            ...  ...   ...  ...   \n",
       "2082  Female  20.976842  1.710730  131.408528            yes  yes   3.0  3.0   \n",
       "2083  Female  21.982942  1.748584  133.742943            yes  yes   3.0  3.0   \n",
       "2084  Female  22.524036  1.752206  133.689352            yes  yes   3.0  3.0   \n",
       "2085  Female  24.361936  1.739450  133.346641            yes  yes   3.0  3.0   \n",
       "2086  Female  23.664709  1.738836  133.472641            yes  yes   3.0  3.0   \n",
       "\n",
       "           CAEC SMOKE      CH2O  SCC       FAF       TUE        CALC  \\\n",
       "0     Sometimes    no  2.000000   no  0.000000  1.000000          no   \n",
       "1     Sometimes   yes  3.000000  yes  3.000000  0.000000   Sometimes   \n",
       "2     Sometimes    no  2.000000   no  2.000000  1.000000  Frequently   \n",
       "3     Sometimes    no  2.000000   no  2.000000  0.000000  Frequently   \n",
       "4     Sometimes    no  2.000000   no  0.000000  0.000000   Sometimes   \n",
       "...         ...   ...       ...  ...       ...       ...         ...   \n",
       "2082  Sometimes    no  1.728139   no  1.676269  0.906247   Sometimes   \n",
       "2083  Sometimes    no  2.005130   no  1.341390  0.599270   Sometimes   \n",
       "2084  Sometimes    no  2.054193   no  1.414209  0.646288   Sometimes   \n",
       "2085  Sometimes    no  2.852339   no  1.139107  0.586035   Sometimes   \n",
       "2086  Sometimes    no  2.863513   no  1.026452  0.714137   Sometimes   \n",
       "\n",
       "                     MTRANS              Obesity  \n",
       "0     Public_Transportation        Normal_Weight  \n",
       "1     Public_Transportation        Normal_Weight  \n",
       "2     Public_Transportation        Normal_Weight  \n",
       "3                   Walking   Overweight_Level_I  \n",
       "4     Public_Transportation  Overweight_Level_II  \n",
       "...                     ...                  ...  \n",
       "2082  Public_Transportation     Obesity_Type_III  \n",
       "2083  Public_Transportation     Obesity_Type_III  \n",
       "2084  Public_Transportation     Obesity_Type_III  \n",
       "2085  Public_Transportation     Obesity_Type_III  \n",
       "2086  Public_Transportation     Obesity_Type_III  \n",
       "\n",
       "[2087 rows x 17 columns]"
      ]
     },
     "execution_count": 12,
     "metadata": {},
     "output_type": "execute_result"
    }
   ],
   "source": [
    "df.drop_duplicates(inplace=True)\n",
    "df.reset_index(drop=True, inplace=True)\n",
    "df"
   ]
  },
  {
   "cell_type": "code",
   "execution_count": 13,
   "metadata": {
    "colab": {
     "base_uri": "https://localhost:8080/"
    },
    "execution": {
     "iopub.execute_input": "2025-03-03T02:41:31.867558Z",
     "iopub.status.busy": "2025-03-03T02:41:31.866558Z",
     "iopub.status.idle": "2025-03-03T02:41:31.870576Z",
     "shell.execute_reply": "2025-03-03T02:41:31.870576Z"
    },
    "id": "R1gC9rE8zHiJ",
    "outputId": "80acd8d8-49fa-4c7c-c261-ad9de5eb3f7e"
   },
   "outputs": [
    {
     "name": "stdout",
     "output_type": "stream",
     "text": [
      "Row count after dropping duplicates: 2087\n"
     ]
    }
   ],
   "source": [
    "print(f\"Row count after dropping duplicates: {df.shape[0]}\")"
   ]
  },
  {
   "cell_type": "markdown",
   "metadata": {
    "id": "iDO_Bn6t658T"
   },
   "source": [
    "## Outliers\n",
    "Checking for rows with extreme numerical data points"
   ]
  },
  {
   "cell_type": "markdown",
   "metadata": {
    "id": "RCTm3y1k7Kzg"
   },
   "source": [
    "### Checking for Continuous Data"
   ]
  },
  {
   "cell_type": "code",
   "execution_count": 14,
   "metadata": {
    "colab": {
     "base_uri": "https://localhost:8080/"
    },
    "execution": {
     "iopub.execute_input": "2025-03-03T02:41:31.874354Z",
     "iopub.status.busy": "2025-03-03T02:41:31.873355Z",
     "iopub.status.idle": "2025-03-03T02:41:31.876694Z",
     "shell.execute_reply": "2025-03-03T02:41:31.876694Z"
    },
    "id": "Kzp6c6Gi7J52",
    "outputId": "96dbdc1a-5c64-4cd6-9b59-e64e6b149d24"
   },
   "outputs": [
    {
     "name": "stdout",
     "output_type": "stream",
     "text": [
      "Continuous Columns: ['Age', 'Height', 'Weight']\n"
     ]
    }
   ],
   "source": [
    "# countinuous_columns = [attr for attr in df.dtypes.index if df.dtypes[attr] == 'int64' or df.dtypes[attr] == 'float64']\n",
    "continuous_columns = ['Age', 'Height', 'Weight']\n",
    "print(f\"Continuous Columns: {continuous_columns}\")"
   ]
  },
  {
   "cell_type": "code",
   "execution_count": 15,
   "metadata": {
    "colab": {
     "base_uri": "https://localhost:8080/",
     "height": 0
    },
    "execution": {
     "iopub.execute_input": "2025-03-03T02:41:31.878700Z",
     "iopub.status.busy": "2025-03-03T02:41:31.878700Z",
     "iopub.status.idle": "2025-03-03T02:41:31.886702Z",
     "shell.execute_reply": "2025-03-03T02:41:31.886702Z"
    },
    "id": "aCJxL-5W9dre",
    "outputId": "2b063ab7-9181-4513-9f17-b3fac829a927"
   },
   "outputs": [
    {
     "data": {
      "text/html": [
       "<div>\n",
       "<style scoped>\n",
       "    .dataframe tbody tr th:only-of-type {\n",
       "        vertical-align: middle;\n",
       "    }\n",
       "\n",
       "    .dataframe tbody tr th {\n",
       "        vertical-align: top;\n",
       "    }\n",
       "\n",
       "    .dataframe thead th {\n",
       "        text-align: right;\n",
       "    }\n",
       "</style>\n",
       "<table border=\"1\" class=\"dataframe\">\n",
       "  <thead>\n",
       "    <tr style=\"text-align: right;\">\n",
       "      <th></th>\n",
       "      <th>Age</th>\n",
       "      <th>Height</th>\n",
       "      <th>Weight</th>\n",
       "    </tr>\n",
       "  </thead>\n",
       "  <tbody>\n",
       "    <tr>\n",
       "      <th>0</th>\n",
       "      <td>21.000000</td>\n",
       "      <td>1.620000</td>\n",
       "      <td>64.000000</td>\n",
       "    </tr>\n",
       "    <tr>\n",
       "      <th>1</th>\n",
       "      <td>21.000000</td>\n",
       "      <td>1.520000</td>\n",
       "      <td>56.000000</td>\n",
       "    </tr>\n",
       "    <tr>\n",
       "      <th>2</th>\n",
       "      <td>23.000000</td>\n",
       "      <td>1.800000</td>\n",
       "      <td>77.000000</td>\n",
       "    </tr>\n",
       "    <tr>\n",
       "      <th>3</th>\n",
       "      <td>27.000000</td>\n",
       "      <td>1.800000</td>\n",
       "      <td>87.000000</td>\n",
       "    </tr>\n",
       "    <tr>\n",
       "      <th>4</th>\n",
       "      <td>22.000000</td>\n",
       "      <td>1.780000</td>\n",
       "      <td>89.800000</td>\n",
       "    </tr>\n",
       "    <tr>\n",
       "      <th>...</th>\n",
       "      <td>...</td>\n",
       "      <td>...</td>\n",
       "      <td>...</td>\n",
       "    </tr>\n",
       "    <tr>\n",
       "      <th>2082</th>\n",
       "      <td>20.976842</td>\n",
       "      <td>1.710730</td>\n",
       "      <td>131.408528</td>\n",
       "    </tr>\n",
       "    <tr>\n",
       "      <th>2083</th>\n",
       "      <td>21.982942</td>\n",
       "      <td>1.748584</td>\n",
       "      <td>133.742943</td>\n",
       "    </tr>\n",
       "    <tr>\n",
       "      <th>2084</th>\n",
       "      <td>22.524036</td>\n",
       "      <td>1.752206</td>\n",
       "      <td>133.689352</td>\n",
       "    </tr>\n",
       "    <tr>\n",
       "      <th>2085</th>\n",
       "      <td>24.361936</td>\n",
       "      <td>1.739450</td>\n",
       "      <td>133.346641</td>\n",
       "    </tr>\n",
       "    <tr>\n",
       "      <th>2086</th>\n",
       "      <td>23.664709</td>\n",
       "      <td>1.738836</td>\n",
       "      <td>133.472641</td>\n",
       "    </tr>\n",
       "  </tbody>\n",
       "</table>\n",
       "<p>2087 rows × 3 columns</p>\n",
       "</div>"
      ],
      "text/plain": [
       "            Age    Height      Weight\n",
       "0     21.000000  1.620000   64.000000\n",
       "1     21.000000  1.520000   56.000000\n",
       "2     23.000000  1.800000   77.000000\n",
       "3     27.000000  1.800000   87.000000\n",
       "4     22.000000  1.780000   89.800000\n",
       "...         ...       ...         ...\n",
       "2082  20.976842  1.710730  131.408528\n",
       "2083  21.982942  1.748584  133.742943\n",
       "2084  22.524036  1.752206  133.689352\n",
       "2085  24.361936  1.739450  133.346641\n",
       "2086  23.664709  1.738836  133.472641\n",
       "\n",
       "[2087 rows x 3 columns]"
      ]
     },
     "execution_count": 15,
     "metadata": {},
     "output_type": "execute_result"
    }
   ],
   "source": [
    "continuous_indices = [i for i in range(len(df.columns.values)) if df.columns.values[i] in continuous_columns]\n",
    "continuous_df = df.iloc[:, continuous_indices]\n",
    "continuous_df"
   ]
  },
  {
   "cell_type": "markdown",
   "metadata": {
    "id": "j-1PqGFCBwxS"
   },
   "source": [
    "### Continuous Data Distributions"
   ]
  },
  {
   "cell_type": "markdown",
   "metadata": {
    "id": "H6ydIBwpIJro"
   },
   "source": [
    "#### Distributions Plot"
   ]
  },
  {
   "cell_type": "code",
   "execution_count": 16,
   "metadata": {
    "colab": {
     "base_uri": "https://localhost:8080/",
     "height": 0
    },
    "execution": {
     "iopub.execute_input": "2025-03-03T02:41:31.888871Z",
     "iopub.status.busy": "2025-03-03T02:41:31.888871Z",
     "iopub.status.idle": "2025-03-03T02:41:32.289918Z",
     "shell.execute_reply": "2025-03-03T02:41:32.289414Z"
    },
    "id": "bWBIReWYBysq",
    "outputId": "b48d6da5-100a-42be-9661-7c73f4d509e5"
   },
   "outputs": [
    {
     "data": {
      "image/png": "[encoded data removed]",
      "text/plain": [
       "<Figure size 1600x500 with 3 Axes>"
      ]
     },
     "metadata": {},
     "output_type": "display_data"
    }
   ],
   "source": [
    "plt.figure(figsize=(16,5))\n",
    "plt.subplot(1,3,1)\n",
    "sns.distplot(continuous_df['Age'])\n",
    "plt.subplot(1,3,2)\n",
    "sns.distplot(continuous_df['Height'])\n",
    "plt.subplot(1,3,3)\n",
    "sns.distplot(continuous_df['Weight'])\n",
    "plt.show()"
   ]
  },
  {
   "cell_type": "markdown",
   "metadata": {
    "id": "3_ZtJrb1IOqn"
   },
   "source": [
    "#### Q-Q Plot"
   ]
  },
  {
   "cell_type": "code",
   "execution_count": 17,
   "metadata": {
    "colab": {
     "base_uri": "https://localhost:8080/",
     "height": 0
    },
    "execution": {
     "iopub.execute_input": "2025-03-03T02:41:32.291922Z",
     "iopub.status.busy": "2025-03-03T02:41:32.291922Z",
     "iopub.status.idle": "2025-03-03T02:41:32.361203Z",
     "shell.execute_reply": "2025-03-03T02:41:32.361203Z"
    },
    "id": "fVuLzap-HNl3",
    "outputId": "c099c2b7-406e-41a0-bbf8-39eecdd5ad97"
   },
   "outputs": [
    {
     "data": {
      "image/png": "[encoded data removed]",
      "text/plain": [
       "<Figure size 640x480 with 1 Axes>"
      ]
     },
     "metadata": {},
     "output_type": "display_data"
    }
   ],
   "source": [
    "sm.qqplot(continuous_df['Age'], line='45')\n",
    "plt.show()"
   ]
  },
  {
   "cell_type": "code",
   "execution_count": 18,
   "metadata": {
    "colab": {
     "base_uri": "https://localhost:8080/",
     "height": 0
    },
    "execution": {
     "iopub.execute_input": "2025-03-03T02:41:32.363209Z",
     "iopub.status.busy": "2025-03-03T02:41:32.363209Z",
     "iopub.status.idle": "2025-03-03T02:41:32.437889Z",
     "shell.execute_reply": "2025-03-03T02:41:32.437889Z"
    },
    "id": "D2WeYif_PBTm",
    "outputId": "34c3ce3c-a68b-444d-f4d8-cfadf28d6618"
   },
   "outputs": [
    {
     "data": {
      "image/png": "[encoded data removed]",
      "text/plain": [
       "<Figure size 640x480 with 1 Axes>"
      ]
     },
     "metadata": {},
     "output_type": "display_data"
    }
   ],
   "source": [
    "sm.qqplot(continuous_df['Height'], line='45')\n",
    "plt.show()"
   ]
  },
  {
   "cell_type": "code",
   "execution_count": 19,
   "metadata": {
    "colab": {
     "base_uri": "https://localhost:8080/",
     "height": 0
    },
    "execution": {
     "iopub.execute_input": "2025-03-03T02:41:32.439894Z",
     "iopub.status.busy": "2025-03-03T02:41:32.439894Z",
     "iopub.status.idle": "2025-03-03T02:41:32.517433Z",
     "shell.execute_reply": "2025-03-03T02:41:32.517433Z"
    },
    "id": "DRz4wJjZPCaj",
    "outputId": "17c80615-9967-408a-e12a-53294cacd364"
   },
   "outputs": [
    {
     "data": {
      "image/png": "[encoded data removed]",
      "text/plain": [
       "<Figure size 640x480 with 1 Axes>"
      ]
     },
     "metadata": {},
     "output_type": "display_data"
    }
   ],
   "source": [
    "sm.qqplot(continuous_df['Weight'], line='45')\n",
    "plt.show()"
   ]
  },
  {
   "cell_type": "markdown",
   "metadata": {
    "id": "6-3UWyHzPb_h"
   },
   "source": [
    "#### Skewness and Kurtosis"
   ]
  },
  {
   "cell_type": "code",
   "execution_count": 20,
   "metadata": {
    "colab": {
     "base_uri": "https://localhost:8080/"
    },
    "execution": {
     "iopub.execute_input": "2025-03-03T02:41:32.519947Z",
     "iopub.status.busy": "2025-03-03T02:41:32.519947Z",
     "iopub.status.idle": "2025-03-03T02:41:32.527453Z",
     "shell.execute_reply": "2025-03-03T02:41:32.526947Z"
    },
    "id": "nf-bC60qPfSR",
    "outputId": "fad75e1b-4a3b-41d4-d7cc-d91d2cbc61ff"
   },
   "outputs": [
    {
     "name": "stdout",
     "output_type": "stream",
     "text": [
      "Age\n",
      "Kurtosis: 2.758190274759725\n",
      "Skewness: 1.5132163009104738\n",
      "Height\n",
      "Kurtosis: -0.5573653902930622\n",
      "Skewness: -0.02472522704948489\n",
      "Weight\n",
      "Kurtosis: -0.7066627339474816\n",
      "Skewness: 0.24172823035894342\n"
     ]
    }
   ],
   "source": [
    "print(\"Age\")\n",
    "print(f\"Kurtosis: {sp.kurtosis(continuous_df['Age'])}\")\n",
    "print(f\"Skewness: {sp.skew(continuous_df['Age'])}\")\n",
    "print(\"Height\")\n",
    "print(f\"Kurtosis: {sp.kurtosis(continuous_df['Height'])}\")\n",
    "print(f\"Skewness: {sp.skew(continuous_df['Height'])}\")\n",
    "print(\"Weight\")\n",
    "print(f\"Kurtosis: {sp.kurtosis(continuous_df['Weight'])}\")\n",
    "print(f\"Skewness: {sp.skew(continuous_df['Weight'])}\")"
   ]
  },
  {
   "cell_type": "markdown",
   "metadata": {
    "id": "yGZbmEfnQVE_"
   },
   "source": [
    "#### Shapiro-Wilk Test"
   ]
  },
  {
   "cell_type": "code",
   "execution_count": 21,
   "metadata": {
    "colab": {
     "base_uri": "https://localhost:8080/"
    },
    "execution": {
     "iopub.execute_input": "2025-03-03T02:41:32.529457Z",
     "iopub.status.busy": "2025-03-03T02:41:32.528458Z",
     "iopub.status.idle": "2025-03-03T02:41:32.532344Z",
     "shell.execute_reply": "2025-03-03T02:41:32.532344Z"
    },
    "id": "xLi-wzeQQUgS",
    "outputId": "ffd8c4f8-c382-4b40-ae5a-9896df2021a9"
   },
   "outputs": [
    {
     "name": "stdout",
     "output_type": "stream",
     "text": [
      "Statistics=0.868, p=0.0000\n"
     ]
    }
   ],
   "source": [
    "stat, p = sp.shapiro(continuous_df['Age'])\n",
    "print('Statistics=%.3f, p=%.4f' % (stat, p))"
   ]
  },
  {
   "cell_type": "code",
   "execution_count": 22,
   "metadata": {
    "colab": {
     "base_uri": "https://localhost:8080/"
    },
    "execution": {
     "iopub.execute_input": "2025-03-03T02:41:32.534390Z",
     "iopub.status.busy": "2025-03-03T02:41:32.534390Z",
     "iopub.status.idle": "2025-03-03T02:41:32.537613Z",
     "shell.execute_reply": "2025-03-03T02:41:32.537613Z"
    },
    "id": "Kzmr5S3ZQeaf",
    "outputId": "86a6a74d-56ac-4dd3-ae4a-a48e121543c4"
   },
   "outputs": [
    {
     "name": "stdout",
     "output_type": "stream",
     "text": [
      "Statistics=0.993, p=0.0000\n"
     ]
    }
   ],
   "source": [
    "stat, p = sp.shapiro(continuous_df['Height'])\n",
    "print('Statistics=%.3f, p=%.4f' % (stat, p))"
   ]
  },
  {
   "cell_type": "code",
   "execution_count": 23,
   "metadata": {
    "colab": {
     "base_uri": "https://localhost:8080/"
    },
    "execution": {
     "iopub.execute_input": "2025-03-03T02:41:32.539626Z",
     "iopub.status.busy": "2025-03-03T02:41:32.538625Z",
     "iopub.status.idle": "2025-03-03T02:41:32.542629Z",
     "shell.execute_reply": "2025-03-03T02:41:32.542629Z"
    },
    "id": "7gQ9Ihj_QeoE",
    "outputId": "d73baadb-6977-493c-b96e-c07500f3e96b"
   },
   "outputs": [
    {
     "name": "stdout",
     "output_type": "stream",
     "text": [
      "Statistics=0.977, p=0.0000\n"
     ]
    }
   ],
   "source": [
    "stat, p = sp.shapiro(continuous_df['Weight'])\n",
    "print('Statistics=%.3f, p=%.4f' % (stat, p))"
   ]
  },
  {
   "cell_type": "markdown",
   "metadata": {
    "id": "KNh-OrBEuezE"
   },
   "source": [
    "#### Result"
   ]
  },
  {
   "cell_type": "markdown",
   "metadata": {
    "id": "S1067HcJIQsn"
   },
   "source": [
    "Age: Heavily Right-Skewed. -> IQR<br>\n",
    "Height: Slightly Left-Skewed. -> Percentile-Based<br>\n",
    "Weight: Slightly Right-Skewed. -> Percentile-Based"
   ]
  },
  {
   "cell_type": "markdown",
   "metadata": {
    "id": "ouCLngxgs4lF"
   },
   "source": [
    "### Outliers Detection"
   ]
  },
  {
   "cell_type": "code",
   "execution_count": 24,
   "metadata": {
    "colab": {
     "base_uri": "https://localhost:8080/"
    },
    "execution": {
     "iopub.execute_input": "2025-03-03T02:41:32.544633Z",
     "iopub.status.busy": "2025-03-03T02:41:32.544633Z",
     "iopub.status.idle": "2025-03-03T02:41:32.549130Z",
     "shell.execute_reply": "2025-03-03T02:41:32.549130Z"
    },
    "id": "ks5mXDxXxC7f",
    "outputId": "97b484a8-caea-4a50-fc37-d933c579ef34"
   },
   "outputs": [
    {
     "name": "stdout",
     "output_type": "stream",
     "text": [
      "Age outlier count: 167\n"
     ]
    }
   ],
   "source": [
    "q1, q3 = df['Age'].quantile([0.25, 0.75]).values\n",
    "iqr = q3 - q1\n",
    "\n",
    "lower_bound = q1 - 1.5 * iqr\n",
    "upper_bound = q3 + 1.5 * iqr\n",
    "\n",
    "age_bounds = (df['Age'] >= lower_bound) & (df['Age'] <= upper_bound)\n",
    "print(f\"Age outlier count: {age_bounds.count() - age_bounds.sum()}\")"
   ]
  },
  {
   "cell_type": "code",
   "execution_count": 25,
   "metadata": {
    "colab": {
     "base_uri": "https://localhost:8080/"
    },
    "execution": {
     "iopub.execute_input": "2025-03-03T02:41:32.551135Z",
     "iopub.status.busy": "2025-03-03T02:41:32.551135Z",
     "iopub.status.idle": "2025-03-03T02:41:32.556179Z",
     "shell.execute_reply": "2025-03-03T02:41:32.556179Z"
    },
    "id": "2WP8Kkb81cdI",
    "outputId": "353f32d7-242e-41fa-e9b2-a5f9584f1251"
   },
   "outputs": [
    {
     "name": "stdout",
     "output_type": "stream",
     "text": [
      "Height outlier count: 30\n"
     ]
    }
   ],
   "source": [
    "p1, p99 = df['Height'].quantile([0.01, 0.99]).values\n",
    "height_bounds = (df['Height'] >= p1) & (df['Height'] <= p99)\n",
    "print(f\"Height outlier count: {height_bounds.count() - height_bounds.sum()}\")"
   ]
  },
  {
   "cell_type": "code",
   "execution_count": 26,
   "metadata": {
    "colab": {
     "base_uri": "https://localhost:8080/"
    },
    "execution": {
     "iopub.execute_input": "2025-03-03T02:41:32.558190Z",
     "iopub.status.busy": "2025-03-03T02:41:32.558190Z",
     "iopub.status.idle": "2025-03-03T02:41:32.563550Z",
     "shell.execute_reply": "2025-03-03T02:41:32.563550Z"
    },
    "id": "I4R8L7oT3dLj",
    "outputId": "7e5eeaf5-6c34-4780-db20-880cad8e89de"
   },
   "outputs": [
    {
     "name": "stdout",
     "output_type": "stream",
     "text": [
      "Weight outlier count: 42\n"
     ]
    }
   ],
   "source": [
    "p1, p99 = df['Weight'].quantile([0.01, 0.99]).values\n",
    "weight_bounds = (df['Weight'] >= p1) & (df['Weight'] <= p99)\n",
    "print(f\"Weight outlier count: {weight_bounds.count() - weight_bounds.sum()}\")"
   ]
  },
  {
   "cell_type": "code",
   "execution_count": 27,
   "metadata": {
    "colab": {
     "base_uri": "https://localhost:8080/"
    },
    "execution": {
     "iopub.execute_input": "2025-03-03T02:41:32.565556Z",
     "iopub.status.busy": "2025-03-03T02:41:32.565556Z",
     "iopub.status.idle": "2025-03-03T02:41:32.569486Z",
     "shell.execute_reply": "2025-03-03T02:41:32.569486Z"
    },
    "id": "jcHst7mG3l4p",
    "outputId": "89ea2eab-a758-417a-f0b9-6736467cf0c7"
   },
   "outputs": [
    {
     "name": "stdout",
     "output_type": "stream",
     "text": [
      "Outlier portion: 11.452%\n"
     ]
    }
   ],
   "source": [
    "df_without_outliers = df.loc[age_bounds & height_bounds & weight_bounds]\n",
    "print(f\"Outlier portion: {round(((df.shape[0] - df_without_outliers.shape[0])/df.shape[0])*100, 3)}%\")"
   ]
  },
  {
   "cell_type": "code",
   "execution_count": 28,
   "metadata": {
    "colab": {
     "base_uri": "https://localhost:8080/"
    },
    "execution": {
     "iopub.execute_input": "2025-03-03T02:41:32.571495Z",
     "iopub.status.busy": "2025-03-03T02:41:32.571495Z",
     "iopub.status.idle": "2025-03-03T02:41:32.574491Z",
     "shell.execute_reply": "2025-03-03T02:41:32.574491Z"
    },
    "id": "lDk4yafe4QJv",
    "outputId": "4c097872-a5da-4dac-a0cb-077be63f39a5"
   },
   "outputs": [
    {
     "name": "stdout",
     "output_type": "stream",
     "text": [
      "Before outlier removal count: 2087\n",
      "After outlier removal count: 1848\n"
     ]
    }
   ],
   "source": [
    "print(f\"Before outlier removal count: {df.shape[0]}\")\n",
    "print(f\"After outlier removal count: {df_without_outliers.shape[0]}\")"
   ]
  },
  {
   "cell_type": "code",
   "execution_count": 29,
   "metadata": {
    "execution": {
     "iopub.execute_input": "2025-03-03T02:41:32.576712Z",
     "iopub.status.busy": "2025-03-03T02:41:32.576712Z",
     "iopub.status.idle": "2025-03-03T02:41:32.591721Z",
     "shell.execute_reply": "2025-03-03T02:41:32.591721Z"
    }
   },
   "outputs": [
    {
     "data": {
      "text/html": [
       "<div>\n",
       "<style scoped>\n",
       "    .dataframe tbody tr th:only-of-type {\n",
       "        vertical-align: middle;\n",
       "    }\n",
       "\n",
       "    .dataframe tbody tr th {\n",
       "        vertical-align: top;\n",
       "    }\n",
       "\n",
       "    .dataframe thead th {\n",
       "        text-align: right;\n",
       "    }\n",
       "</style>\n",
       "<table border=\"1\" class=\"dataframe\">\n",
       "  <thead>\n",
       "    <tr style=\"text-align: right;\">\n",
       "      <th></th>\n",
       "      <th>Gender</th>\n",
       "      <th>Age</th>\n",
       "      <th>Height</th>\n",
       "      <th>Weight</th>\n",
       "      <th>family_history</th>\n",
       "      <th>FAVC</th>\n",
       "      <th>FCVC</th>\n",
       "      <th>NCP</th>\n",
       "      <th>CAEC</th>\n",
       "      <th>SMOKE</th>\n",
       "      <th>CH2O</th>\n",
       "      <th>SCC</th>\n",
       "      <th>FAF</th>\n",
       "      <th>TUE</th>\n",
       "      <th>CALC</th>\n",
       "      <th>MTRANS</th>\n",
       "      <th>Obesity</th>\n",
       "    </tr>\n",
       "  </thead>\n",
       "  <tbody>\n",
       "    <tr>\n",
       "      <th>0</th>\n",
       "      <td>Female</td>\n",
       "      <td>21.000000</td>\n",
       "      <td>1.620000</td>\n",
       "      <td>64.000000</td>\n",
       "      <td>yes</td>\n",
       "      <td>no</td>\n",
       "      <td>2.0</td>\n",
       "      <td>3.0</td>\n",
       "      <td>Sometimes</td>\n",
       "      <td>no</td>\n",
       "      <td>2.000000</td>\n",
       "      <td>no</td>\n",
       "      <td>0.000000</td>\n",
       "      <td>1.000000</td>\n",
       "      <td>no</td>\n",
       "      <td>Public_Transportation</td>\n",
       "      <td>Normal_Weight</td>\n",
       "    </tr>\n",
       "    <tr>\n",
       "      <th>1</th>\n",
       "      <td>Female</td>\n",
       "      <td>21.000000</td>\n",
       "      <td>1.520000</td>\n",
       "      <td>56.000000</td>\n",
       "      <td>yes</td>\n",
       "      <td>no</td>\n",
       "      <td>3.0</td>\n",
       "      <td>3.0</td>\n",
       "      <td>Sometimes</td>\n",
       "      <td>yes</td>\n",
       "      <td>3.000000</td>\n",
       "      <td>yes</td>\n",
       "      <td>3.000000</td>\n",
       "      <td>0.000000</td>\n",
       "      <td>Sometimes</td>\n",
       "      <td>Public_Transportation</td>\n",
       "      <td>Normal_Weight</td>\n",
       "    </tr>\n",
       "    <tr>\n",
       "      <th>2</th>\n",
       "      <td>Male</td>\n",
       "      <td>23.000000</td>\n",
       "      <td>1.800000</td>\n",
       "      <td>77.000000</td>\n",
       "      <td>yes</td>\n",
       "      <td>no</td>\n",
       "      <td>2.0</td>\n",
       "      <td>3.0</td>\n",
       "      <td>Sometimes</td>\n",
       "      <td>no</td>\n",
       "      <td>2.000000</td>\n",
       "      <td>no</td>\n",
       "      <td>2.000000</td>\n",
       "      <td>1.000000</td>\n",
       "      <td>Frequently</td>\n",
       "      <td>Public_Transportation</td>\n",
       "      <td>Normal_Weight</td>\n",
       "    </tr>\n",
       "    <tr>\n",
       "      <th>3</th>\n",
       "      <td>Male</td>\n",
       "      <td>27.000000</td>\n",
       "      <td>1.800000</td>\n",
       "      <td>87.000000</td>\n",
       "      <td>no</td>\n",
       "      <td>no</td>\n",
       "      <td>3.0</td>\n",
       "      <td>3.0</td>\n",
       "      <td>Sometimes</td>\n",
       "      <td>no</td>\n",
       "      <td>2.000000</td>\n",
       "      <td>no</td>\n",
       "      <td>2.000000</td>\n",
       "      <td>0.000000</td>\n",
       "      <td>Frequently</td>\n",
       "      <td>Walking</td>\n",
       "      <td>Overweight_Level_I</td>\n",
       "    </tr>\n",
       "    <tr>\n",
       "      <th>4</th>\n",
       "      <td>Male</td>\n",
       "      <td>22.000000</td>\n",
       "      <td>1.780000</td>\n",
       "      <td>89.800000</td>\n",
       "      <td>no</td>\n",
       "      <td>no</td>\n",
       "      <td>2.0</td>\n",
       "      <td>1.0</td>\n",
       "      <td>Sometimes</td>\n",
       "      <td>no</td>\n",
       "      <td>2.000000</td>\n",
       "      <td>no</td>\n",
       "      <td>0.000000</td>\n",
       "      <td>0.000000</td>\n",
       "      <td>Sometimes</td>\n",
       "      <td>Public_Transportation</td>\n",
       "      <td>Overweight_Level_II</td>\n",
       "    </tr>\n",
       "    <tr>\n",
       "      <th>...</th>\n",
       "      <td>...</td>\n",
       "      <td>...</td>\n",
       "      <td>...</td>\n",
       "      <td>...</td>\n",
       "      <td>...</td>\n",
       "      <td>...</td>\n",
       "      <td>...</td>\n",
       "      <td>...</td>\n",
       "      <td>...</td>\n",
       "      <td>...</td>\n",
       "      <td>...</td>\n",
       "      <td>...</td>\n",
       "      <td>...</td>\n",
       "      <td>...</td>\n",
       "      <td>...</td>\n",
       "      <td>...</td>\n",
       "      <td>...</td>\n",
       "    </tr>\n",
       "    <tr>\n",
       "      <th>1843</th>\n",
       "      <td>Female</td>\n",
       "      <td>20.976842</td>\n",
       "      <td>1.710730</td>\n",
       "      <td>131.408528</td>\n",
       "      <td>yes</td>\n",
       "      <td>yes</td>\n",
       "      <td>3.0</td>\n",
       "      <td>3.0</td>\n",
       "      <td>Sometimes</td>\n",
       "      <td>no</td>\n",
       "      <td>1.728139</td>\n",
       "      <td>no</td>\n",
       "      <td>1.676269</td>\n",
       "      <td>0.906247</td>\n",
       "      <td>Sometimes</td>\n",
       "      <td>Public_Transportation</td>\n",
       "      <td>Obesity_Type_III</td>\n",
       "    </tr>\n",
       "    <tr>\n",
       "      <th>1844</th>\n",
       "      <td>Female</td>\n",
       "      <td>21.982942</td>\n",
       "      <td>1.748584</td>\n",
       "      <td>133.742943</td>\n",
       "      <td>yes</td>\n",
       "      <td>yes</td>\n",
       "      <td>3.0</td>\n",
       "      <td>3.0</td>\n",
       "      <td>Sometimes</td>\n",
       "      <td>no</td>\n",
       "      <td>2.005130</td>\n",
       "      <td>no</td>\n",
       "      <td>1.341390</td>\n",
       "      <td>0.599270</td>\n",
       "      <td>Sometimes</td>\n",
       "      <td>Public_Transportation</td>\n",
       "      <td>Obesity_Type_III</td>\n",
       "    </tr>\n",
       "    <tr>\n",
       "      <th>1845</th>\n",
       "      <td>Female</td>\n",
       "      <td>22.524036</td>\n",
       "      <td>1.752206</td>\n",
       "      <td>133.689352</td>\n",
       "      <td>yes</td>\n",
       "      <td>yes</td>\n",
       "      <td>3.0</td>\n",
       "      <td>3.0</td>\n",
       "      <td>Sometimes</td>\n",
       "      <td>no</td>\n",
       "      <td>2.054193</td>\n",
       "      <td>no</td>\n",
       "      <td>1.414209</td>\n",
       "      <td>0.646288</td>\n",
       "      <td>Sometimes</td>\n",
       "      <td>Public_Transportation</td>\n",
       "      <td>Obesity_Type_III</td>\n",
       "    </tr>\n",
       "    <tr>\n",
       "      <th>1846</th>\n",
       "      <td>Female</td>\n",
       "      <td>24.361936</td>\n",
       "      <td>1.739450</td>\n",
       "      <td>133.346641</td>\n",
       "      <td>yes</td>\n",
       "      <td>yes</td>\n",
       "      <td>3.0</td>\n",
       "      <td>3.0</td>\n",
       "      <td>Sometimes</td>\n",
       "      <td>no</td>\n",
       "      <td>2.852339</td>\n",
       "      <td>no</td>\n",
       "      <td>1.139107</td>\n",
       "      <td>0.586035</td>\n",
       "      <td>Sometimes</td>\n",
       "      <td>Public_Transportation</td>\n",
       "      <td>Obesity_Type_III</td>\n",
       "    </tr>\n",
       "    <tr>\n",
       "      <th>1847</th>\n",
       "      <td>Female</td>\n",
       "      <td>23.664709</td>\n",
       "      <td>1.738836</td>\n",
       "      <td>133.472641</td>\n",
       "      <td>yes</td>\n",
       "      <td>yes</td>\n",
       "      <td>3.0</td>\n",
       "      <td>3.0</td>\n",
       "      <td>Sometimes</td>\n",
       "      <td>no</td>\n",
       "      <td>2.863513</td>\n",
       "      <td>no</td>\n",
       "      <td>1.026452</td>\n",
       "      <td>0.714137</td>\n",
       "      <td>Sometimes</td>\n",
       "      <td>Public_Transportation</td>\n",
       "      <td>Obesity_Type_III</td>\n",
       "    </tr>\n",
       "  </tbody>\n",
       "</table>\n",
       "<p>1848 rows × 17 columns</p>\n",
       "</div>"
      ],
      "text/plain": [
       "      Gender        Age    Height      Weight family_history FAVC  FCVC  NCP  \\\n",
       "0     Female  21.000000  1.620000   64.000000            yes   no   2.0  3.0   \n",
       "1     Female  21.000000  1.520000   56.000000            yes   no   3.0  3.0   \n",
       "2       Male  23.000000  1.800000   77.000000            yes   no   2.0  3.0   \n",
       "3       Male  27.000000  1.800000   87.000000             no   no   3.0  3.0   \n",
       "4       Male  22.000000  1.780000   89.800000             no   no   2.0  1.0   \n",
       "...      ...        ...       ...         ...            ...  ...   ...  ...   \n",
       "1843  Female  20.976842  1.710730  131.408528            yes  yes   3.0  3.0   \n",
       "1844  Female  21.982942  1.748584  133.742943            yes  yes   3.0  3.0   \n",
       "1845  Female  22.524036  1.752206  133.689352            yes  yes   3.0  3.0   \n",
       "1846  Female  24.361936  1.739450  133.346641            yes  yes   3.0  3.0   \n",
       "1847  Female  23.664709  1.738836  133.472641            yes  yes   3.0  3.0   \n",
       "\n",
       "           CAEC SMOKE      CH2O  SCC       FAF       TUE        CALC  \\\n",
       "0     Sometimes    no  2.000000   no  0.000000  1.000000          no   \n",
       "1     Sometimes   yes  3.000000  yes  3.000000  0.000000   Sometimes   \n",
       "2     Sometimes    no  2.000000   no  2.000000  1.000000  Frequently   \n",
       "3     Sometimes    no  2.000000   no  2.000000  0.000000  Frequently   \n",
       "4     Sometimes    no  2.000000   no  0.000000  0.000000   Sometimes   \n",
       "...         ...   ...       ...  ...       ...       ...         ...   \n",
       "1843  Sometimes    no  1.728139   no  1.676269  0.906247   Sometimes   \n",
       "1844  Sometimes    no  2.005130   no  1.341390  0.599270   Sometimes   \n",
       "1845  Sometimes    no  2.054193   no  1.414209  0.646288   Sometimes   \n",
       "1846  Sometimes    no  2.852339   no  1.139107  0.586035   Sometimes   \n",
       "1847  Sometimes    no  2.863513   no  1.026452  0.714137   Sometimes   \n",
       "\n",
       "                     MTRANS              Obesity  \n",
       "0     Public_Transportation        Normal_Weight  \n",
       "1     Public_Transportation        Normal_Weight  \n",
       "2     Public_Transportation        Normal_Weight  \n",
       "3                   Walking   Overweight_Level_I  \n",
       "4     Public_Transportation  Overweight_Level_II  \n",
       "...                     ...                  ...  \n",
       "1843  Public_Transportation     Obesity_Type_III  \n",
       "1844  Public_Transportation     Obesity_Type_III  \n",
       "1845  Public_Transportation     Obesity_Type_III  \n",
       "1846  Public_Transportation     Obesity_Type_III  \n",
       "1847  Public_Transportation     Obesity_Type_III  \n",
       "\n",
       "[1848 rows x 17 columns]"
      ]
     },
     "execution_count": 29,
     "metadata": {},
     "output_type": "execute_result"
    }
   ],
   "source": [
    "df = df.loc[age_bounds & height_bounds & weight_bounds]\n",
    "df.reset_index(drop=True, inplace=True)\n",
    "df"
   ]
  },
  {
   "cell_type": "markdown",
   "metadata": {
    "id": "O6xwYOdQ5Xca"
   },
   "source": [
    "### Results"
   ]
  },
  {
   "cell_type": "markdown",
   "metadata": {
    "id": "-19B15A05ZNX"
   },
   "source": [
    "The dataset has around 11.4% outliers, all of them from Age, Height, and Weight. Because the outlier is more than 10% and they come from, theoritically, most contributing features, the decision is to not remove them, but let them be because they are most likely natural outliers."
   ]
  },
  {
   "cell_type": "markdown",
   "metadata": {
    "id": "weI4do7y19A8"
   },
   "source": [
    "## Data Balance"
   ]
  },
  {
   "cell_type": "code",
   "execution_count": 30,
   "metadata": {
    "colab": {
     "base_uri": "https://localhost:8080/",
     "height": 0
    },
    "execution": {
     "iopub.execute_input": "2025-03-03T02:41:32.593781Z",
     "iopub.status.busy": "2025-03-03T02:41:32.593781Z",
     "iopub.status.idle": "2025-03-03T02:41:32.707974Z",
     "shell.execute_reply": "2025-03-03T02:41:32.707974Z"
    },
    "id": "P9cEsFYetTtM",
    "outputId": "e79507e1-260a-440d-b0a7-640e161898f2"
   },
   "outputs": [
    {
     "data": {
      "image/png": "[encoded data removed]",
      "text/plain": [
       "<Figure size 1600x800 with 1 Axes>"
      ]
     },
     "metadata": {},
     "output_type": "display_data"
    }
   ],
   "source": [
    "obesity_dist = df['Obesity'].value_counts(normalize=True)\n",
    "\n",
    "plt.figure(figsize=(16, 8))\n",
    "plt.bar(obesity_dist.index, obesity_dist.values, color='pink')\n",
    "\n",
    "plt.xlabel('Obesity Category')\n",
    "plt.ylabel('Count')\n",
    "plt.title('Distribution of Obesity Categories')\n",
    "plt.xticks(rotation=45)\n",
    "\n",
    "plt.show()"
   ]
  },
  {
   "cell_type": "code",
   "execution_count": 31,
   "metadata": {
    "colab": {
     "base_uri": "https://localhost:8080/"
    },
    "execution": {
     "iopub.execute_input": "2025-03-03T02:41:32.709978Z",
     "iopub.status.busy": "2025-03-03T02:41:32.709978Z",
     "iopub.status.idle": "2025-03-03T02:41:32.713367Z",
     "shell.execute_reply": "2025-03-03T02:41:32.713367Z"
    },
    "id": "RS-r-TGp_sOL",
    "outputId": "5ea48db8-6c55-4353-e64e-efe43fc26e27"
   },
   "outputs": [
    {
     "name": "stdout",
     "output_type": "stream",
     "text": [
      "Obesity\n",
      "Obesity_Type_III       0.163961\n",
      "Obesity_Type_I         0.148810\n",
      "Normal_Weight          0.147727\n",
      "Obesity_Type_II        0.139610\n",
      "Overweight_Level_I     0.135823\n",
      "Insufficient_Weight    0.132576\n",
      "Overweight_Level_II    0.131494\n",
      "Name: proportion, dtype: float64\n"
     ]
    }
   ],
   "source": [
    "print(obesity_dist)"
   ]
  },
  {
   "cell_type": "code",
   "execution_count": 32,
   "metadata": {
    "colab": {
     "base_uri": "https://localhost:8080/"
    },
    "execution": {
     "iopub.execute_input": "2025-03-03T02:41:32.715377Z",
     "iopub.status.busy": "2025-03-03T02:41:32.715377Z",
     "iopub.status.idle": "2025-03-03T02:41:32.718456Z",
     "shell.execute_reply": "2025-03-03T02:41:32.718456Z"
    },
    "id": "eGbT3DkC2qDv",
    "outputId": "b43347b5-3041-4b0a-d15e-12ce8d9b5e31"
   },
   "outputs": [
    {
     "name": "stdout",
     "output_type": "stream",
     "text": [
      "Max: 0.164\n",
      "Min: 0.131\n"
     ]
    }
   ],
   "source": [
    "print(f\"Max: {round(obesity_dist.max(), 3)}\")\n",
    "print(f\"Min: {round(obesity_dist.min(), 3)}\")"
   ]
  },
  {
   "cell_type": "markdown",
   "metadata": {
    "id": "enbo11BU2Ql_"
   },
   "source": [
    "The attribute proportions are around ~0.128-10.168, which is balanced"
   ]
  },
  {
   "cell_type": "markdown",
   "metadata": {
    "id": "oP1RMAJ-6m2V"
   },
   "source": [
    "# 3. Features Engineering"
   ]
  },
  {
   "cell_type": "markdown",
   "metadata": {
    "id": "xe9dLTXUl0A6"
   },
   "source": [
    "## Data Encoding"
   ]
  },
  {
   "cell_type": "markdown",
   "metadata": {
    "id": "NUDyR67zBExk"
   },
   "source": [
    "### Determining Column Types"
   ]
  },
  {
   "cell_type": "markdown",
   "metadata": {
    "id": "CEeErRG0BHwf"
   },
   "source": [
    "There are 2 main types of data, Numerical and Categorical.<br>\n",
    "For numerical data, there are discrete and continuous data.<br>\n",
    "For categorical data, there are ordinal and nominal data."
   ]
  },
  {
   "cell_type": "code",
   "execution_count": 33,
   "metadata": {
    "execution": {
     "iopub.execute_input": "2025-03-03T02:41:32.720465Z",
     "iopub.status.busy": "2025-03-03T02:41:32.720465Z",
     "iopub.status.idle": "2025-03-03T02:41:32.723305Z",
     "shell.execute_reply": "2025-03-03T02:41:32.723305Z"
    },
    "id": "4F_JGBQe_TPL"
   },
   "outputs": [],
   "source": [
    "continuous_column_names = ['Age', 'Height', 'Weight', 'CH2O', 'FAF', 'TUE']\n",
    "discrete_column_names = ['FCVC', 'NCP']\n",
    "nominal_column_names = ['Gender', 'family_history', 'FAVC', 'SMOKE', 'SCC', 'MTRANS']\n",
    "ordinal_column_names = ['CAEC', 'CALC']\n",
    "label = ['Obesity'] # Ordinal"
   ]
  },
  {
   "cell_type": "markdown",
   "metadata": {
    "id": "Z20DAPJ-erU0"
   },
   "source": [
    "### Ordinal Data\n",
    "There are two Ordinal Columns: 'CAEC', and 'CALC'."
   ]
  },
  {
   "cell_type": "code",
   "execution_count": 34,
   "metadata": {
    "colab": {
     "base_uri": "https://localhost:8080/"
    },
    "execution": {
     "iopub.execute_input": "2025-03-03T02:41:32.725310Z",
     "iopub.status.busy": "2025-03-03T02:41:32.725310Z",
     "iopub.status.idle": "2025-03-03T02:41:32.728583Z",
     "shell.execute_reply": "2025-03-03T02:41:32.728583Z"
    },
    "id": "2G0XnMtxgME-",
    "outputId": "2a424bb5-1b67-44b5-841b-a6e516470339"
   },
   "outputs": [
    {
     "name": "stdout",
     "output_type": "stream",
     "text": [
      "CAEC Unique Values: ['Sometimes' 'Frequently' 'Always' 'no']\n",
      "CALC Unique Values: ['no' 'Sometimes' 'Frequently' 'Always']\n"
     ]
    }
   ],
   "source": [
    "print(f\"CAEC Unique Values: {df['CAEC'].unique()}\")\n",
    "print(f\"CALC Unique Values: {df['CALC'].unique()}\")"
   ]
  },
  {
   "cell_type": "markdown",
   "metadata": {
    "id": "is2y_cCvgbjA"
   },
   "source": [
    "It can be seen that both CAEC and CALC have the same unique values with both of them having ordinal data, which means each has a ranking of each own with evenly spaced category -> Ordinal Encoder."
   ]
  },
  {
   "cell_type": "code",
   "execution_count": 35,
   "metadata": {
    "colab": {
     "base_uri": "https://localhost:8080/",
     "height": 443
    },
    "execution": {
     "iopub.execute_input": "2025-03-03T02:41:32.730586Z",
     "iopub.status.busy": "2025-03-03T02:41:32.730586Z",
     "iopub.status.idle": "2025-03-03T02:41:32.791089Z",
     "shell.execute_reply": "2025-03-03T02:41:32.791089Z"
    },
    "id": "38B2f8VlesVr",
    "outputId": "ac36846b-d5ae-494d-efa8-d663e769dc45"
   },
   "outputs": [
    {
     "data": {
      "text/html": [
       "<div>\n",
       "<style scoped>\n",
       "    .dataframe tbody tr th:only-of-type {\n",
       "        vertical-align: middle;\n",
       "    }\n",
       "\n",
       "    .dataframe tbody tr th {\n",
       "        vertical-align: top;\n",
       "    }\n",
       "\n",
       "    .dataframe thead th {\n",
       "        text-align: right;\n",
       "    }\n",
       "</style>\n",
       "<table border=\"1\" class=\"dataframe\">\n",
       "  <thead>\n",
       "    <tr style=\"text-align: right;\">\n",
       "      <th></th>\n",
       "      <th>Gender</th>\n",
       "      <th>Age</th>\n",
       "      <th>Height</th>\n",
       "      <th>Weight</th>\n",
       "      <th>family_history</th>\n",
       "      <th>FAVC</th>\n",
       "      <th>FCVC</th>\n",
       "      <th>NCP</th>\n",
       "      <th>CAEC</th>\n",
       "      <th>SMOKE</th>\n",
       "      <th>CH2O</th>\n",
       "      <th>SCC</th>\n",
       "      <th>FAF</th>\n",
       "      <th>TUE</th>\n",
       "      <th>CALC</th>\n",
       "      <th>MTRANS</th>\n",
       "      <th>Obesity</th>\n",
       "    </tr>\n",
       "  </thead>\n",
       "  <tbody>\n",
       "    <tr>\n",
       "      <th>0</th>\n",
       "      <td>Female</td>\n",
       "      <td>21.000000</td>\n",
       "      <td>1.620000</td>\n",
       "      <td>64.000000</td>\n",
       "      <td>yes</td>\n",
       "      <td>no</td>\n",
       "      <td>2.0</td>\n",
       "      <td>3.0</td>\n",
       "      <td>2.0</td>\n",
       "      <td>no</td>\n",
       "      <td>2.000000</td>\n",
       "      <td>no</td>\n",
       "      <td>0.000000</td>\n",
       "      <td>1.000000</td>\n",
       "      <td>3.0</td>\n",
       "      <td>Public_Transportation</td>\n",
       "      <td>Normal_Weight</td>\n",
       "    </tr>\n",
       "    <tr>\n",
       "      <th>1</th>\n",
       "      <td>Female</td>\n",
       "      <td>21.000000</td>\n",
       "      <td>1.520000</td>\n",
       "      <td>56.000000</td>\n",
       "      <td>yes</td>\n",
       "      <td>no</td>\n",
       "      <td>3.0</td>\n",
       "      <td>3.0</td>\n",
       "      <td>2.0</td>\n",
       "      <td>yes</td>\n",
       "      <td>3.000000</td>\n",
       "      <td>yes</td>\n",
       "      <td>3.000000</td>\n",
       "      <td>0.000000</td>\n",
       "      <td>2.0</td>\n",
       "      <td>Public_Transportation</td>\n",
       "      <td>Normal_Weight</td>\n",
       "    </tr>\n",
       "    <tr>\n",
       "      <th>2</th>\n",
       "      <td>Male</td>\n",
       "      <td>23.000000</td>\n",
       "      <td>1.800000</td>\n",
       "      <td>77.000000</td>\n",
       "      <td>yes</td>\n",
       "      <td>no</td>\n",
       "      <td>2.0</td>\n",
       "      <td>3.0</td>\n",
       "      <td>2.0</td>\n",
       "      <td>no</td>\n",
       "      <td>2.000000</td>\n",
       "      <td>no</td>\n",
       "      <td>2.000000</td>\n",
       "      <td>1.000000</td>\n",
       "      <td>1.0</td>\n",
       "      <td>Public_Transportation</td>\n",
       "      <td>Normal_Weight</td>\n",
       "    </tr>\n",
       "    <tr>\n",
       "      <th>3</th>\n",
       "      <td>Male</td>\n",
       "      <td>27.000000</td>\n",
       "      <td>1.800000</td>\n",
       "      <td>87.000000</td>\n",
       "      <td>no</td>\n",
       "      <td>no</td>\n",
       "      <td>3.0</td>\n",
       "      <td>3.0</td>\n",
       "      <td>2.0</td>\n",
       "      <td>no</td>\n",
       "      <td>2.000000</td>\n",
       "      <td>no</td>\n",
       "      <td>2.000000</td>\n",
       "      <td>0.000000</td>\n",
       "      <td>1.0</td>\n",
       "      <td>Walking</td>\n",
       "      <td>Overweight_Level_I</td>\n",
       "    </tr>\n",
       "    <tr>\n",
       "      <th>4</th>\n",
       "      <td>Male</td>\n",
       "      <td>22.000000</td>\n",
       "      <td>1.780000</td>\n",
       "      <td>89.800000</td>\n",
       "      <td>no</td>\n",
       "      <td>no</td>\n",
       "      <td>2.0</td>\n",
       "      <td>1.0</td>\n",
       "      <td>2.0</td>\n",
       "      <td>no</td>\n",
       "      <td>2.000000</td>\n",
       "      <td>no</td>\n",
       "      <td>0.000000</td>\n",
       "      <td>0.000000</td>\n",
       "      <td>2.0</td>\n",
       "      <td>Public_Transportation</td>\n",
       "      <td>Overweight_Level_II</td>\n",
       "    </tr>\n",
       "    <tr>\n",
       "      <th>...</th>\n",
       "      <td>...</td>\n",
       "      <td>...</td>\n",
       "      <td>...</td>\n",
       "      <td>...</td>\n",
       "      <td>...</td>\n",
       "      <td>...</td>\n",
       "      <td>...</td>\n",
       "      <td>...</td>\n",
       "      <td>...</td>\n",
       "      <td>...</td>\n",
       "      <td>...</td>\n",
       "      <td>...</td>\n",
       "      <td>...</td>\n",
       "      <td>...</td>\n",
       "      <td>...</td>\n",
       "      <td>...</td>\n",
       "      <td>...</td>\n",
       "    </tr>\n",
       "    <tr>\n",
       "      <th>1843</th>\n",
       "      <td>Female</td>\n",
       "      <td>20.976842</td>\n",
       "      <td>1.710730</td>\n",
       "      <td>131.408528</td>\n",
       "      <td>yes</td>\n",
       "      <td>yes</td>\n",
       "      <td>3.0</td>\n",
       "      <td>3.0</td>\n",
       "      <td>2.0</td>\n",
       "      <td>no</td>\n",
       "      <td>1.728139</td>\n",
       "      <td>no</td>\n",
       "      <td>1.676269</td>\n",
       "      <td>0.906247</td>\n",
       "      <td>2.0</td>\n",
       "      <td>Public_Transportation</td>\n",
       "      <td>Obesity_Type_III</td>\n",
       "    </tr>\n",
       "    <tr>\n",
       "      <th>1844</th>\n",
       "      <td>Female</td>\n",
       "      <td>21.982942</td>\n",
       "      <td>1.748584</td>\n",
       "      <td>133.742943</td>\n",
       "      <td>yes</td>\n",
       "      <td>yes</td>\n",
       "      <td>3.0</td>\n",
       "      <td>3.0</td>\n",
       "      <td>2.0</td>\n",
       "      <td>no</td>\n",
       "      <td>2.005130</td>\n",
       "      <td>no</td>\n",
       "      <td>1.341390</td>\n",
       "      <td>0.599270</td>\n",
       "      <td>2.0</td>\n",
       "      <td>Public_Transportation</td>\n",
       "      <td>Obesity_Type_III</td>\n",
       "    </tr>\n",
       "    <tr>\n",
       "      <th>1845</th>\n",
       "      <td>Female</td>\n",
       "      <td>22.524036</td>\n",
       "      <td>1.752206</td>\n",
       "      <td>133.689352</td>\n",
       "      <td>yes</td>\n",
       "      <td>yes</td>\n",
       "      <td>3.0</td>\n",
       "      <td>3.0</td>\n",
       "      <td>2.0</td>\n",
       "      <td>no</td>\n",
       "      <td>2.054193</td>\n",
       "      <td>no</td>\n",
       "      <td>1.414209</td>\n",
       "      <td>0.646288</td>\n",
       "      <td>2.0</td>\n",
       "      <td>Public_Transportation</td>\n",
       "      <td>Obesity_Type_III</td>\n",
       "    </tr>\n",
       "    <tr>\n",
       "      <th>1846</th>\n",
       "      <td>Female</td>\n",
       "      <td>24.361936</td>\n",
       "      <td>1.739450</td>\n",
       "      <td>133.346641</td>\n",
       "      <td>yes</td>\n",
       "      <td>yes</td>\n",
       "      <td>3.0</td>\n",
       "      <td>3.0</td>\n",
       "      <td>2.0</td>\n",
       "      <td>no</td>\n",
       "      <td>2.852339</td>\n",
       "      <td>no</td>\n",
       "      <td>1.139107</td>\n",
       "      <td>0.586035</td>\n",
       "      <td>2.0</td>\n",
       "      <td>Public_Transportation</td>\n",
       "      <td>Obesity_Type_III</td>\n",
       "    </tr>\n",
       "    <tr>\n",
       "      <th>1847</th>\n",
       "      <td>Female</td>\n",
       "      <td>23.664709</td>\n",
       "      <td>1.738836</td>\n",
       "      <td>133.472641</td>\n",
       "      <td>yes</td>\n",
       "      <td>yes</td>\n",
       "      <td>3.0</td>\n",
       "      <td>3.0</td>\n",
       "      <td>2.0</td>\n",
       "      <td>no</td>\n",
       "      <td>2.863513</td>\n",
       "      <td>no</td>\n",
       "      <td>1.026452</td>\n",
       "      <td>0.714137</td>\n",
       "      <td>2.0</td>\n",
       "      <td>Public_Transportation</td>\n",
       "      <td>Obesity_Type_III</td>\n",
       "    </tr>\n",
       "  </tbody>\n",
       "</table>\n",
       "<p>1848 rows × 17 columns</p>\n",
       "</div>"
      ],
      "text/plain": [
       "      Gender        Age    Height      Weight family_history FAVC  FCVC  NCP  \\\n",
       "0     Female  21.000000  1.620000   64.000000            yes   no   2.0  3.0   \n",
       "1     Female  21.000000  1.520000   56.000000            yes   no   3.0  3.0   \n",
       "2       Male  23.000000  1.800000   77.000000            yes   no   2.0  3.0   \n",
       "3       Male  27.000000  1.800000   87.000000             no   no   3.0  3.0   \n",
       "4       Male  22.000000  1.780000   89.800000             no   no   2.0  1.0   \n",
       "...      ...        ...       ...         ...            ...  ...   ...  ...   \n",
       "1843  Female  20.976842  1.710730  131.408528            yes  yes   3.0  3.0   \n",
       "1844  Female  21.982942  1.748584  133.742943            yes  yes   3.0  3.0   \n",
       "1845  Female  22.524036  1.752206  133.689352            yes  yes   3.0  3.0   \n",
       "1846  Female  24.361936  1.739450  133.346641            yes  yes   3.0  3.0   \n",
       "1847  Female  23.664709  1.738836  133.472641            yes  yes   3.0  3.0   \n",
       "\n",
       "      CAEC SMOKE      CH2O  SCC       FAF       TUE  CALC  \\\n",
       "0      2.0    no  2.000000   no  0.000000  1.000000   3.0   \n",
       "1      2.0   yes  3.000000  yes  3.000000  0.000000   2.0   \n",
       "2      2.0    no  2.000000   no  2.000000  1.000000   1.0   \n",
       "3      2.0    no  2.000000   no  2.000000  0.000000   1.0   \n",
       "4      2.0    no  2.000000   no  0.000000  0.000000   2.0   \n",
       "...    ...   ...       ...  ...       ...       ...   ...   \n",
       "1843   2.0    no  1.728139   no  1.676269  0.906247   2.0   \n",
       "1844   2.0    no  2.005130   no  1.341390  0.599270   2.0   \n",
       "1845   2.0    no  2.054193   no  1.414209  0.646288   2.0   \n",
       "1846   2.0    no  2.852339   no  1.139107  0.586035   2.0   \n",
       "1847   2.0    no  2.863513   no  1.026452  0.714137   2.0   \n",
       "\n",
       "                     MTRANS              Obesity  \n",
       "0     Public_Transportation        Normal_Weight  \n",
       "1     Public_Transportation        Normal_Weight  \n",
       "2     Public_Transportation        Normal_Weight  \n",
       "3                   Walking   Overweight_Level_I  \n",
       "4     Public_Transportation  Overweight_Level_II  \n",
       "...                     ...                  ...  \n",
       "1843  Public_Transportation     Obesity_Type_III  \n",
       "1844  Public_Transportation     Obesity_Type_III  \n",
       "1845  Public_Transportation     Obesity_Type_III  \n",
       "1846  Public_Transportation     Obesity_Type_III  \n",
       "1847  Public_Transportation     Obesity_Type_III  \n",
       "\n",
       "[1848 rows x 17 columns]"
      ]
     },
     "execution_count": 35,
     "metadata": {},
     "output_type": "execute_result"
    }
   ],
   "source": [
    "from sklearn.preprocessing import OrdinalEncoder\n",
    "\n",
    "ordinal_encoder = OrdinalEncoder()\n",
    "df[ordinal_column_names] = ordinal_encoder.fit_transform(df[ordinal_column_names])\n",
    "df"
   ]
  },
  {
   "cell_type": "markdown",
   "metadata": {
    "id": "3EMXhQOXkvAZ"
   },
   "source": [
    "### Nominal Data"
   ]
  },
  {
   "cell_type": "code",
   "execution_count": 36,
   "metadata": {
    "colab": {
     "base_uri": "https://localhost:8080/",
     "height": 443
    },
    "execution": {
     "iopub.execute_input": "2025-03-03T02:41:32.793096Z",
     "iopub.status.busy": "2025-03-03T02:41:32.793096Z",
     "iopub.status.idle": "2025-03-03T02:41:32.813527Z",
     "shell.execute_reply": "2025-03-03T02:41:32.813527Z"
    },
    "id": "4jCLljVcE_OU",
    "outputId": "f4998999-a0c4-4a89-bcbe-58a125554ea9"
   },
   "outputs": [
    {
     "data": {
      "text/html": [
       "<div>\n",
       "<style scoped>\n",
       "    .dataframe tbody tr th:only-of-type {\n",
       "        vertical-align: middle;\n",
       "    }\n",
       "\n",
       "    .dataframe tbody tr th {\n",
       "        vertical-align: top;\n",
       "    }\n",
       "\n",
       "    .dataframe thead th {\n",
       "        text-align: right;\n",
       "    }\n",
       "</style>\n",
       "<table border=\"1\" class=\"dataframe\">\n",
       "  <thead>\n",
       "    <tr style=\"text-align: right;\">\n",
       "      <th></th>\n",
       "      <th>Gender</th>\n",
       "      <th>Age</th>\n",
       "      <th>Height</th>\n",
       "      <th>Weight</th>\n",
       "      <th>family_history</th>\n",
       "      <th>FAVC</th>\n",
       "      <th>FCVC</th>\n",
       "      <th>NCP</th>\n",
       "      <th>CAEC</th>\n",
       "      <th>SMOKE</th>\n",
       "      <th>CH2O</th>\n",
       "      <th>SCC</th>\n",
       "      <th>FAF</th>\n",
       "      <th>TUE</th>\n",
       "      <th>CALC</th>\n",
       "      <th>MTRANS</th>\n",
       "      <th>Obesity</th>\n",
       "    </tr>\n",
       "  </thead>\n",
       "  <tbody>\n",
       "    <tr>\n",
       "      <th>0</th>\n",
       "      <td>0.0</td>\n",
       "      <td>21.000000</td>\n",
       "      <td>1.620000</td>\n",
       "      <td>64.000000</td>\n",
       "      <td>1.0</td>\n",
       "      <td>0.0</td>\n",
       "      <td>2.0</td>\n",
       "      <td>3.0</td>\n",
       "      <td>2.0</td>\n",
       "      <td>0.0</td>\n",
       "      <td>2.000000</td>\n",
       "      <td>0.0</td>\n",
       "      <td>0.000000</td>\n",
       "      <td>1.000000</td>\n",
       "      <td>3.0</td>\n",
       "      <td>3.0</td>\n",
       "      <td>Normal_Weight</td>\n",
       "    </tr>\n",
       "    <tr>\n",
       "      <th>1</th>\n",
       "      <td>0.0</td>\n",
       "      <td>21.000000</td>\n",
       "      <td>1.520000</td>\n",
       "      <td>56.000000</td>\n",
       "      <td>1.0</td>\n",
       "      <td>0.0</td>\n",
       "      <td>3.0</td>\n",
       "      <td>3.0</td>\n",
       "      <td>2.0</td>\n",
       "      <td>1.0</td>\n",
       "      <td>3.000000</td>\n",
       "      <td>1.0</td>\n",
       "      <td>3.000000</td>\n",
       "      <td>0.000000</td>\n",
       "      <td>2.0</td>\n",
       "      <td>3.0</td>\n",
       "      <td>Normal_Weight</td>\n",
       "    </tr>\n",
       "    <tr>\n",
       "      <th>2</th>\n",
       "      <td>1.0</td>\n",
       "      <td>23.000000</td>\n",
       "      <td>1.800000</td>\n",
       "      <td>77.000000</td>\n",
       "      <td>1.0</td>\n",
       "      <td>0.0</td>\n",
       "      <td>2.0</td>\n",
       "      <td>3.0</td>\n",
       "      <td>2.0</td>\n",
       "      <td>0.0</td>\n",
       "      <td>2.000000</td>\n",
       "      <td>0.0</td>\n",
       "      <td>2.000000</td>\n",
       "      <td>1.000000</td>\n",
       "      <td>1.0</td>\n",
       "      <td>3.0</td>\n",
       "      <td>Normal_Weight</td>\n",
       "    </tr>\n",
       "    <tr>\n",
       "      <th>3</th>\n",
       "      <td>1.0</td>\n",
       "      <td>27.000000</td>\n",
       "      <td>1.800000</td>\n",
       "      <td>87.000000</td>\n",
       "      <td>0.0</td>\n",
       "      <td>0.0</td>\n",
       "      <td>3.0</td>\n",
       "      <td>3.0</td>\n",
       "      <td>2.0</td>\n",
       "      <td>0.0</td>\n",
       "      <td>2.000000</td>\n",
       "      <td>0.0</td>\n",
       "      <td>2.000000</td>\n",
       "      <td>0.000000</td>\n",
       "      <td>1.0</td>\n",
       "      <td>4.0</td>\n",
       "      <td>Overweight_Level_I</td>\n",
       "    </tr>\n",
       "    <tr>\n",
       "      <th>4</th>\n",
       "      <td>1.0</td>\n",
       "      <td>22.000000</td>\n",
       "      <td>1.780000</td>\n",
       "      <td>89.800000</td>\n",
       "      <td>0.0</td>\n",
       "      <td>0.0</td>\n",
       "      <td>2.0</td>\n",
       "      <td>1.0</td>\n",
       "      <td>2.0</td>\n",
       "      <td>0.0</td>\n",
       "      <td>2.000000</td>\n",
       "      <td>0.0</td>\n",
       "      <td>0.000000</td>\n",
       "      <td>0.000000</td>\n",
       "      <td>2.0</td>\n",
       "      <td>3.0</td>\n",
       "      <td>Overweight_Level_II</td>\n",
       "    </tr>\n",
       "    <tr>\n",
       "      <th>...</th>\n",
       "      <td>...</td>\n",
       "      <td>...</td>\n",
       "      <td>...</td>\n",
       "      <td>...</td>\n",
       "      <td>...</td>\n",
       "      <td>...</td>\n",
       "      <td>...</td>\n",
       "      <td>...</td>\n",
       "      <td>...</td>\n",
       "      <td>...</td>\n",
       "      <td>...</td>\n",
       "      <td>...</td>\n",
       "      <td>...</td>\n",
       "      <td>...</td>\n",
       "      <td>...</td>\n",
       "      <td>...</td>\n",
       "      <td>...</td>\n",
       "    </tr>\n",
       "    <tr>\n",
       "      <th>1843</th>\n",
       "      <td>0.0</td>\n",
       "      <td>20.976842</td>\n",
       "      <td>1.710730</td>\n",
       "      <td>131.408528</td>\n",
       "      <td>1.0</td>\n",
       "      <td>1.0</td>\n",
       "      <td>3.0</td>\n",
       "      <td>3.0</td>\n",
       "      <td>2.0</td>\n",
       "      <td>0.0</td>\n",
       "      <td>1.728139</td>\n",
       "      <td>0.0</td>\n",
       "      <td>1.676269</td>\n",
       "      <td>0.906247</td>\n",
       "      <td>2.0</td>\n",
       "      <td>3.0</td>\n",
       "      <td>Obesity_Type_III</td>\n",
       "    </tr>\n",
       "    <tr>\n",
       "      <th>1844</th>\n",
       "      <td>0.0</td>\n",
       "      <td>21.982942</td>\n",
       "      <td>1.748584</td>\n",
       "      <td>133.742943</td>\n",
       "      <td>1.0</td>\n",
       "      <td>1.0</td>\n",
       "      <td>3.0</td>\n",
       "      <td>3.0</td>\n",
       "      <td>2.0</td>\n",
       "      <td>0.0</td>\n",
       "      <td>2.005130</td>\n",
       "      <td>0.0</td>\n",
       "      <td>1.341390</td>\n",
       "      <td>0.599270</td>\n",
       "      <td>2.0</td>\n",
       "      <td>3.0</td>\n",
       "      <td>Obesity_Type_III</td>\n",
       "    </tr>\n",
       "    <tr>\n",
       "      <th>1845</th>\n",
       "      <td>0.0</td>\n",
       "      <td>22.524036</td>\n",
       "      <td>1.752206</td>\n",
       "      <td>133.689352</td>\n",
       "      <td>1.0</td>\n",
       "      <td>1.0</td>\n",
       "      <td>3.0</td>\n",
       "      <td>3.0</td>\n",
       "      <td>2.0</td>\n",
       "      <td>0.0</td>\n",
       "      <td>2.054193</td>\n",
       "      <td>0.0</td>\n",
       "      <td>1.414209</td>\n",
       "      <td>0.646288</td>\n",
       "      <td>2.0</td>\n",
       "      <td>3.0</td>\n",
       "      <td>Obesity_Type_III</td>\n",
       "    </tr>\n",
       "    <tr>\n",
       "      <th>1846</th>\n",
       "      <td>0.0</td>\n",
       "      <td>24.361936</td>\n",
       "      <td>1.739450</td>\n",
       "      <td>133.346641</td>\n",
       "      <td>1.0</td>\n",
       "      <td>1.0</td>\n",
       "      <td>3.0</td>\n",
       "      <td>3.0</td>\n",
       "      <td>2.0</td>\n",
       "      <td>0.0</td>\n",
       "      <td>2.852339</td>\n",
       "      <td>0.0</td>\n",
       "      <td>1.139107</td>\n",
       "      <td>0.586035</td>\n",
       "      <td>2.0</td>\n",
       "      <td>3.0</td>\n",
       "      <td>Obesity_Type_III</td>\n",
       "    </tr>\n",
       "    <tr>\n",
       "      <th>1847</th>\n",
       "      <td>0.0</td>\n",
       "      <td>23.664709</td>\n",
       "      <td>1.738836</td>\n",
       "      <td>133.472641</td>\n",
       "      <td>1.0</td>\n",
       "      <td>1.0</td>\n",
       "      <td>3.0</td>\n",
       "      <td>3.0</td>\n",
       "      <td>2.0</td>\n",
       "      <td>0.0</td>\n",
       "      <td>2.863513</td>\n",
       "      <td>0.0</td>\n",
       "      <td>1.026452</td>\n",
       "      <td>0.714137</td>\n",
       "      <td>2.0</td>\n",
       "      <td>3.0</td>\n",
       "      <td>Obesity_Type_III</td>\n",
       "    </tr>\n",
       "  </tbody>\n",
       "</table>\n",
       "<p>1848 rows × 17 columns</p>\n",
       "</div>"
      ],
      "text/plain": [
       "      Gender        Age    Height      Weight  family_history  FAVC  FCVC  \\\n",
       "0        0.0  21.000000  1.620000   64.000000             1.0   0.0   2.0   \n",
       "1        0.0  21.000000  1.520000   56.000000             1.0   0.0   3.0   \n",
       "2        1.0  23.000000  1.800000   77.000000             1.0   0.0   2.0   \n",
       "3        1.0  27.000000  1.800000   87.000000             0.0   0.0   3.0   \n",
       "4        1.0  22.000000  1.780000   89.800000             0.0   0.0   2.0   \n",
       "...      ...        ...       ...         ...             ...   ...   ...   \n",
       "1843     0.0  20.976842  1.710730  131.408528             1.0   1.0   3.0   \n",
       "1844     0.0  21.982942  1.748584  133.742943             1.0   1.0   3.0   \n",
       "1845     0.0  22.524036  1.752206  133.689352             1.0   1.0   3.0   \n",
       "1846     0.0  24.361936  1.739450  133.346641             1.0   1.0   3.0   \n",
       "1847     0.0  23.664709  1.738836  133.472641             1.0   1.0   3.0   \n",
       "\n",
       "      NCP  CAEC  SMOKE      CH2O  SCC       FAF       TUE  CALC  MTRANS  \\\n",
       "0     3.0   2.0    0.0  2.000000  0.0  0.000000  1.000000   3.0     3.0   \n",
       "1     3.0   2.0    1.0  3.000000  1.0  3.000000  0.000000   2.0     3.0   \n",
       "2     3.0   2.0    0.0  2.000000  0.0  2.000000  1.000000   1.0     3.0   \n",
       "3     3.0   2.0    0.0  2.000000  0.0  2.000000  0.000000   1.0     4.0   \n",
       "4     1.0   2.0    0.0  2.000000  0.0  0.000000  0.000000   2.0     3.0   \n",
       "...   ...   ...    ...       ...  ...       ...       ...   ...     ...   \n",
       "1843  3.0   2.0    0.0  1.728139  0.0  1.676269  0.906247   2.0     3.0   \n",
       "1844  3.0   2.0    0.0  2.005130  0.0  1.341390  0.599270   2.0     3.0   \n",
       "1845  3.0   2.0    0.0  2.054193  0.0  1.414209  0.646288   2.0     3.0   \n",
       "1846  3.0   2.0    0.0  2.852339  0.0  1.139107  0.586035   2.0     3.0   \n",
       "1847  3.0   2.0    0.0  2.863513  0.0  1.026452  0.714137   2.0     3.0   \n",
       "\n",
       "                  Obesity  \n",
       "0           Normal_Weight  \n",
       "1           Normal_Weight  \n",
       "2           Normal_Weight  \n",
       "3      Overweight_Level_I  \n",
       "4     Overweight_Level_II  \n",
       "...                   ...  \n",
       "1843     Obesity_Type_III  \n",
       "1844     Obesity_Type_III  \n",
       "1845     Obesity_Type_III  \n",
       "1846     Obesity_Type_III  \n",
       "1847     Obesity_Type_III  \n",
       "\n",
       "[1848 rows x 17 columns]"
      ]
     },
     "execution_count": 36,
     "metadata": {},
     "output_type": "execute_result"
    }
   ],
   "source": [
    "df[nominal_column_names] = ordinal_encoder.fit_transform(df[nominal_column_names])\n",
    "df"
   ]
  },
  {
   "cell_type": "markdown",
   "metadata": {
    "id": "xMBXcVUOmMA0"
   },
   "source": [
    "### Label"
   ]
  },
  {
   "cell_type": "code",
   "execution_count": 37,
   "metadata": {
    "execution": {
     "iopub.execute_input": "2025-03-03T02:41:32.815533Z",
     "iopub.status.busy": "2025-03-03T02:41:32.815533Z",
     "iopub.status.idle": "2025-03-03T02:41:32.819037Z",
     "shell.execute_reply": "2025-03-03T02:41:32.818531Z"
    },
    "id": "pRMiaXSPongo"
   },
   "outputs": [],
   "source": [
    "target_labels = {\n",
    "    'Insufficient_Weight': 0,\n",
    "    'Normal_Weight': 1,\n",
    "    'Overweight_Level_I': 2,\n",
    "    'Overweight_Level_II': 3,\n",
    "    'Obesity_Type_I': 4,\n",
    "    'Obesity_Type_II': 5,\n",
    "    'Obesity_Type_III': 6,\n",
    "}"
   ]
  },
  {
   "cell_type": "code",
   "execution_count": 38,
   "metadata": {
    "colab": {
     "base_uri": "https://localhost:8080/",
     "height": 443
    },
    "execution": {
     "iopub.execute_input": "2025-03-03T02:41:32.820548Z",
     "iopub.status.busy": "2025-03-03T02:41:32.820548Z",
     "iopub.status.idle": "2025-03-03T02:41:32.838551Z",
     "shell.execute_reply": "2025-03-03T02:41:32.838551Z"
    },
    "id": "paid83Tkp9AJ",
    "outputId": "0f8b706d-6f82-4412-d74b-155bea791c1c"
   },
   "outputs": [
    {
     "data": {
      "text/html": [
       "<div>\n",
       "<style scoped>\n",
       "    .dataframe tbody tr th:only-of-type {\n",
       "        vertical-align: middle;\n",
       "    }\n",
       "\n",
       "    .dataframe tbody tr th {\n",
       "        vertical-align: top;\n",
       "    }\n",
       "\n",
       "    .dataframe thead th {\n",
       "        text-align: right;\n",
       "    }\n",
       "</style>\n",
       "<table border=\"1\" class=\"dataframe\">\n",
       "  <thead>\n",
       "    <tr style=\"text-align: right;\">\n",
       "      <th></th>\n",
       "      <th>Gender</th>\n",
       "      <th>Age</th>\n",
       "      <th>Height</th>\n",
       "      <th>Weight</th>\n",
       "      <th>family_history</th>\n",
       "      <th>FAVC</th>\n",
       "      <th>FCVC</th>\n",
       "      <th>NCP</th>\n",
       "      <th>CAEC</th>\n",
       "      <th>SMOKE</th>\n",
       "      <th>CH2O</th>\n",
       "      <th>SCC</th>\n",
       "      <th>FAF</th>\n",
       "      <th>TUE</th>\n",
       "      <th>CALC</th>\n",
       "      <th>MTRANS</th>\n",
       "      <th>Obesity</th>\n",
       "    </tr>\n",
       "  </thead>\n",
       "  <tbody>\n",
       "    <tr>\n",
       "      <th>0</th>\n",
       "      <td>0.0</td>\n",
       "      <td>21.000000</td>\n",
       "      <td>1.620000</td>\n",
       "      <td>64.000000</td>\n",
       "      <td>1.0</td>\n",
       "      <td>0.0</td>\n",
       "      <td>2.0</td>\n",
       "      <td>3.0</td>\n",
       "      <td>2.0</td>\n",
       "      <td>0.0</td>\n",
       "      <td>2.000000</td>\n",
       "      <td>0.0</td>\n",
       "      <td>0.000000</td>\n",
       "      <td>1.000000</td>\n",
       "      <td>3.0</td>\n",
       "      <td>3.0</td>\n",
       "      <td>1</td>\n",
       "    </tr>\n",
       "    <tr>\n",
       "      <th>1</th>\n",
       "      <td>0.0</td>\n",
       "      <td>21.000000</td>\n",
       "      <td>1.520000</td>\n",
       "      <td>56.000000</td>\n",
       "      <td>1.0</td>\n",
       "      <td>0.0</td>\n",
       "      <td>3.0</td>\n",
       "      <td>3.0</td>\n",
       "      <td>2.0</td>\n",
       "      <td>1.0</td>\n",
       "      <td>3.000000</td>\n",
       "      <td>1.0</td>\n",
       "      <td>3.000000</td>\n",
       "      <td>0.000000</td>\n",
       "      <td>2.0</td>\n",
       "      <td>3.0</td>\n",
       "      <td>1</td>\n",
       "    </tr>\n",
       "    <tr>\n",
       "      <th>2</th>\n",
       "      <td>1.0</td>\n",
       "      <td>23.000000</td>\n",
       "      <td>1.800000</td>\n",
       "      <td>77.000000</td>\n",
       "      <td>1.0</td>\n",
       "      <td>0.0</td>\n",
       "      <td>2.0</td>\n",
       "      <td>3.0</td>\n",
       "      <td>2.0</td>\n",
       "      <td>0.0</td>\n",
       "      <td>2.000000</td>\n",
       "      <td>0.0</td>\n",
       "      <td>2.000000</td>\n",
       "      <td>1.000000</td>\n",
       "      <td>1.0</td>\n",
       "      <td>3.0</td>\n",
       "      <td>1</td>\n",
       "    </tr>\n",
       "    <tr>\n",
       "      <th>3</th>\n",
       "      <td>1.0</td>\n",
       "      <td>27.000000</td>\n",
       "      <td>1.800000</td>\n",
       "      <td>87.000000</td>\n",
       "      <td>0.0</td>\n",
       "      <td>0.0</td>\n",
       "      <td>3.0</td>\n",
       "      <td>3.0</td>\n",
       "      <td>2.0</td>\n",
       "      <td>0.0</td>\n",
       "      <td>2.000000</td>\n",
       "      <td>0.0</td>\n",
       "      <td>2.000000</td>\n",
       "      <td>0.000000</td>\n",
       "      <td>1.0</td>\n",
       "      <td>4.0</td>\n",
       "      <td>2</td>\n",
       "    </tr>\n",
       "    <tr>\n",
       "      <th>4</th>\n",
       "      <td>1.0</td>\n",
       "      <td>22.000000</td>\n",
       "      <td>1.780000</td>\n",
       "      <td>89.800000</td>\n",
       "      <td>0.0</td>\n",
       "      <td>0.0</td>\n",
       "      <td>2.0</td>\n",
       "      <td>1.0</td>\n",
       "      <td>2.0</td>\n",
       "      <td>0.0</td>\n",
       "      <td>2.000000</td>\n",
       "      <td>0.0</td>\n",
       "      <td>0.000000</td>\n",
       "      <td>0.000000</td>\n",
       "      <td>2.0</td>\n",
       "      <td>3.0</td>\n",
       "      <td>3</td>\n",
       "    </tr>\n",
       "    <tr>\n",
       "      <th>...</th>\n",
       "      <td>...</td>\n",
       "      <td>...</td>\n",
       "      <td>...</td>\n",
       "      <td>...</td>\n",
       "      <td>...</td>\n",
       "      <td>...</td>\n",
       "      <td>...</td>\n",
       "      <td>...</td>\n",
       "      <td>...</td>\n",
       "      <td>...</td>\n",
       "      <td>...</td>\n",
       "      <td>...</td>\n",
       "      <td>...</td>\n",
       "      <td>...</td>\n",
       "      <td>...</td>\n",
       "      <td>...</td>\n",
       "      <td>...</td>\n",
       "    </tr>\n",
       "    <tr>\n",
       "      <th>1843</th>\n",
       "      <td>0.0</td>\n",
       "      <td>20.976842</td>\n",
       "      <td>1.710730</td>\n",
       "      <td>131.408528</td>\n",
       "      <td>1.0</td>\n",
       "      <td>1.0</td>\n",
       "      <td>3.0</td>\n",
       "      <td>3.0</td>\n",
       "      <td>2.0</td>\n",
       "      <td>0.0</td>\n",
       "      <td>1.728139</td>\n",
       "      <td>0.0</td>\n",
       "      <td>1.676269</td>\n",
       "      <td>0.906247</td>\n",
       "      <td>2.0</td>\n",
       "      <td>3.0</td>\n",
       "      <td>6</td>\n",
       "    </tr>\n",
       "    <tr>\n",
       "      <th>1844</th>\n",
       "      <td>0.0</td>\n",
       "      <td>21.982942</td>\n",
       "      <td>1.748584</td>\n",
       "      <td>133.742943</td>\n",
       "      <td>1.0</td>\n",
       "      <td>1.0</td>\n",
       "      <td>3.0</td>\n",
       "      <td>3.0</td>\n",
       "      <td>2.0</td>\n",
       "      <td>0.0</td>\n",
       "      <td>2.005130</td>\n",
       "      <td>0.0</td>\n",
       "      <td>1.341390</td>\n",
       "      <td>0.599270</td>\n",
       "      <td>2.0</td>\n",
       "      <td>3.0</td>\n",
       "      <td>6</td>\n",
       "    </tr>\n",
       "    <tr>\n",
       "      <th>1845</th>\n",
       "      <td>0.0</td>\n",
       "      <td>22.524036</td>\n",
       "      <td>1.752206</td>\n",
       "      <td>133.689352</td>\n",
       "      <td>1.0</td>\n",
       "      <td>1.0</td>\n",
       "      <td>3.0</td>\n",
       "      <td>3.0</td>\n",
       "      <td>2.0</td>\n",
       "      <td>0.0</td>\n",
       "      <td>2.054193</td>\n",
       "      <td>0.0</td>\n",
       "      <td>1.414209</td>\n",
       "      <td>0.646288</td>\n",
       "      <td>2.0</td>\n",
       "      <td>3.0</td>\n",
       "      <td>6</td>\n",
       "    </tr>\n",
       "    <tr>\n",
       "      <th>1846</th>\n",
       "      <td>0.0</td>\n",
       "      <td>24.361936</td>\n",
       "      <td>1.739450</td>\n",
       "      <td>133.346641</td>\n",
       "      <td>1.0</td>\n",
       "      <td>1.0</td>\n",
       "      <td>3.0</td>\n",
       "      <td>3.0</td>\n",
       "      <td>2.0</td>\n",
       "      <td>0.0</td>\n",
       "      <td>2.852339</td>\n",
       "      <td>0.0</td>\n",
       "      <td>1.139107</td>\n",
       "      <td>0.586035</td>\n",
       "      <td>2.0</td>\n",
       "      <td>3.0</td>\n",
       "      <td>6</td>\n",
       "    </tr>\n",
       "    <tr>\n",
       "      <th>1847</th>\n",
       "      <td>0.0</td>\n",
       "      <td>23.664709</td>\n",
       "      <td>1.738836</td>\n",
       "      <td>133.472641</td>\n",
       "      <td>1.0</td>\n",
       "      <td>1.0</td>\n",
       "      <td>3.0</td>\n",
       "      <td>3.0</td>\n",
       "      <td>2.0</td>\n",
       "      <td>0.0</td>\n",
       "      <td>2.863513</td>\n",
       "      <td>0.0</td>\n",
       "      <td>1.026452</td>\n",
       "      <td>0.714137</td>\n",
       "      <td>2.0</td>\n",
       "      <td>3.0</td>\n",
       "      <td>6</td>\n",
       "    </tr>\n",
       "  </tbody>\n",
       "</table>\n",
       "<p>1848 rows × 17 columns</p>\n",
       "</div>"
      ],
      "text/plain": [
       "      Gender        Age    Height      Weight  family_history  FAVC  FCVC  \\\n",
       "0        0.0  21.000000  1.620000   64.000000             1.0   0.0   2.0   \n",
       "1        0.0  21.000000  1.520000   56.000000             1.0   0.0   3.0   \n",
       "2        1.0  23.000000  1.800000   77.000000             1.0   0.0   2.0   \n",
       "3        1.0  27.000000  1.800000   87.000000             0.0   0.0   3.0   \n",
       "4        1.0  22.000000  1.780000   89.800000             0.0   0.0   2.0   \n",
       "...      ...        ...       ...         ...             ...   ...   ...   \n",
       "1843     0.0  20.976842  1.710730  131.408528             1.0   1.0   3.0   \n",
       "1844     0.0  21.982942  1.748584  133.742943             1.0   1.0   3.0   \n",
       "1845     0.0  22.524036  1.752206  133.689352             1.0   1.0   3.0   \n",
       "1846     0.0  24.361936  1.739450  133.346641             1.0   1.0   3.0   \n",
       "1847     0.0  23.664709  1.738836  133.472641             1.0   1.0   3.0   \n",
       "\n",
       "      NCP  CAEC  SMOKE      CH2O  SCC       FAF       TUE  CALC  MTRANS  \\\n",
       "0     3.0   2.0    0.0  2.000000  0.0  0.000000  1.000000   3.0     3.0   \n",
       "1     3.0   2.0    1.0  3.000000  1.0  3.000000  0.000000   2.0     3.0   \n",
       "2     3.0   2.0    0.0  2.000000  0.0  2.000000  1.000000   1.0     3.0   \n",
       "3     3.0   2.0    0.0  2.000000  0.0  2.000000  0.000000   1.0     4.0   \n",
       "4     1.0   2.0    0.0  2.000000  0.0  0.000000  0.000000   2.0     3.0   \n",
       "...   ...   ...    ...       ...  ...       ...       ...   ...     ...   \n",
       "1843  3.0   2.0    0.0  1.728139  0.0  1.676269  0.906247   2.0     3.0   \n",
       "1844  3.0   2.0    0.0  2.005130  0.0  1.341390  0.599270   2.0     3.0   \n",
       "1845  3.0   2.0    0.0  2.054193  0.0  1.414209  0.646288   2.0     3.0   \n",
       "1846  3.0   2.0    0.0  2.852339  0.0  1.139107  0.586035   2.0     3.0   \n",
       "1847  3.0   2.0    0.0  2.863513  0.0  1.026452  0.714137   2.0     3.0   \n",
       "\n",
       "      Obesity  \n",
       "0           1  \n",
       "1           1  \n",
       "2           1  \n",
       "3           2  \n",
       "4           3  \n",
       "...       ...  \n",
       "1843        6  \n",
       "1844        6  \n",
       "1845        6  \n",
       "1846        6  \n",
       "1847        6  \n",
       "\n",
       "[1848 rows x 17 columns]"
      ]
     },
     "execution_count": 38,
     "metadata": {},
     "output_type": "execute_result"
    }
   ],
   "source": [
    "df['Obesity'] = df['Obesity'].replace(target_labels)\n",
    "df"
   ]
  },
  {
   "cell_type": "markdown",
   "metadata": {
    "id": "TW-dVWOHl3y6"
   },
   "source": [
    "## Features Selection"
   ]
  },
  {
   "cell_type": "code",
   "execution_count": 39,
   "metadata": {
    "colab": {
     "base_uri": "https://localhost:8080/",
     "height": 519
    },
    "execution": {
     "iopub.execute_input": "2025-03-03T02:41:32.842673Z",
     "iopub.status.busy": "2025-03-03T02:41:32.841673Z",
     "iopub.status.idle": "2025-03-03T02:41:33.036934Z",
     "shell.execute_reply": "2025-03-03T02:41:33.036934Z"
    },
    "id": "3drovdjLl7Bg",
    "outputId": "a7054884-8748-48ad-e6c8-a5acbca0af00"
   },
   "outputs": [
    {
     "data": {
      "image/png": "[encoded data removed]",
      "text/plain": [
       "<Figure size 640x480 with 2 Axes>"
      ]
     },
     "metadata": {},
     "output_type": "display_data"
    }
   ],
   "source": [
    "sns.heatmap(df.corr(method=\"spearman\"))\n",
    "plt.show()"
   ]
  },
  {
   "cell_type": "code",
   "execution_count": 40,
   "metadata": {
    "colab": {
     "base_uri": "https://localhost:8080/"
    },
    "execution": {
     "iopub.execute_input": "2025-03-03T02:41:33.038941Z",
     "iopub.status.busy": "2025-03-03T02:41:33.038941Z",
     "iopub.status.idle": "2025-03-03T02:41:33.046447Z",
     "shell.execute_reply": "2025-03-03T02:41:33.046447Z"
    },
    "id": "2BdUGXIgnFYr",
    "outputId": "79771c89-1d72-4e79-b853-152bca63a38e"
   },
   "outputs": [
    {
     "data": {
      "text/plain": [
       "[('Gender', 'Height'), ('Height', 'Gender')]"
      ]
     },
     "execution_count": 40,
     "metadata": {},
     "output_type": "execute_result"
    }
   ],
   "source": [
    "data_corr = df.corr()\n",
    "[(col, row) for col in data_corr.columns for row in data_corr.index if data_corr.loc[col, row] > 0.6 and col != row and col != 'Obesity' and row != 'Obesity']"
   ]
  },
  {
   "cell_type": "code",
   "execution_count": 41,
   "metadata": {
    "colab": {
     "base_uri": "https://localhost:8080/"
    },
    "execution": {
     "iopub.execute_input": "2025-03-03T02:41:33.048455Z",
     "iopub.status.busy": "2025-03-03T02:41:33.048455Z",
     "iopub.status.idle": "2025-03-03T02:41:33.052753Z",
     "shell.execute_reply": "2025-03-03T02:41:33.052753Z"
    },
    "id": "ggOYavqN-pWH",
    "outputId": "69e56f87-a96e-4d55-a9d7-d6e42a08be08"
   },
   "outputs": [
    {
     "name": "stdout",
     "output_type": "stream",
     "text": [
      "Correlation between Gender and Obesity: 0.05864169648193699\n",
      "Correlation between Height and Obesity: 0.08245851903469502\n"
     ]
    }
   ],
   "source": [
    "print(f\"Correlation between Gender and Obesity: {abs(data_corr['Gender']['Obesity'])}\")\n",
    "print(f\"Correlation between Height and Obesity: {abs(data_corr['Height']['Obesity'])}\")"
   ]
  },
  {
   "cell_type": "markdown",
   "metadata": {
    "id": "_F9kf5dMGqP8"
   },
   "source": [
    "# 4. Model Selection"
   ]
  },
  {
   "cell_type": "markdown",
   "metadata": {
    "id": "jlPc-joUGt1l"
   },
   "source": [
    "# 5. Model Training"
   ]
  },
  {
   "cell_type": "markdown",
   "metadata": {},
   "source": [
    "## Evaluation"
   ]
  },
  {
   "cell_type": "code",
   "execution_count": 42,
   "metadata": {
    "execution": {
     "iopub.execute_input": "2025-03-03T02:41:33.054762Z",
     "iopub.status.busy": "2025-03-03T02:41:33.054762Z",
     "iopub.status.idle": "2025-03-03T02:41:33.100718Z",
     "shell.execute_reply": "2025-03-03T02:41:33.100718Z"
    }
   },
   "outputs": [],
   "source": [
    "from sklearn.model_selection import cross_val_score\n",
    "from sklearn.metrics import roc_auc_score, confusion_matrix, f1_score, recall_score, precision_score, roc_curve, auc\n",
    "\n",
    "def print_eval(model, X_train, X_test, y_train, y_test, df_X, df_y, cv=5, multi_class='ovo', average='macro'):\n",
    "    print(\"Training Accuracy:\", model.score(X_train, y_train))\n",
    "    print(\"Test Accuracy:\", model.score(X_test, y_test))\n",
    "    \n",
    "    scores = cross_val_score(model, df_X, df_y, cv=cv)\n",
    "    print(\"Cross Validation Scores:\", scores)\n",
    "    print(\"Average CV Score:\", scores.mean())\n",
    "\n",
    "    y_train_pred = model.predict(X_train)\n",
    "    y_test_pred = model.predict(X_test)\n",
    "\n",
    "    train_labels = np.unique(y_train)\n",
    "    test_labels = np.unique(y_test)\n",
    "\n",
    "    print(f'Train Confusion Matrix: {confusion_matrix(y_train, y_train_pred, labels=train_labels)}')\n",
    "    print(f'Test Confusion Matrix: {confusion_matrix(y_test, y_test_pred, labels=test_labels)}')\n",
    "\n",
    "    # if hasattr(model, \"predict_proba\"):\n",
    "    #     y_train_proba = model.predict_proba(X_train)\n",
    "    #     y_test_proba = model.predict_proba(X_test)\n",
    "    #     print(f'Train AUC: {roc_auc_score(y_train, y_train_proba, multi_class=multi_class)}')\n",
    "    #     print(f'Test AUC: {roc_auc_score(y_test, y_test_proba, multi_class=multi_class)}')\n",
    "\n",
    "    #     n_classes = y_test_proba.shape[1]\n",
    "\n",
    "    #     plt.figure(figsize=(8, 6))\n",
    "    #     for i in range(n_classes):\n",
    "    #         fpr, tpr, thresholds = roc_curve(y_test == i, y_test_proba[:, i])\n",
    "    #         plt.plot(fpr, tpr, label=f'Class {i}')\n",
    "\n",
    "    #     fpr, tpr, thresholds = roc_curve(y_test, y_test_proba)\n",
    "    #     roc_auc = auc(fpr, tpr)\n",
    "\n",
    "        # plt.plot(fpr, tpr, color='darkorange', lw=2, label=f'ROC Curve (AUC: {roc_auc:.2f})')\n",
    "        # plt.plot([0, 1], [0, 1], color='navy', lw=2)\n",
    "    #     plt.xlabel('False Positive Rate')\n",
    "    #     plt.ylabel('True Positive Rate')\n",
    "    #     plt.title('Receiver Operating Characteristic (ROC) Curve')\n",
    "    #     plt.legend(loc='lower right')\n",
    "    #     plt.show()\n",
    "    # else:\n",
    "    #     print(\"AUC not available: Model does not support probability predictions.\")\n",
    "\n",
    "    print(f'Train Recall Score: {recall_score(y_train, y_train_pred, labels=train_labels, average=average)}')\n",
    "    print(f'Test Recall Score: {recall_score(y_test, y_test_pred, labels=test_labels, average=average)}')\n",
    "\n",
    "    print(f'Train Precision Score: {precision_score(y_train, y_train_pred, labels=train_labels, average=average)}')\n",
    "    print(f'Test Precision Score: {precision_score(y_test, y_test_pred, labels=test_labels, average=average)}')\n",
    "\n",
    "    print(f'Train F1 Score: {f1_score(y_train, y_train_pred, labels=train_labels, average=average)}')\n",
    "    print(f'Test F1 Score: {f1_score(y_test, y_test_pred, labels=test_labels, average=average)}')"
   ]
  },
  {
   "cell_type": "markdown",
   "metadata": {},
   "source": [
    "## Model"
   ]
  },
  {
   "cell_type": "code",
   "execution_count": 43,
   "metadata": {
    "execution": {
     "iopub.execute_input": "2025-03-03T02:41:33.103726Z",
     "iopub.status.busy": "2025-03-03T02:41:33.102723Z",
     "iopub.status.idle": "2025-03-03T02:41:33.106870Z",
     "shell.execute_reply": "2025-03-03T02:41:33.106870Z"
    },
    "id": "YGcCgPE9jx3H"
   },
   "outputs": [],
   "source": [
    "df_X = df.drop(columns=['Gender', 'Obesity'])\n",
    "df_y = df['Obesity']"
   ]
  },
  {
   "cell_type": "code",
   "execution_count": 44,
   "metadata": {
    "execution": {
     "iopub.execute_input": "2025-03-03T02:41:33.109876Z",
     "iopub.status.busy": "2025-03-03T02:41:33.108876Z",
     "iopub.status.idle": "2025-03-03T02:41:33.114875Z",
     "shell.execute_reply": "2025-03-03T02:41:33.114875Z"
    },
    "id": "XOjDBfm0jdcX"
   },
   "outputs": [
    {
     "data": {
      "text/plain": [
       "(1848, 15)"
      ]
     },
     "execution_count": 44,
     "metadata": {},
     "output_type": "execute_result"
    }
   ],
   "source": [
    "from sklearn.model_selection import train_test_split\n",
    "X_train, X_test, y_train, y_test = train_test_split(\n",
    "    df_X, df_y, test_size=0.33, random_state=42)\n",
    "df_X.shape"
   ]
  },
  {
   "cell_type": "code",
   "execution_count": 45,
   "metadata": {
    "colab": {
     "base_uri": "https://localhost:8080/",
     "height": 80
    },
    "execution": {
     "iopub.execute_input": "2025-03-03T02:41:33.116926Z",
     "iopub.status.busy": "2025-03-03T02:41:33.116926Z",
     "iopub.status.idle": "2025-03-03T02:41:33.357560Z",
     "shell.execute_reply": "2025-03-03T02:41:33.357560Z"
    },
    "id": "mfHpFEsmj6Eh",
    "outputId": "932e035d-506d-455b-eb16-70efcd363faf"
   },
   "outputs": [
    {
     "data": {
      "text/html": [
       "<style>#sk-container-id-1 {\n",
       "  /* Definition of color scheme common for light and dark mode */\n",
       "  --sklearn-color-text: black;\n",
       "  --sklearn-color-line: gray;\n",
       "  /* Definition of color scheme for unfitted estimators */\n",
       "  --sklearn-color-unfitted-level-0: #fff5e6;\n",
       "  --sklearn-color-unfitted-level-1: #f6e4d2;\n",
       "  --sklearn-color-unfitted-level-2: #ffe0b3;\n",
       "  --sklearn-color-unfitted-level-3: chocolate;\n",
       "  /* Definition of color scheme for fitted estimators */\n",
       "  --sklearn-color-fitted-level-0: #f0f8ff;\n",
       "  --sklearn-color-fitted-level-1: #d4ebff;\n",
       "  --sklearn-color-fitted-level-2: #b3dbfd;\n",
       "  --sklearn-color-fitted-level-3: cornflowerblue;\n",
       "\n",
       "  /* Specific color for light theme */\n",
       "  --sklearn-color-text-on-default-background: var(--sg-text-color, var(--theme-code-foreground, var(--jp-content-font-color1, black)));\n",
       "  --sklearn-color-background: var(--sg-background-color, var(--theme-background, var(--jp-layout-color0, white)));\n",
       "  --sklearn-color-border-box: var(--sg-text-color, var(--theme-code-foreground, var(--jp-content-font-color1, black)));\n",
       "  --sklearn-color-icon: #696969;\n",
       "\n",
       "  @media (prefers-color-scheme: dark) {\n",
       "    /* Redefinition of color scheme for dark theme */\n",
       "    --sklearn-color-text-on-default-background: var(--sg-text-color, var(--theme-code-foreground, var(--jp-content-font-color1, white)));\n",
       "    --sklearn-color-background: var(--sg-background-color, var(--theme-background, var(--jp-layout-color0, #111)));\n",
       "    --sklearn-color-border-box: var(--sg-text-color, var(--theme-code-foreground, var(--jp-content-font-color1, white)));\n",
       "    --sklearn-color-icon: #878787;\n",
       "  }\n",
       "}\n",
       "\n",
       "#sk-container-id-1 {\n",
       "  color: var(--sklearn-color-text);\n",
       "}\n",
       "\n",
       "#sk-container-id-1 pre {\n",
       "  padding: 0;\n",
       "}\n",
       "\n",
       "#sk-container-id-1 input.sk-hidden--visually {\n",
       "  border: 0;\n",
       "  clip: rect(1px 1px 1px 1px);\n",
       "  clip: rect(1px, 1px, 1px, 1px);\n",
       "  height: 1px;\n",
       "  margin: -1px;\n",
       "  overflow: hidden;\n",
       "  padding: 0;\n",
       "  position: absolute;\n",
       "  width: 1px;\n",
       "}\n",
       "\n",
       "#sk-container-id-1 div.sk-dashed-wrapped {\n",
       "  border: 1px dashed var(--sklearn-color-line);\n",
       "  margin: 0 0.4em 0.5em 0.4em;\n",
       "  box-sizing: border-box;\n",
       "  padding-bottom: 0.4em;\n",
       "  background-color: var(--sklearn-color-background);\n",
       "}\n",
       "\n",
       "#sk-container-id-1 div.sk-container {\n",
       "  /* jupyter's `normalize.less` sets `[hidden] { display: none; }`\n",
       "     but bootstrap.min.css set `[hidden] { display: none !important; }`\n",
       "     so we also need the `!important` here to be able to override the\n",
       "     default hidden behavior on the sphinx rendered scikit-learn.org.\n",
       "     See: https://github.com/scikit-learn/scikit-learn/issues/21755 */\n",
       "  display: inline-block !important;\n",
       "  position: relative;\n",
       "}\n",
       "\n",
       "#sk-container-id-1 div.sk-text-repr-fallback {\n",
       "  display: none;\n",
       "}\n",
       "\n",
       "div.sk-parallel-item,\n",
       "div.sk-serial,\n",
       "div.sk-item {\n",
       "  /* draw centered vertical line to link estimators */\n",
       "  background-image: linear-gradient(var(--sklearn-color-text-on-default-background), var(--sklearn-color-text-on-default-background));\n",
       "  background-size: 2px 100%;\n",
       "  background-repeat: no-repeat;\n",
       "  background-position: center center;\n",
       "}\n",
       "\n",
       "/* Parallel-specific style estimator block */\n",
       "\n",
       "#sk-container-id-1 div.sk-parallel-item::after {\n",
       "  content: \"\";\n",
       "  width: 100%;\n",
       "  border-bottom: 2px solid var(--sklearn-color-text-on-default-background);\n",
       "  flex-grow: 1;\n",
       "}\n",
       "\n",
       "#sk-container-id-1 div.sk-parallel {\n",
       "  display: flex;\n",
       "  align-items: stretch;\n",
       "  justify-content: center;\n",
       "  background-color: var(--sklearn-color-background);\n",
       "  position: relative;\n",
       "}\n",
       "\n",
       "#sk-container-id-1 div.sk-parallel-item {\n",
       "  display: flex;\n",
       "  flex-direction: column;\n",
       "}\n",
       "\n",
       "#sk-container-id-1 div.sk-parallel-item:first-child::after {\n",
       "  align-self: flex-end;\n",
       "  width: 50%;\n",
       "}\n",
       "\n",
       "#sk-container-id-1 div.sk-parallel-item:last-child::after {\n",
       "  align-self: flex-start;\n",
       "  width: 50%;\n",
       "}\n",
       "\n",
       "#sk-container-id-1 div.sk-parallel-item:only-child::after {\n",
       "  width: 0;\n",
       "}\n",
       "\n",
       "/* Serial-specific style estimator block */\n",
       "\n",
       "#sk-container-id-1 div.sk-serial {\n",
       "  display: flex;\n",
       "  flex-direction: column;\n",
       "  align-items: center;\n",
       "  background-color: var(--sklearn-color-background);\n",
       "  padding-right: 1em;\n",
       "  padding-left: 1em;\n",
       "}\n",
       "\n",
       "\n",
       "/* Toggleable style: style used for estimator/Pipeline/ColumnTransformer box that is\n",
       "clickable and can be expanded/collapsed.\n",
       "- Pipeline and ColumnTransformer use this feature and define the default style\n",
       "- Estimators will overwrite some part of the style using the `sk-estimator` class\n",
       "*/\n",
       "\n",
       "/* Pipeline and ColumnTransformer style (default) */\n",
       "\n",
       "#sk-container-id-1 div.sk-toggleable {\n",
       "  /* Default theme specific background. It is overwritten whether we have a\n",
       "  specific estimator or a Pipeline/ColumnTransformer */\n",
       "  background-color: var(--sklearn-color-background);\n",
       "}\n",
       "\n",
       "/* Toggleable label */\n",
       "#sk-container-id-1 label.sk-toggleable__label {\n",
       "  cursor: pointer;\n",
       "  display: block;\n",
       "  width: 100%;\n",
       "  margin-bottom: 0;\n",
       "  padding: 0.5em;\n",
       "  box-sizing: border-box;\n",
       "  text-align: center;\n",
       "}\n",
       "\n",
       "#sk-container-id-1 label.sk-toggleable__label-arrow:before {\n",
       "  /* Arrow on the left of the label */\n",
       "  content: \"▸\";\n",
       "  float: left;\n",
       "  margin-right: 0.25em;\n",
       "  color: var(--sklearn-color-icon);\n",
       "}\n",
       "\n",
       "#sk-container-id-1 label.sk-toggleable__label-arrow:hover:before {\n",
       "  color: var(--sklearn-color-text);\n",
       "}\n",
       "\n",
       "/* Toggleable content - dropdown */\n",
       "\n",
       "#sk-container-id-1 div.sk-toggleable__content {\n",
       "  max-height: 0;\n",
       "  max-width: 0;\n",
       "  overflow: hidden;\n",
       "  text-align: left;\n",
       "  /* unfitted */\n",
       "  background-color: var(--sklearn-color-unfitted-level-0);\n",
       "}\n",
       "\n",
       "#sk-container-id-1 div.sk-toggleable__content.fitted {\n",
       "  /* fitted */\n",
       "  background-color: var(--sklearn-color-fitted-level-0);\n",
       "}\n",
       "\n",
       "#sk-container-id-1 div.sk-toggleable__content pre {\n",
       "  margin: 0.2em;\n",
       "  border-radius: 0.25em;\n",
       "  color: var(--sklearn-color-text);\n",
       "  /* unfitted */\n",
       "  background-color: var(--sklearn-color-unfitted-level-0);\n",
       "}\n",
       "\n",
       "#sk-container-id-1 div.sk-toggleable__content.fitted pre {\n",
       "  /* unfitted */\n",
       "  background-color: var(--sklearn-color-fitted-level-0);\n",
       "}\n",
       "\n",
       "#sk-container-id-1 input.sk-toggleable__control:checked~div.sk-toggleable__content {\n",
       "  /* Expand drop-down */\n",
       "  max-height: 200px;\n",
       "  max-width: 100%;\n",
       "  overflow: auto;\n",
       "}\n",
       "\n",
       "#sk-container-id-1 input.sk-toggleable__control:checked~label.sk-toggleable__label-arrow:before {\n",
       "  content: \"▾\";\n",
       "}\n",
       "\n",
       "/* Pipeline/ColumnTransformer-specific style */\n",
       "\n",
       "#sk-container-id-1 div.sk-label input.sk-toggleable__control:checked~label.sk-toggleable__label {\n",
       "  color: var(--sklearn-color-text);\n",
       "  background-color: var(--sklearn-color-unfitted-level-2);\n",
       "}\n",
       "\n",
       "#sk-container-id-1 div.sk-label.fitted input.sk-toggleable__control:checked~label.sk-toggleable__label {\n",
       "  background-color: var(--sklearn-color-fitted-level-2);\n",
       "}\n",
       "\n",
       "/* Estimator-specific style */\n",
       "\n",
       "/* Colorize estimator box */\n",
       "#sk-container-id-1 div.sk-estimator input.sk-toggleable__control:checked~label.sk-toggleable__label {\n",
       "  /* unfitted */\n",
       "  background-color: var(--sklearn-color-unfitted-level-2);\n",
       "}\n",
       "\n",
       "#sk-container-id-1 div.sk-estimator.fitted input.sk-toggleable__control:checked~label.sk-toggleable__label {\n",
       "  /* fitted */\n",
       "  background-color: var(--sklearn-color-fitted-level-2);\n",
       "}\n",
       "\n",
       "#sk-container-id-1 div.sk-label label.sk-toggleable__label,\n",
       "#sk-container-id-1 div.sk-label label {\n",
       "  /* The background is the default theme color */\n",
       "  color: var(--sklearn-color-text-on-default-background);\n",
       "}\n",
       "\n",
       "/* On hover, darken the color of the background */\n",
       "#sk-container-id-1 div.sk-label:hover label.sk-toggleable__label {\n",
       "  color: var(--sklearn-color-text);\n",
       "  background-color: var(--sklearn-color-unfitted-level-2);\n",
       "}\n",
       "\n",
       "/* Label box, darken color on hover, fitted */\n",
       "#sk-container-id-1 div.sk-label.fitted:hover label.sk-toggleable__label.fitted {\n",
       "  color: var(--sklearn-color-text);\n",
       "  background-color: var(--sklearn-color-fitted-level-2);\n",
       "}\n",
       "\n",
       "/* Estimator label */\n",
       "\n",
       "#sk-container-id-1 div.sk-label label {\n",
       "  font-family: monospace;\n",
       "  font-weight: bold;\n",
       "  display: inline-block;\n",
       "  line-height: 1.2em;\n",
       "}\n",
       "\n",
       "#sk-container-id-1 div.sk-label-container {\n",
       "  text-align: center;\n",
       "}\n",
       "\n",
       "/* Estimator-specific */\n",
       "#sk-container-id-1 div.sk-estimator {\n",
       "  font-family: monospace;\n",
       "  border: 1px dotted var(--sklearn-color-border-box);\n",
       "  border-radius: 0.25em;\n",
       "  box-sizing: border-box;\n",
       "  margin-bottom: 0.5em;\n",
       "  /* unfitted */\n",
       "  background-color: var(--sklearn-color-unfitted-level-0);\n",
       "}\n",
       "\n",
       "#sk-container-id-1 div.sk-estimator.fitted {\n",
       "  /* fitted */\n",
       "  background-color: var(--sklearn-color-fitted-level-0);\n",
       "}\n",
       "\n",
       "/* on hover */\n",
       "#sk-container-id-1 div.sk-estimator:hover {\n",
       "  /* unfitted */\n",
       "  background-color: var(--sklearn-color-unfitted-level-2);\n",
       "}\n",
       "\n",
       "#sk-container-id-1 div.sk-estimator.fitted:hover {\n",
       "  /* fitted */\n",
       "  background-color: var(--sklearn-color-fitted-level-2);\n",
       "}\n",
       "\n",
       "/* Specification for estimator info (e.g. \"i\" and \"?\") */\n",
       "\n",
       "/* Common style for \"i\" and \"?\" */\n",
       "\n",
       ".sk-estimator-doc-link,\n",
       "a:link.sk-estimator-doc-link,\n",
       "a:visited.sk-estimator-doc-link {\n",
       "  float: right;\n",
       "  font-size: smaller;\n",
       "  line-height: 1em;\n",
       "  font-family: monospace;\n",
       "  background-color: var(--sklearn-color-background);\n",
       "  border-radius: 1em;\n",
       "  height: 1em;\n",
       "  width: 1em;\n",
       "  text-decoration: none !important;\n",
       "  margin-left: 1ex;\n",
       "  /* unfitted */\n",
       "  border: var(--sklearn-color-unfitted-level-1) 1pt solid;\n",
       "  color: var(--sklearn-color-unfitted-level-1);\n",
       "}\n",
       "\n",
       ".sk-estimator-doc-link.fitted,\n",
       "a:link.sk-estimator-doc-link.fitted,\n",
       "a:visited.sk-estimator-doc-link.fitted {\n",
       "  /* fitted */\n",
       "  border: var(--sklearn-color-fitted-level-1) 1pt solid;\n",
       "  color: var(--sklearn-color-fitted-level-1);\n",
       "}\n",
       "\n",
       "/* On hover */\n",
       "div.sk-estimator:hover .sk-estimator-doc-link:hover,\n",
       ".sk-estimator-doc-link:hover,\n",
       "div.sk-label-container:hover .sk-estimator-doc-link:hover,\n",
       ".sk-estimator-doc-link:hover {\n",
       "  /* unfitted */\n",
       "  background-color: var(--sklearn-color-unfitted-level-3);\n",
       "  color: var(--sklearn-color-background);\n",
       "  text-decoration: none;\n",
       "}\n",
       "\n",
       "div.sk-estimator.fitted:hover .sk-estimator-doc-link.fitted:hover,\n",
       ".sk-estimator-doc-link.fitted:hover,\n",
       "div.sk-label-container:hover .sk-estimator-doc-link.fitted:hover,\n",
       ".sk-estimator-doc-link.fitted:hover {\n",
       "  /* fitted */\n",
       "  background-color: var(--sklearn-color-fitted-level-3);\n",
       "  color: var(--sklearn-color-background);\n",
       "  text-decoration: none;\n",
       "}\n",
       "\n",
       "/* Span, style for the box shown on hovering the info icon */\n",
       ".sk-estimator-doc-link span {\n",
       "  display: none;\n",
       "  z-index: 9999;\n",
       "  position: relative;\n",
       "  font-weight: normal;\n",
       "  right: .2ex;\n",
       "  padding: .5ex;\n",
       "  margin: .5ex;\n",
       "  width: min-content;\n",
       "  min-width: 20ex;\n",
       "  max-width: 50ex;\n",
       "  color: var(--sklearn-color-text);\n",
       "  box-shadow: 2pt 2pt 4pt #999;\n",
       "  /* unfitted */\n",
       "  background: var(--sklearn-color-unfitted-level-0);\n",
       "  border: .5pt solid var(--sklearn-color-unfitted-level-3);\n",
       "}\n",
       "\n",
       ".sk-estimator-doc-link.fitted span {\n",
       "  /* fitted */\n",
       "  background: var(--sklearn-color-fitted-level-0);\n",
       "  border: var(--sklearn-color-fitted-level-3);\n",
       "}\n",
       "\n",
       ".sk-estimator-doc-link:hover span {\n",
       "  display: block;\n",
       "}\n",
       "\n",
       "/* \"?\"-specific style due to the `<a>` HTML tag */\n",
       "\n",
       "#sk-container-id-1 a.estimator_doc_link {\n",
       "  float: right;\n",
       "  font-size: 1rem;\n",
       "  line-height: 1em;\n",
       "  font-family: monospace;\n",
       "  background-color: var(--sklearn-color-background);\n",
       "  border-radius: 1rem;\n",
       "  height: 1rem;\n",
       "  width: 1rem;\n",
       "  text-decoration: none;\n",
       "  /* unfitted */\n",
       "  color: var(--sklearn-color-unfitted-level-1);\n",
       "  border: var(--sklearn-color-unfitted-level-1) 1pt solid;\n",
       "}\n",
       "\n",
       "#sk-container-id-1 a.estimator_doc_link.fitted {\n",
       "  /* fitted */\n",
       "  border: var(--sklearn-color-fitted-level-1) 1pt solid;\n",
       "  color: var(--sklearn-color-fitted-level-1);\n",
       "}\n",
       "\n",
       "/* On hover */\n",
       "#sk-container-id-1 a.estimator_doc_link:hover {\n",
       "  /* unfitted */\n",
       "  background-color: var(--sklearn-color-unfitted-level-3);\n",
       "  color: var(--sklearn-color-background);\n",
       "  text-decoration: none;\n",
       "}\n",
       "\n",
       "#sk-container-id-1 a.estimator_doc_link.fitted:hover {\n",
       "  /* fitted */\n",
       "  background-color: var(--sklearn-color-fitted-level-3);\n",
       "}\n",
       "</style><div id=\"sk-container-id-1\" class=\"sk-top-container\"><div class=\"sk-text-repr-fallback\"><pre>RandomForestClassifier(max_depth=4, random_state=0)</pre><b>In a Jupyter environment, please rerun this cell to show the HTML representation or trust the notebook. <br />On GitHub, the HTML representation is unable to render, please try loading this page with nbviewer.org.</b></div><div class=\"sk-container\" hidden><div class=\"sk-item\"><div class=\"sk-estimator fitted sk-toggleable\"><input class=\"sk-toggleable__control sk-hidden--visually\" id=\"sk-estimator-id-1\" type=\"checkbox\" checked><label for=\"sk-estimator-id-1\" class=\"sk-toggleable__label fitted sk-toggleable__label-arrow fitted\">&nbsp;&nbsp;RandomForestClassifier<a class=\"sk-estimator-doc-link fitted\" rel=\"noreferrer\" target=\"_blank\" href=\"https://scikit-learn.org/1.5/modules/generated/sklearn.ensemble.RandomForestClassifier.html\">?<span>Documentation for RandomForestClassifier</span></a><span class=\"sk-estimator-doc-link fitted\">i<span>Fitted</span></span></label><div class=\"sk-toggleable__content fitted\"><pre>RandomForestClassifier(max_depth=4, random_state=0)</pre></div> </div></div></div></div>"
      ],
      "text/plain": [
       "RandomForestClassifier(max_depth=4, random_state=0)"
      ]
     },
     "execution_count": 45,
     "metadata": {},
     "output_type": "execute_result"
    }
   ],
   "source": [
    "from sklearn.ensemble import RandomForestClassifier\n",
    "\n",
    "clf = RandomForestClassifier(max_depth=4, random_state=0)\n",
    "clf.fit(X_train, y_train)"
   ]
  },
  {
   "cell_type": "code",
   "execution_count": 46,
   "metadata": {
    "execution": {
     "iopub.execute_input": "2025-03-03T02:41:33.360567Z",
     "iopub.status.busy": "2025-03-03T02:41:33.359570Z",
     "iopub.status.idle": "2025-03-03T02:41:33.370989Z",
     "shell.execute_reply": "2025-03-03T02:41:33.369981Z"
    },
    "id": "GojOvqfukH-D"
   },
   "outputs": [],
   "source": [
    "prediction = pd.DataFrame(clf.predict(X_test)).replace(target_labels, inplace=True)\n",
    "prediction"
   ]
  },
  {
   "cell_type": "code",
   "execution_count": 47,
   "metadata": {
    "colab": {
     "base_uri": "https://localhost:8080/"
    },
    "execution": {
     "iopub.execute_input": "2025-03-03T02:41:33.374990Z",
     "iopub.status.busy": "2025-03-03T02:41:33.374990Z",
     "iopub.status.idle": "2025-03-03T02:41:33.394505Z",
     "shell.execute_reply": "2025-03-03T02:41:33.394505Z"
    },
    "id": "_cyCeHUflrkM",
    "outputId": "fb269648-280e-4c84-e7e6-e8ffcfa3e97b"
   },
   "outputs": [
    {
     "name": "stdout",
     "output_type": "stream",
     "text": [
      "Training Accuracy: 0.851373182552504\n",
      "Test Accuracy: 0.7901639344262295\n"
     ]
    }
   ],
   "source": [
    "print(\"Training Accuracy:\", clf.score(X_train, y_train))\n",
    "print(\"Test Accuracy:\", clf.score(X_test, y_test))"
   ]
  },
  {
   "cell_type": "code",
   "execution_count": 48,
   "metadata": {
    "colab": {
     "base_uri": "https://localhost:8080/"
    },
    "execution": {
     "iopub.execute_input": "2025-03-03T02:41:33.397510Z",
     "iopub.status.busy": "2025-03-03T02:41:33.397510Z",
     "iopub.status.idle": "2025-03-03T02:41:34.113210Z",
     "shell.execute_reply": "2025-03-03T02:41:34.113210Z"
    },
    "id": "8NDGREsNDYSK",
    "outputId": "f4e0bfb9-1cf1-4b68-b1d6-a573f5f9bad8"
   },
   "outputs": [
    {
     "name": "stdout",
     "output_type": "stream",
     "text": [
      "Cross Validation Scores: [0.6        0.84864865 0.84324324 0.80487805 0.87804878]\n",
      "Average CV Score: 0.7949637442320368\n"
     ]
    }
   ],
   "source": [
    "from sklearn.model_selection import cross_val_score\n",
    "scores = cross_val_score(clf, df_X, df_y, cv=5)\n",
    "print(\"Cross Validation Scores:\", scores)\n",
    "print(\"Average CV Score:\", scores.mean())"
   ]
  },
  {
   "cell_type": "markdown",
   "metadata": {
    "id": "qrPF9TJ8Gvqa"
   },
   "source": [
    "# 6. Hyperparameter Tuning"
   ]
  },
  {
   "cell_type": "code",
   "execution_count": 49,
   "metadata": {
    "colab": {
     "base_uri": "https://localhost:8080/"
    },
    "execution": {
     "iopub.execute_input": "2025-03-03T02:41:34.116216Z",
     "iopub.status.busy": "2025-03-03T02:41:34.115234Z",
     "iopub.status.idle": "2025-03-03T02:41:34.120462Z",
     "shell.execute_reply": "2025-03-03T02:41:34.120462Z"
    },
    "id": "lrCrK4mABtVT",
    "outputId": "f16be207-ba2f-42c9-be2b-b2291f2615e8"
   },
   "outputs": [
    {
     "data": {
      "text/plain": [
       "{'n_estimators': array([100, 125, 150, 175, 200, 225, 250, 275, 300, 325, 350, 375, 400,\n",
       "        425, 450, 475, 500]),\n",
       " 'criterion': ['gini', 'entropy'],\n",
       " 'max_depth': array([1]),\n",
       " 'min_samples_split': array([1, 2, 3, 4, 5, 6]),\n",
       " 'min_samples_leaf': array([1, 2, 3, 4, 5, 6]),\n",
       " 'max_features': ['sqrt', 'log2']}"
      ]
     },
     "execution_count": 49,
     "metadata": {},
     "output_type": "execute_result"
    }
   ],
   "source": [
    "hyperparameters = {\n",
    "  'n_estimators': np.linspace(100, 500, 17, dtype=int),\n",
    "  'criterion': [\"gini\", \"entropy\"],\n",
    "  'max_depth': np.linspace(1, 4, 1, dtype=int),\n",
    "  'min_samples_split': np.linspace(1, 6, 6, dtype=int),\n",
    "  'min_samples_leaf': np.linspace(1, 6, 6, dtype=int),\n",
    "  'max_features': [\"sqrt\", \"log2\"]\n",
    "}\n",
    "hyperparameters"
   ]
  },
  {
   "cell_type": "code",
   "execution_count": 50,
   "metadata": {
    "colab": {
     "base_uri": "https://localhost:8080/"
    },
    "execution": {
     "iopub.execute_input": "2025-03-03T02:41:34.122469Z",
     "iopub.status.busy": "2025-03-03T02:41:34.122469Z",
     "iopub.status.idle": "2025-03-03T02:41:34.125958Z",
     "shell.execute_reply": "2025-03-03T02:41:34.125958Z"
    },
    "id": "CXFn13EqMCNa",
    "outputId": "cc300371-e80f-4108-d0f1-a371675f6847"
   },
   "outputs": [
    {
     "name": "stdout",
     "output_type": "stream",
     "text": [
      "Total Models: 2448\n",
      "Total Calc: 12240\n"
     ]
    }
   ],
   "source": [
    "total_hyperparams = [len(attr) for attr in hyperparameters.values()]\n",
    "total_model_count = 0\n",
    "for i in total_hyperparams:\n",
    "  if total_model_count == 0:\n",
    "    total_model_count = i\n",
    "  else:\n",
    "    total_model_count *= i\n",
    "print(f\"Total Models: {total_model_count}\")\n",
    "print(f\"Total Calc: {total_model_count * 5}\")"
   ]
  },
  {
   "cell_type": "code",
   "execution_count": 51,
   "metadata": {
    "colab": {
     "base_uri": "https://localhost:8080/",
     "height": 246
    },
    "execution": {
     "iopub.execute_input": "2025-03-03T02:41:34.127963Z",
     "iopub.status.busy": "2025-03-03T02:41:34.126964Z",
     "iopub.status.idle": "2025-03-03T02:41:34.129967Z",
     "shell.execute_reply": "2025-03-03T02:41:34.129967Z"
    },
    "id": "p-T77qQVGbEK",
    "outputId": "3c1de760-9dbb-4842-9b51-05e501188720"
   },
   "outputs": [],
   "source": [
    "# from sklearn.model_selection import GridSearchCV\n",
    "# gridSearch = GridSearchCV(clf, hyperparameters, n_jobs=-1, verbose=2)\n",
    "# gridSearch.fit(X_train, y_train)"
   ]
  },
  {
   "cell_type": "code",
   "execution_count": 52,
   "metadata": {
    "colab": {
     "base_uri": "https://localhost:8080/",
     "height": 97
    },
    "execution": {
     "iopub.execute_input": "2025-03-03T02:41:34.131998Z",
     "iopub.status.busy": "2025-03-03T02:41:34.130997Z",
     "iopub.status.idle": "2025-03-03T02:41:34.446676Z",
     "shell.execute_reply": "2025-03-03T02:41:34.446676Z"
    },
    "id": "VYNQFNcGPatS",
    "outputId": "71856509-76de-430f-900c-ebdc03b2972e"
   },
   "outputs": [
    {
     "data": {
      "text/html": [
       "<style>#sk-container-id-2 {\n",
       "  /* Definition of color scheme common for light and dark mode */\n",
       "  --sklearn-color-text: black;\n",
       "  --sklearn-color-line: gray;\n",
       "  /* Definition of color scheme for unfitted estimators */\n",
       "  --sklearn-color-unfitted-level-0: #fff5e6;\n",
       "  --sklearn-color-unfitted-level-1: #f6e4d2;\n",
       "  --sklearn-color-unfitted-level-2: #ffe0b3;\n",
       "  --sklearn-color-unfitted-level-3: chocolate;\n",
       "  /* Definition of color scheme for fitted estimators */\n",
       "  --sklearn-color-fitted-level-0: #f0f8ff;\n",
       "  --sklearn-color-fitted-level-1: #d4ebff;\n",
       "  --sklearn-color-fitted-level-2: #b3dbfd;\n",
       "  --sklearn-color-fitted-level-3: cornflowerblue;\n",
       "\n",
       "  /* Specific color for light theme */\n",
       "  --sklearn-color-text-on-default-background: var(--sg-text-color, var(--theme-code-foreground, var(--jp-content-font-color1, black)));\n",
       "  --sklearn-color-background: var(--sg-background-color, var(--theme-background, var(--jp-layout-color0, white)));\n",
       "  --sklearn-color-border-box: var(--sg-text-color, var(--theme-code-foreground, var(--jp-content-font-color1, black)));\n",
       "  --sklearn-color-icon: #696969;\n",
       "\n",
       "  @media (prefers-color-scheme: dark) {\n",
       "    /* Redefinition of color scheme for dark theme */\n",
       "    --sklearn-color-text-on-default-background: var(--sg-text-color, var(--theme-code-foreground, var(--jp-content-font-color1, white)));\n",
       "    --sklearn-color-background: var(--sg-background-color, var(--theme-background, var(--jp-layout-color0, #111)));\n",
       "    --sklearn-color-border-box: var(--sg-text-color, var(--theme-code-foreground, var(--jp-content-font-color1, white)));\n",
       "    --sklearn-color-icon: #878787;\n",
       "  }\n",
       "}\n",
       "\n",
       "#sk-container-id-2 {\n",
       "  color: var(--sklearn-color-text);\n",
       "}\n",
       "\n",
       "#sk-container-id-2 pre {\n",
       "  padding: 0;\n",
       "}\n",
       "\n",
       "#sk-container-id-2 input.sk-hidden--visually {\n",
       "  border: 0;\n",
       "  clip: rect(1px 1px 1px 1px);\n",
       "  clip: rect(1px, 1px, 1px, 1px);\n",
       "  height: 1px;\n",
       "  margin: -1px;\n",
       "  overflow: hidden;\n",
       "  padding: 0;\n",
       "  position: absolute;\n",
       "  width: 1px;\n",
       "}\n",
       "\n",
       "#sk-container-id-2 div.sk-dashed-wrapped {\n",
       "  border: 1px dashed var(--sklearn-color-line);\n",
       "  margin: 0 0.4em 0.5em 0.4em;\n",
       "  box-sizing: border-box;\n",
       "  padding-bottom: 0.4em;\n",
       "  background-color: var(--sklearn-color-background);\n",
       "}\n",
       "\n",
       "#sk-container-id-2 div.sk-container {\n",
       "  /* jupyter's `normalize.less` sets `[hidden] { display: none; }`\n",
       "     but bootstrap.min.css set `[hidden] { display: none !important; }`\n",
       "     so we also need the `!important` here to be able to override the\n",
       "     default hidden behavior on the sphinx rendered scikit-learn.org.\n",
       "     See: https://github.com/scikit-learn/scikit-learn/issues/21755 */\n",
       "  display: inline-block !important;\n",
       "  position: relative;\n",
       "}\n",
       "\n",
       "#sk-container-id-2 div.sk-text-repr-fallback {\n",
       "  display: none;\n",
       "}\n",
       "\n",
       "div.sk-parallel-item,\n",
       "div.sk-serial,\n",
       "div.sk-item {\n",
       "  /* draw centered vertical line to link estimators */\n",
       "  background-image: linear-gradient(var(--sklearn-color-text-on-default-background), var(--sklearn-color-text-on-default-background));\n",
       "  background-size: 2px 100%;\n",
       "  background-repeat: no-repeat;\n",
       "  background-position: center center;\n",
       "}\n",
       "\n",
       "/* Parallel-specific style estimator block */\n",
       "\n",
       "#sk-container-id-2 div.sk-parallel-item::after {\n",
       "  content: \"\";\n",
       "  width: 100%;\n",
       "  border-bottom: 2px solid var(--sklearn-color-text-on-default-background);\n",
       "  flex-grow: 1;\n",
       "}\n",
       "\n",
       "#sk-container-id-2 div.sk-parallel {\n",
       "  display: flex;\n",
       "  align-items: stretch;\n",
       "  justify-content: center;\n",
       "  background-color: var(--sklearn-color-background);\n",
       "  position: relative;\n",
       "}\n",
       "\n",
       "#sk-container-id-2 div.sk-parallel-item {\n",
       "  display: flex;\n",
       "  flex-direction: column;\n",
       "}\n",
       "\n",
       "#sk-container-id-2 div.sk-parallel-item:first-child::after {\n",
       "  align-self: flex-end;\n",
       "  width: 50%;\n",
       "}\n",
       "\n",
       "#sk-container-id-2 div.sk-parallel-item:last-child::after {\n",
       "  align-self: flex-start;\n",
       "  width: 50%;\n",
       "}\n",
       "\n",
       "#sk-container-id-2 div.sk-parallel-item:only-child::after {\n",
       "  width: 0;\n",
       "}\n",
       "\n",
       "/* Serial-specific style estimator block */\n",
       "\n",
       "#sk-container-id-2 div.sk-serial {\n",
       "  display: flex;\n",
       "  flex-direction: column;\n",
       "  align-items: center;\n",
       "  background-color: var(--sklearn-color-background);\n",
       "  padding-right: 1em;\n",
       "  padding-left: 1em;\n",
       "}\n",
       "\n",
       "\n",
       "/* Toggleable style: style used for estimator/Pipeline/ColumnTransformer box that is\n",
       "clickable and can be expanded/collapsed.\n",
       "- Pipeline and ColumnTransformer use this feature and define the default style\n",
       "- Estimators will overwrite some part of the style using the `sk-estimator` class\n",
       "*/\n",
       "\n",
       "/* Pipeline and ColumnTransformer style (default) */\n",
       "\n",
       "#sk-container-id-2 div.sk-toggleable {\n",
       "  /* Default theme specific background. It is overwritten whether we have a\n",
       "  specific estimator or a Pipeline/ColumnTransformer */\n",
       "  background-color: var(--sklearn-color-background);\n",
       "}\n",
       "\n",
       "/* Toggleable label */\n",
       "#sk-container-id-2 label.sk-toggleable__label {\n",
       "  cursor: pointer;\n",
       "  display: block;\n",
       "  width: 100%;\n",
       "  margin-bottom: 0;\n",
       "  padding: 0.5em;\n",
       "  box-sizing: border-box;\n",
       "  text-align: center;\n",
       "}\n",
       "\n",
       "#sk-container-id-2 label.sk-toggleable__label-arrow:before {\n",
       "  /* Arrow on the left of the label */\n",
       "  content: \"▸\";\n",
       "  float: left;\n",
       "  margin-right: 0.25em;\n",
       "  color: var(--sklearn-color-icon);\n",
       "}\n",
       "\n",
       "#sk-container-id-2 label.sk-toggleable__label-arrow:hover:before {\n",
       "  color: var(--sklearn-color-text);\n",
       "}\n",
       "\n",
       "/* Toggleable content - dropdown */\n",
       "\n",
       "#sk-container-id-2 div.sk-toggleable__content {\n",
       "  max-height: 0;\n",
       "  max-width: 0;\n",
       "  overflow: hidden;\n",
       "  text-align: left;\n",
       "  /* unfitted */\n",
       "  background-color: var(--sklearn-color-unfitted-level-0);\n",
       "}\n",
       "\n",
       "#sk-container-id-2 div.sk-toggleable__content.fitted {\n",
       "  /* fitted */\n",
       "  background-color: var(--sklearn-color-fitted-level-0);\n",
       "}\n",
       "\n",
       "#sk-container-id-2 div.sk-toggleable__content pre {\n",
       "  margin: 0.2em;\n",
       "  border-radius: 0.25em;\n",
       "  color: var(--sklearn-color-text);\n",
       "  /* unfitted */\n",
       "  background-color: var(--sklearn-color-unfitted-level-0);\n",
       "}\n",
       "\n",
       "#sk-container-id-2 div.sk-toggleable__content.fitted pre {\n",
       "  /* unfitted */\n",
       "  background-color: var(--sklearn-color-fitted-level-0);\n",
       "}\n",
       "\n",
       "#sk-container-id-2 input.sk-toggleable__control:checked~div.sk-toggleable__content {\n",
       "  /* Expand drop-down */\n",
       "  max-height: 200px;\n",
       "  max-width: 100%;\n",
       "  overflow: auto;\n",
       "}\n",
       "\n",
       "#sk-container-id-2 input.sk-toggleable__control:checked~label.sk-toggleable__label-arrow:before {\n",
       "  content: \"▾\";\n",
       "}\n",
       "\n",
       "/* Pipeline/ColumnTransformer-specific style */\n",
       "\n",
       "#sk-container-id-2 div.sk-label input.sk-toggleable__control:checked~label.sk-toggleable__label {\n",
       "  color: var(--sklearn-color-text);\n",
       "  background-color: var(--sklearn-color-unfitted-level-2);\n",
       "}\n",
       "\n",
       "#sk-container-id-2 div.sk-label.fitted input.sk-toggleable__control:checked~label.sk-toggleable__label {\n",
       "  background-color: var(--sklearn-color-fitted-level-2);\n",
       "}\n",
       "\n",
       "/* Estimator-specific style */\n",
       "\n",
       "/* Colorize estimator box */\n",
       "#sk-container-id-2 div.sk-estimator input.sk-toggleable__control:checked~label.sk-toggleable__label {\n",
       "  /* unfitted */\n",
       "  background-color: var(--sklearn-color-unfitted-level-2);\n",
       "}\n",
       "\n",
       "#sk-container-id-2 div.sk-estimator.fitted input.sk-toggleable__control:checked~label.sk-toggleable__label {\n",
       "  /* fitted */\n",
       "  background-color: var(--sklearn-color-fitted-level-2);\n",
       "}\n",
       "\n",
       "#sk-container-id-2 div.sk-label label.sk-toggleable__label,\n",
       "#sk-container-id-2 div.sk-label label {\n",
       "  /* The background is the default theme color */\n",
       "  color: var(--sklearn-color-text-on-default-background);\n",
       "}\n",
       "\n",
       "/* On hover, darken the color of the background */\n",
       "#sk-container-id-2 div.sk-label:hover label.sk-toggleable__label {\n",
       "  color: var(--sklearn-color-text);\n",
       "  background-color: var(--sklearn-color-unfitted-level-2);\n",
       "}\n",
       "\n",
       "/* Label box, darken color on hover, fitted */\n",
       "#sk-container-id-2 div.sk-label.fitted:hover label.sk-toggleable__label.fitted {\n",
       "  color: var(--sklearn-color-text);\n",
       "  background-color: var(--sklearn-color-fitted-level-2);\n",
       "}\n",
       "\n",
       "/* Estimator label */\n",
       "\n",
       "#sk-container-id-2 div.sk-label label {\n",
       "  font-family: monospace;\n",
       "  font-weight: bold;\n",
       "  display: inline-block;\n",
       "  line-height: 1.2em;\n",
       "}\n",
       "\n",
       "#sk-container-id-2 div.sk-label-container {\n",
       "  text-align: center;\n",
       "}\n",
       "\n",
       "/* Estimator-specific */\n",
       "#sk-container-id-2 div.sk-estimator {\n",
       "  font-family: monospace;\n",
       "  border: 1px dotted var(--sklearn-color-border-box);\n",
       "  border-radius: 0.25em;\n",
       "  box-sizing: border-box;\n",
       "  margin-bottom: 0.5em;\n",
       "  /* unfitted */\n",
       "  background-color: var(--sklearn-color-unfitted-level-0);\n",
       "}\n",
       "\n",
       "#sk-container-id-2 div.sk-estimator.fitted {\n",
       "  /* fitted */\n",
       "  background-color: var(--sklearn-color-fitted-level-0);\n",
       "}\n",
       "\n",
       "/* on hover */\n",
       "#sk-container-id-2 div.sk-estimator:hover {\n",
       "  /* unfitted */\n",
       "  background-color: var(--sklearn-color-unfitted-level-2);\n",
       "}\n",
       "\n",
       "#sk-container-id-2 div.sk-estimator.fitted:hover {\n",
       "  /* fitted */\n",
       "  background-color: var(--sklearn-color-fitted-level-2);\n",
       "}\n",
       "\n",
       "/* Specification for estimator info (e.g. \"i\" and \"?\") */\n",
       "\n",
       "/* Common style for \"i\" and \"?\" */\n",
       "\n",
       ".sk-estimator-doc-link,\n",
       "a:link.sk-estimator-doc-link,\n",
       "a:visited.sk-estimator-doc-link {\n",
       "  float: right;\n",
       "  font-size: smaller;\n",
       "  line-height: 1em;\n",
       "  font-family: monospace;\n",
       "  background-color: var(--sklearn-color-background);\n",
       "  border-radius: 1em;\n",
       "  height: 1em;\n",
       "  width: 1em;\n",
       "  text-decoration: none !important;\n",
       "  margin-left: 1ex;\n",
       "  /* unfitted */\n",
       "  border: var(--sklearn-color-unfitted-level-1) 1pt solid;\n",
       "  color: var(--sklearn-color-unfitted-level-1);\n",
       "}\n",
       "\n",
       ".sk-estimator-doc-link.fitted,\n",
       "a:link.sk-estimator-doc-link.fitted,\n",
       "a:visited.sk-estimator-doc-link.fitted {\n",
       "  /* fitted */\n",
       "  border: var(--sklearn-color-fitted-level-1) 1pt solid;\n",
       "  color: var(--sklearn-color-fitted-level-1);\n",
       "}\n",
       "\n",
       "/* On hover */\n",
       "div.sk-estimator:hover .sk-estimator-doc-link:hover,\n",
       ".sk-estimator-doc-link:hover,\n",
       "div.sk-label-container:hover .sk-estimator-doc-link:hover,\n",
       ".sk-estimator-doc-link:hover {\n",
       "  /* unfitted */\n",
       "  background-color: var(--sklearn-color-unfitted-level-3);\n",
       "  color: var(--sklearn-color-background);\n",
       "  text-decoration: none;\n",
       "}\n",
       "\n",
       "div.sk-estimator.fitted:hover .sk-estimator-doc-link.fitted:hover,\n",
       ".sk-estimator-doc-link.fitted:hover,\n",
       "div.sk-label-container:hover .sk-estimator-doc-link.fitted:hover,\n",
       ".sk-estimator-doc-link.fitted:hover {\n",
       "  /* fitted */\n",
       "  background-color: var(--sklearn-color-fitted-level-3);\n",
       "  color: var(--sklearn-color-background);\n",
       "  text-decoration: none;\n",
       "}\n",
       "\n",
       "/* Span, style for the box shown on hovering the info icon */\n",
       ".sk-estimator-doc-link span {\n",
       "  display: none;\n",
       "  z-index: 9999;\n",
       "  position: relative;\n",
       "  font-weight: normal;\n",
       "  right: .2ex;\n",
       "  padding: .5ex;\n",
       "  margin: .5ex;\n",
       "  width: min-content;\n",
       "  min-width: 20ex;\n",
       "  max-width: 50ex;\n",
       "  color: var(--sklearn-color-text);\n",
       "  box-shadow: 2pt 2pt 4pt #999;\n",
       "  /* unfitted */\n",
       "  background: var(--sklearn-color-unfitted-level-0);\n",
       "  border: .5pt solid var(--sklearn-color-unfitted-level-3);\n",
       "}\n",
       "\n",
       ".sk-estimator-doc-link.fitted span {\n",
       "  /* fitted */\n",
       "  background: var(--sklearn-color-fitted-level-0);\n",
       "  border: var(--sklearn-color-fitted-level-3);\n",
       "}\n",
       "\n",
       ".sk-estimator-doc-link:hover span {\n",
       "  display: block;\n",
       "}\n",
       "\n",
       "/* \"?\"-specific style due to the `<a>` HTML tag */\n",
       "\n",
       "#sk-container-id-2 a.estimator_doc_link {\n",
       "  float: right;\n",
       "  font-size: 1rem;\n",
       "  line-height: 1em;\n",
       "  font-family: monospace;\n",
       "  background-color: var(--sklearn-color-background);\n",
       "  border-radius: 1rem;\n",
       "  height: 1rem;\n",
       "  width: 1rem;\n",
       "  text-decoration: none;\n",
       "  /* unfitted */\n",
       "  color: var(--sklearn-color-unfitted-level-1);\n",
       "  border: var(--sklearn-color-unfitted-level-1) 1pt solid;\n",
       "}\n",
       "\n",
       "#sk-container-id-2 a.estimator_doc_link.fitted {\n",
       "  /* fitted */\n",
       "  border: var(--sklearn-color-fitted-level-1) 1pt solid;\n",
       "  color: var(--sklearn-color-fitted-level-1);\n",
       "}\n",
       "\n",
       "/* On hover */\n",
       "#sk-container-id-2 a.estimator_doc_link:hover {\n",
       "  /* unfitted */\n",
       "  background-color: var(--sklearn-color-unfitted-level-3);\n",
       "  color: var(--sklearn-color-background);\n",
       "  text-decoration: none;\n",
       "}\n",
       "\n",
       "#sk-container-id-2 a.estimator_doc_link.fitted:hover {\n",
       "  /* fitted */\n",
       "  background-color: var(--sklearn-color-fitted-level-3);\n",
       "}\n",
       "</style><div id=\"sk-container-id-2\" class=\"sk-top-container\"><div class=\"sk-text-repr-fallback\"><pre>RandomForestClassifier(criterion=&#x27;entropy&#x27;, max_depth=4, min_samples_leaf=4,\n",
       "                       n_estimators=175, random_state=0)</pre><b>In a Jupyter environment, please rerun this cell to show the HTML representation or trust the notebook. <br />On GitHub, the HTML representation is unable to render, please try loading this page with nbviewer.org.</b></div><div class=\"sk-container\" hidden><div class=\"sk-item\"><div class=\"sk-estimator fitted sk-toggleable\"><input class=\"sk-toggleable__control sk-hidden--visually\" id=\"sk-estimator-id-2\" type=\"checkbox\" checked><label for=\"sk-estimator-id-2\" class=\"sk-toggleable__label fitted sk-toggleable__label-arrow fitted\">&nbsp;&nbsp;RandomForestClassifier<a class=\"sk-estimator-doc-link fitted\" rel=\"noreferrer\" target=\"_blank\" href=\"https://scikit-learn.org/1.5/modules/generated/sklearn.ensemble.RandomForestClassifier.html\">?<span>Documentation for RandomForestClassifier</span></a><span class=\"sk-estimator-doc-link fitted\">i<span>Fitted</span></span></label><div class=\"sk-toggleable__content fitted\"><pre>RandomForestClassifier(criterion=&#x27;entropy&#x27;, max_depth=4, min_samples_leaf=4,\n",
       "                       n_estimators=175, random_state=0)</pre></div> </div></div></div></div>"
      ],
      "text/plain": [
       "RandomForestClassifier(criterion='entropy', max_depth=4, min_samples_leaf=4,\n",
       "                       n_estimators=175, random_state=0)"
      ]
     },
     "execution_count": 52,
     "metadata": {},
     "output_type": "execute_result"
    }
   ],
   "source": [
    "new_clf = RandomForestClassifier(criterion='entropy', max_depth=4, min_samples_leaf=4,\n",
    "                        n_estimators=175, random_state=0)\n",
    "\n",
    "new_clf.fit(X_train, y_train)"
   ]
  },
  {
   "cell_type": "code",
   "execution_count": 53,
   "metadata": {
    "colab": {
     "base_uri": "https://localhost:8080/"
    },
    "execution": {
     "iopub.execute_input": "2025-03-03T02:41:34.449683Z",
     "iopub.status.busy": "2025-03-03T02:41:34.449683Z",
     "iopub.status.idle": "2025-03-03T02:41:34.474703Z",
     "shell.execute_reply": "2025-03-03T02:41:34.474703Z"
    },
    "id": "A0cVvpmTPcfA",
    "outputId": "373a9913-1379-4737-cb5a-882b00829ee8"
   },
   "outputs": [
    {
     "name": "stdout",
     "output_type": "stream",
     "text": [
      "Training Accuracy: 0.8602584814216478\n",
      "Test Accuracy: 0.8163934426229508\n"
     ]
    }
   ],
   "source": [
    "print(\"Training Accuracy:\", new_clf.score(X_train, y_train))\n",
    "print(\"Test Accuracy:\", new_clf.score(X_test, y_test))"
   ]
  },
  {
   "cell_type": "code",
   "execution_count": 54,
   "metadata": {
    "colab": {
     "base_uri": "https://localhost:8080/"
    },
    "execution": {
     "iopub.execute_input": "2025-03-03T02:41:34.476711Z",
     "iopub.status.busy": "2025-03-03T02:41:34.476711Z",
     "iopub.status.idle": "2025-03-03T02:41:36.152916Z",
     "shell.execute_reply": "2025-03-03T02:41:36.152916Z"
    },
    "id": "zBtDYxUBQMLS",
    "outputId": "0ad86fed-6d9d-439e-a568-d49896f243db"
   },
   "outputs": [
    {
     "name": "stdout",
     "output_type": "stream",
     "text": [
      "Cross Validation Scores: [0.62972973 0.86486486 0.88108108 0.86449864 0.89159892]\n",
      "Average CV Score: 0.826354647330257\n"
     ]
    }
   ],
   "source": [
    "from sklearn.model_selection import cross_val_score\n",
    "scores = cross_val_score(new_clf, df_X, df_y, cv=5)\n",
    "print(\"Cross Validation Scores:\", scores)\n",
    "print(\"Average CV Score:\", scores.mean())"
   ]
  },
  {
   "cell_type": "code",
   "execution_count": 55,
   "metadata": {
    "execution": {
     "iopub.execute_input": "2025-03-03T02:41:36.155925Z",
     "iopub.status.busy": "2025-03-03T02:41:36.154923Z",
     "iopub.status.idle": "2025-03-03T02:41:36.179400Z",
     "shell.execute_reply": "2025-03-03T02:41:36.179400Z"
    }
   },
   "outputs": [
    {
     "data": {
      "text/plain": [
       "(array([0.06313634, 0.15367051, 0.26845368, 0.25471432, 0.16463736]),\n",
       " array([0.34587513, 0.43507642, 0.11712028, 0.06378608, 0.02049207]))"
      ]
     },
     "execution_count": 55,
     "metadata": {},
     "output_type": "execute_result"
    }
   ],
   "source": [
    "y_train_pred = new_clf.predict_proba(X_train)\n",
    "y_test_pred = new_clf.predict_proba(X_test)\n",
    "y_train_pred[0][:5], y_test_pred[0][:5]"
   ]
  },
  {
   "cell_type": "code",
   "execution_count": 56,
   "metadata": {
    "execution": {
     "iopub.execute_input": "2025-03-03T02:41:36.181745Z",
     "iopub.status.busy": "2025-03-03T02:41:36.181745Z",
     "iopub.status.idle": "2025-03-03T02:41:36.194282Z",
     "shell.execute_reply": "2025-03-03T02:41:36.193775Z"
    }
   },
   "outputs": [
    {
     "name": "stdout",
     "output_type": "stream",
     "text": [
      "Train AUC: 0.9819718636646568\n",
      "Test AUC: 0.9714353619870293\n"
     ]
    }
   ],
   "source": [
    "from sklearn.metrics import roc_auc_score\n",
    "\n",
    "print(f'Train AUC: {roc_auc_score(y_train, y_train_pred, multi_class='ovr')}')\n",
    "print(f'Test AUC: {roc_auc_score(y_test, y_test_pred, multi_class='ovr')}')"
   ]
  },
  {
   "cell_type": "code",
   "execution_count": 57,
   "metadata": {
    "execution": {
     "iopub.execute_input": "2025-03-03T02:41:36.196286Z",
     "iopub.status.busy": "2025-03-03T02:41:36.195284Z",
     "iopub.status.idle": "2025-03-03T02:41:36.306351Z",
     "shell.execute_reply": "2025-03-03T02:41:36.306351Z"
    }
   },
   "outputs": [
    {
     "data": {
      "text/plain": [
       "<Axes: >"
      ]
     },
     "execution_count": 57,
     "metadata": {},
     "output_type": "execute_result"
    },
    {
     "data": {
      "image/png": "[encoded data removed]",
      "text/plain": [
       "<Figure size 640x480 with 1 Axes>"
      ]
     },
     "metadata": {},
     "output_type": "display_data"
    }
   ],
   "source": [
    "feature_importances = pd.Series(new_clf.feature_importances_, index=X_train.columns)\n",
    "feature_importances.nlargest(10).plot(kind='barh')"
   ]
  },
  {
   "cell_type": "code",
   "execution_count": 58,
   "metadata": {
    "execution": {
     "iopub.execute_input": "2025-03-03T02:41:36.309360Z",
     "iopub.status.busy": "2025-03-03T02:41:36.308362Z",
     "iopub.status.idle": "2025-03-03T02:41:36.324517Z",
     "shell.execute_reply": "2025-03-03T02:41:36.324517Z"
    }
   },
   "outputs": [
    {
     "data": {
      "text/plain": [
       "Obesity\n",
       "1          0.195082\n",
       "6          0.165574\n",
       "5          0.163934\n",
       "4          0.142623\n",
       "3          0.127869\n",
       "0          0.114754\n",
       "2          0.090164\n",
       "Name: proportion, dtype: float64"
      ]
     },
     "execution_count": 58,
     "metadata": {},
     "output_type": "execute_result"
    }
   ],
   "source": [
    "pd.DataFrame(new_clf.predict(X_test), columns=['Obesity']).value_counts(normalize=True)"
   ]
  },
  {
   "cell_type": "code",
   "execution_count": 59,
   "metadata": {
    "execution": {
     "iopub.execute_input": "2025-03-03T02:41:36.326762Z",
     "iopub.status.busy": "2025-03-03T02:41:36.326762Z",
     "iopub.status.idle": "2025-03-03T02:41:37.988508Z",
     "shell.execute_reply": "2025-03-03T02:41:37.988508Z"
    }
   },
   "outputs": [
    {
     "name": "stdout",
     "output_type": "stream",
     "text": [
      "Training Accuracy: 0.8602584814216478\n",
      "Test Accuracy: 0.8163934426229508\n"
     ]
    },
    {
     "name": "stdout",
     "output_type": "stream",
     "text": [
      "Cross Validation Scores: [0.62972973 0.86486486 0.88108108 0.86449864 0.89159892]\n",
      "Average CV Score: 0.826354647330257\n",
      "Train Confusion Matrix: [[146  14   0   0   0   0   0]\n",
      " [  2 175   6   5   1   0   0]\n",
      " [  0  26 113  25   4   0   1]\n",
      " [  0  18   6 128  17   2   0]\n",
      " [  0   4   0  15 137  12   8]\n",
      " [  0   1   0   0   2 160   4]\n",
      " [  0   0   0   0   0   0 206]]\n",
      "Test Confusion Matrix: [[70 15  0  0  0  0  0]\n",
      " [ 0 77  5  2  0  0  0]\n",
      " [ 0 16 45 16  5  0  0]\n",
      " [ 0 10  4 49  9  0  0]\n",
      " [ 0  1  1 11 72 12  2]\n",
      " [ 0  0  0  0  1 88  2]\n",
      " [ 0  0  0  0  0  0 97]]\n",
      "Train Recall Score: 0.8560137020172416\n",
      "Test Recall Score: 0.8091196880139286\n",
      "Train Precision Score: 0.8681108819296017\n",
      "Test Precision Score: 0.82306114520241\n",
      "Train F1 Score: 0.8573574536456494\n",
      "Test F1 Score: 0.8067959475401322\n"
     ]
    }
   ],
   "source": [
    "print_eval(new_clf, X_train, X_test, y_train, y_test, df_X, df_y)"
   ]
  },
  {
   "cell_type": "markdown",
   "metadata": {
    "id": "VlwhPWMEGxxh"
   },
   "source": [
    "# 7. Model Deployment"
   ]
  },
  {
   "cell_type": "code",
   "execution_count": 60,
   "metadata": {
    "execution": {
     "iopub.execute_input": "2025-03-03T02:41:37.990515Z",
     "iopub.status.busy": "2025-03-03T02:41:37.989514Z",
     "iopub.status.idle": "2025-03-03T02:41:37.999513Z",
     "shell.execute_reply": "2025-03-03T02:41:37.999513Z"
    }
   },
   "outputs": [],
   "source": [
    "import pickle\n",
    "\n",
    "filename = \"model.pkl\"\n",
    "pickle.dump(new_clf, open(filename, 'wb'))"
   ]
  }
 ],
 "metadata": {
  "colab": {
   "collapsed_sections": [
    "QRLz_qFp6zOB",
    "AIKgGW0pk5d-",
    "ih7MOmV6vHLe",
    "gOKQJOIFvLzW",
    "Rnzwf2IyxQzP",
    "QoxNCRZQvZi4",
    "2ME6idvjxVrs",
    "l71EA-jEwSab",
    "RAuk9REEwprv",
    "hkxR6Stby1QO",
    "iDO_Bn6t658T",
    "RCTm3y1k7Kzg",
    "H6ydIBwpIJro",
    "3_ZtJrb1IOqn",
    "6-3UWyHzPb_h",
    "yGZbmEfnQVE_",
    "KNh-OrBEuezE",
    "ouCLngxgs4lF",
    "O6xwYOdQ5Xca",
    "weI4do7y19A8",
    "oP1RMAJ-6m2V",
    "NUDyR67zBExk"
   ],
   "provenance": [],
   "toc_visible": true
  },
  "kernelspec": {
   "display_name": "Python 3",
   "name": "python3"
  },
  "language_info": {
   "codemirror_mode": {
    "name": "ipython",
    "version": 3
   },
   "file_extension": ".py",
   "mimetype": "text/x-python",
   "name": "python",
   "nbconvert_exporter": "python",
   "pygments_lexer": "ipython3",
   "version": "3.12.7"
  }
 },
 "nbformat": 4,
 "nbformat_minor": 0
}
